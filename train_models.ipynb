{
 "cells": [
  {
   "cell_type": "markdown",
   "metadata": {},
   "source": [
    "# Train Models\n",
    "\n",
    "This notebook trains the followiing models on multiple trials to test the performance of the models on the dataset."
   ]
  },
  {
   "cell_type": "code",
   "execution_count": 91,
   "metadata": {},
   "outputs": [],
   "source": [
    "import pandas as pd\n",
    "import numpy as np\n",
    "import re\n",
    "import os\n",
    "from matplotlib.colors import hex2color\n",
    "import matplotlib.pyplot as plt\n",
    "from gensim.models import Word2Vec\n",
    "from sklearn.ensemble import RandomForestClassifier\n",
    "from sklearn.metrics import classification_report, accuracy_score\n",
    "from sklearn.model_selection import train_test_split\n",
    "from sklearn.naive_bayes import GaussianNB\n",
    "from tqdm import tqdm\n",
    "import json\n",
    "from tensorflow.keras.models import Sequential\n",
    "from tensorflow.keras.layers import Conv1D, GlobalMaxPooling1D, Dense\n",
    "from sklearn.preprocessing import LabelEncoder"
   ]
  },
  {
   "cell_type": "markdown",
   "metadata": {},
   "source": [
    "## Reusable functions"
   ]
  },
  {
   "cell_type": "code",
   "execution_count": 92,
   "metadata": {},
   "outputs": [],
   "source": [
    "def load_dataset(filepath):\n",
    "    df = pd.read_csv(filepath)\n",
    "\n",
    "    # Rename columns\n",
    "    df.rename(columns={\"type\": \"target\"}, inplace=True)\n",
    "\n",
    "    # Rename labels to support binary classification\n",
    "    df[\"target\"] = df[\"target\"].map(\n",
    "        lambda x: \"malicious\" if x != \"benign\" else \"benign\"\n",
    "    )\n",
    "\n",
    "    return df"
   ]
  },
  {
   "cell_type": "code",
   "execution_count": 93,
   "metadata": {},
   "outputs": [],
   "source": [
    "def plot_distribution(df, title):\n",
    "    os.makedirs(\"./outputs\", exist_ok=True)\n",
    "    \n",
    "    distribution = dict(df[\"target\"].value_counts())\n",
    "\n",
    "    # Set up the figure with a white background\n",
    "    fig, ax = plt.subplots(facecolor='white')\n",
    "\n",
    "    dull_red = hex2color('#E34234')\n",
    "    dull_green = hex2color('#32712C')\n",
    "\n",
    "    # Plotting the pie chart\n",
    "    ax.pie(distribution.values(), labels=distribution.keys(), colors=[dull_green, dull_red], autopct='%1.1f%%', startangle=90)\n",
    "    ax.set_title(title)\n",
    "    ax.axis('equal')  # Equal aspect ratio ensures the pie chart is circular.\n",
    "\n",
    "    # Show the pie chart\n",
    "    plt.show()\n",
    "    \n",
    "    # Save the pie chart\n",
    "    fig.savefig(f\"./outputs/{title}.png\", bbox_inches='tight')\n",
    "    \n",
    "    plt.close(fig)"
   ]
  },
  {
   "cell_type": "code",
   "execution_count": 94,
   "metadata": {},
   "outputs": [],
   "source": [
    "def tokenize_urls(urls):\n",
    "    tokenized_urls = []\n",
    "\n",
    "    for url in urls:\n",
    "        # Remove sequential strings following '#' and '?'\n",
    "        url = re.sub(r\"#.*\", \"\", url)\n",
    "        url = re.sub(r\"\\?.*\", \"\", url)\n",
    "\n",
    "        # Split the URL into protocol and rest (domain, path and file)\n",
    "        protocol, rest = url.split(\"://\", 1) if \"://\" in url else (\"\", url)\n",
    "\n",
    "        # Split the rest into domain and rest (path and file)\n",
    "        domain, rest = rest.split(\"/\", 1) if \"/\" in rest else (rest, \"\")\n",
    "\n",
    "        # Split the rest into path and file\n",
    "        path, file = rest.rsplit(\"/\", 1) if \"/\" in rest else (rest, \"\")\n",
    "\n",
    "        tokenized_urls.append([protocol, domain, path, file])\n",
    "\n",
    "    return tokenized_urls"
   ]
  },
  {
   "cell_type": "code",
   "execution_count": 95,
   "metadata": {},
   "outputs": [],
   "source": [
    "def train_word2vec_model(\n",
    "    sentences,\n",
    "    model_path=\"./models/word2vec.model\",\n",
    "    load_model=False,\n",
    "    save_model=True,\n",
    "):\n",
    "    if load_model:\n",
    "        return Word2Vec.load(model_path)\n",
    "\n",
    "    model = Word2Vec(\n",
    "        sentences,\n",
    "        vector_size=200,\n",
    "        window=5,\n",
    "        min_count=2,\n",
    "        workers=10,\n",
    "        sg=1,\n",
    "        epochs=15,\n",
    "        negative=10,\n",
    "    )\n",
    "\n",
    "    if save_model:\n",
    "        model.save(model_path)\n",
    "\n",
    "    return model"
   ]
  },
  {
   "cell_type": "code",
   "execution_count": 96,
   "metadata": {},
   "outputs": [],
   "source": [
    "def get_url_embeddings(url_setences, model):\n",
    "    url_embeddings = []\n",
    "\n",
    "    for tokenized_url in url_setences:\n",
    "        # Get embeddings for each token in the URL\n",
    "        embeddings = [model.wv[token] for token in tokenized_url if token in model.wv]\n",
    "\n",
    "        # If tokens are present in the model vocabulary, compute the mean of the embeddings\n",
    "        # Else, return a zero vector\n",
    "        url_embeddings.append(\n",
    "            np.mean(embeddings, axis=0) if embeddings else np.zeros(model.vector_size)\n",
    "        )\n",
    "\n",
    "    return url_embeddings"
   ]
  },
  {
   "cell_type": "code",
   "execution_count": 97,
   "metadata": {},
   "outputs": [],
   "source": [
    "def train_evaluate_model(\n",
    "    model,\n",
    "    X_train,\n",
    "    y_train,\n",
    "    X_test,\n",
    "    y_test,\n",
    "    batch_size=10000,\n",
    "):  \n",
    "    if type(model).__name__ == \"Sequential\":\n",
    "        model_name = \"CNN\"\n",
    "    elif type(model).__name__ == \"RandomForestClassifier\":\n",
    "        model_name = \"Random Forest\"\n",
    "    else:\n",
    "        model_name = \"Naive Bayes\"\n",
    "    \n",
    "    accuracy_list = []\n",
    "\n",
    "    # Calculate the total number of batches\n",
    "    total_batches = len(X_train) // batch_size + (1 if len(X_train) % batch_size != 0 else 0)\n",
    "\n",
    "    print(f\"Training {model_name} on {total_batches} batches\")\n",
    "\n",
    "    for i in tqdm(range(0, len(X_train), batch_size), total=total_batches, desc=\"Batches\"):\n",
    "\n",
    "        # Define the batches\n",
    "        X_train_batch = X_train[i : i + batch_size]\n",
    "        y_train_batch = y_train[i : i + batch_size]\n",
    "\n",
    "        # Train model on batch\n",
    "        if model_name == \"Naive Bayes\":\n",
    "            model.partial_fit(X_train_batch, y_train_batch, classes=[\"benign\", \"malicious\"])\n",
    "            \n",
    "        elif model_name == \"Random Forest\":\n",
    "            model.n_estimators += 10\n",
    "            model.fit(X_train_batch, y_train_batch)\n",
    "        \n",
    "        elif model_name == \"CNN\":\n",
    "            model.fit(X_train_batch, y_train_batch, epochs=1, batch_size=batch_size)\n",
    "\n",
    "        # Predict on test set\n",
    "        y_pred = model.predict(X_test)\n",
    "        if model_name == \"CNN\":\n",
    "            y_pred = (y_pred > 0.5).astype(int)\n",
    "\n",
    "        # Add accuracy to accuracy list\n",
    "        accuracy_list.append(accuracy_score(y_test, y_pred))\n",
    "\n",
    "    return model, accuracy_list"
   ]
  },
  {
   "cell_type": "code",
   "execution_count": 98,
   "metadata": {},
   "outputs": [],
   "source": [
    "def cnn_model():\n",
    "    # Define the CNN model\n",
    "    model = Sequential([\n",
    "        Conv1D(128, 5, activation='relu', input_shape=(200, 1)),\n",
    "        GlobalMaxPooling1D(),\n",
    "        Dense(128, activation='relu'),\n",
    "        Dense(1, activation='sigmoid')\n",
    "    ])\n",
    "\n",
    "    # Compile the model\n",
    "    model.compile(optimizer='adam', loss='binary_crossentropy', metrics=['accuracy'])\n",
    "    \n",
    "    return model"
   ]
  },
  {
   "cell_type": "code",
   "execution_count": 99,
   "metadata": {},
   "outputs": [],
   "source": [
    "def run_trial(X_train, y_train, X_test, y_test):\n",
    "    accuracy_dict = {}\n",
    "    \n",
    "    # Train and evaluate models\n",
    "    for name, model in [\n",
    "        (\"Random Forest\", RandomForestClassifier(n_estimators=10, n_jobs=15, warm_start=True)),\n",
    "        (\"Naive Bayes\", GaussianNB()),\n",
    "        (\"CNN\", cnn_model()),\n",
    "    ]:\n",
    "        if name == \"CNN\":\n",
    "            label_encoder = LabelEncoder()\n",
    "            all_labels = np.concatenate((y_train, y_test))\n",
    "            label_encoder.fit(all_labels)\n",
    "            \n",
    "            X_train = np.array(X_train)\n",
    "            X_test = np.array(X_test)\n",
    "            y_train = label_encoder.transform(y_train)\n",
    "            y_test = label_encoder.transform(y_test)\n",
    "            \n",
    "        # Train and evaluate model\n",
    "        trained_model, accuracy_list = train_evaluate_model(\n",
    "            model, X_train, y_train, X_test, y_test\n",
    "        )\n",
    "\n",
    "        # Add accuracy list to accuracy dictionary\n",
    "        accuracy_dict[name] = { \"accuracy_list\": accuracy_list }\n",
    "        \n",
    "        # Predict on the trained model\n",
    "        y_pred = trained_model.predict(X_test)\n",
    "        if name == \"CNN\":\n",
    "            y_pred = (y_pred > 0.5).astype(int)\n",
    "\n",
    "        # Print classification report\n",
    "        accuracy_dict[name][\"report\"] = classification_report(y_test, y_pred, digits=4, zero_division=0)\n",
    "\n",
    "    return accuracy_dict"
   ]
  },
  {
   "cell_type": "markdown",
   "metadata": {},
   "source": [
    "## Run multiple trials"
   ]
  },
  {
   "cell_type": "code",
   "execution_count": 100,
   "metadata": {},
   "outputs": [],
   "source": [
    "# Load datasets\n",
    "trials = [\n",
    "    # Trial Name, Train Dataset Path, Test Dataset Path\n",
    "    (\"Trial 1 (Baseline)\", \"./datasets/trial_1/train.csv\", \"./datasets/trial_1/test.csv\"),\n",
    "    (\"Trial 2 (GenTrain_OriTest)\", \"./datasets/trial_2/train.csv\", \"./datasets/trial_2/test.csv\"),\n",
    "    (\"Trial 3 (MixTrain_OriTest)\", \"./datasets/trial_3/train.csv\", \"./datasets/trial_3/test.csv\"),\n",
    "    (\"Trial 4 (ReplaceMalicious)\", \"./datasets/trial_4/train.csv\", \"./datasets/trial_4/test.csv\"),\n",
    "    (\"Trial 5 (ReplaceBenign)\", \"./datasets/trial_5/train.csv\", \"./datasets/trial_5/test.csv\"),\n",
    "]"
   ]
  },
  {
   "cell_type": "code",
   "execution_count": 101,
   "metadata": {},
   "outputs": [
    {
     "data": {
      "image/png": "[encoded data removed]",
      "text/plain": [
       "<Figure size 640x480 with 1 Axes>"
      ]
     },
     "metadata": {},
     "output_type": "display_data"
    },
    {
     "data": {
      "image/png": "[encoded data removed]",
      "text/plain": [
       "<Figure size 640x480 with 1 Axes>"
      ]
     },
     "metadata": {},
     "output_type": "display_data"
    },
    {
     "name": "stdout",
     "output_type": "stream",
     "text": [
      "Training Random Forest on 40 batches\n"
     ]
    },
    {
     "name": "stderr",
     "output_type": "stream",
     "text": [
      "Batches: 100%|██████████| 40/40 [02:07<00:00,  3.18s/it]\n"
     ]
    },
    {
     "name": "stdout",
     "output_type": "stream",
     "text": [
      "Training Naive Bayes on 40 batches\n"
     ]
    },
    {
     "name": "stderr",
     "output_type": "stream",
     "text": [
      "Batches: 100%|██████████| 40/40 [01:23<00:00,  2.10s/it]\n"
     ]
    },
    {
     "name": "stdout",
     "output_type": "stream",
     "text": [
      "Training CNN on 40 batches\n"
     ]
    },
    {
     "name": "stderr",
     "output_type": "stream",
     "text": [
      "Batches:   0%|          | 0/40 [00:00<?, ?it/s]"
     ]
    },
    {
     "name": "stdout",
     "output_type": "stream",
     "text": [
      "1/1 [==============================] - 2s 2s/step - loss: 0.6968 - accuracy: 0.4970\n",
      "7850/7850 [==============================] - 11s 1ms/step\n"
     ]
    },
    {
     "name": "stderr",
     "output_type": "stream",
     "text": [
      "Batches:   2%|▎         | 1/40 [00:16<10:24, 16.01s/it]"
     ]
    },
    {
     "name": "stdout",
     "output_type": "stream",
     "text": [
      "1/1 [==============================] - 1s 883ms/step - loss: 0.6933 - accuracy: 0.5083\n",
      "7850/7850 [==============================] - 11s 1ms/step\n"
     ]
    },
    {
     "name": "stderr",
     "output_type": "stream",
     "text": [
      "Batches:   5%|▌         | 2/40 [00:31<09:48, 15.48s/it]"
     ]
    },
    {
     "name": "stdout",
     "output_type": "stream",
     "text": [
      "1/1 [==============================] - 1s 860ms/step - loss: 0.6915 - accuracy: 0.5008\n",
      "7850/7850 [==============================] - 15s 2ms/step\n"
     ]
    },
    {
     "name": "stderr",
     "output_type": "stream",
     "text": [
      "Batches:   8%|▊         | 3/40 [00:51<10:51, 17.61s/it]"
     ]
    },
    {
     "name": "stdout",
     "output_type": "stream",
     "text": [
      "1/1 [==============================] - 1s 879ms/step - loss: 0.6901 - accuracy: 0.4960\n",
      "7850/7850 [==============================] - 13s 2ms/step\n"
     ]
    },
    {
     "name": "stderr",
     "output_type": "stream",
     "text": [
      "Batches:  10%|█         | 4/40 [01:08<10:33, 17.61s/it]"
     ]
    },
    {
     "name": "stdout",
     "output_type": "stream",
     "text": [
      "1/1 [==============================] - 1s 867ms/step - loss: 0.6880 - accuracy: 0.5303\n",
      "7850/7850 [==============================] - 13s 2ms/step\n"
     ]
    },
    {
     "name": "stderr",
     "output_type": "stream",
     "text": [
      "Batches:  12%|█▎        | 5/40 [01:25<10:03, 17.25s/it]"
     ]
    },
    {
     "name": "stdout",
     "output_type": "stream",
     "text": [
      "1/1 [==============================] - 1s 894ms/step - loss: 0.6866 - accuracy: 0.6989\n",
      "7850/7850 [==============================] - 11s 1ms/step\n"
     ]
    },
    {
     "name": "stderr",
     "output_type": "stream",
     "text": [
      "Batches:  15%|█▌        | 6/40 [01:40<09:17, 16.41s/it]"
     ]
    },
    {
     "name": "stdout",
     "output_type": "stream",
     "text": [
      "1/1 [==============================] - 1s 873ms/step - loss: 0.6855 - accuracy: 0.7287\n",
      "7850/7850 [==============================] - 12s 2ms/step\n"
     ]
    },
    {
     "name": "stderr",
     "output_type": "stream",
     "text": [
      "Batches:  18%|█▊        | 7/40 [01:55<08:50, 16.09s/it]"
     ]
    },
    {
     "name": "stdout",
     "output_type": "stream",
     "text": [
      "1/1 [==============================] - 1s 859ms/step - loss: 0.6834 - accuracy: 0.7461\n",
      "7850/7850 [==============================] - 12s 1ms/step\n"
     ]
    },
    {
     "name": "stderr",
     "output_type": "stream",
     "text": [
      "Batches:  20%|██        | 8/40 [02:11<08:27, 15.86s/it]"
     ]
    },
    {
     "name": "stdout",
     "output_type": "stream",
     "text": [
      "1/1 [==============================] - 1s 867ms/step - loss: 0.6824 - accuracy: 0.7254\n",
      "7850/7850 [==============================] - 11s 1ms/step\n"
     ]
    },
    {
     "name": "stderr",
     "output_type": "stream",
     "text": [
      "Batches:  22%|██▎       | 9/40 [02:26<08:02, 15.58s/it]"
     ]
    },
    {
     "name": "stdout",
     "output_type": "stream",
     "text": [
      "1/1 [==============================] - 1s 859ms/step - loss: 0.6802 - accuracy: 0.6994\n",
      "7850/7850 [==============================] - 11s 1ms/step\n"
     ]
    },
    {
     "name": "stderr",
     "output_type": "stream",
     "text": [
      "Batches:  25%|██▌       | 10/40 [02:41<07:42, 15.42s/it]"
     ]
    },
    {
     "name": "stdout",
     "output_type": "stream",
     "text": [
      "1/1 [==============================] - 1s 842ms/step - loss: 0.6792 - accuracy: 0.6678\n",
      "7850/7850 [==============================] - 11s 1ms/step\n"
     ]
    },
    {
     "name": "stderr",
     "output_type": "stream",
     "text": [
      "Batches:  28%|██▊       | 11/40 [02:56<07:23, 15.28s/it]"
     ]
    },
    {
     "name": "stdout",
     "output_type": "stream",
     "text": [
      "1/1 [==============================] - 1s 852ms/step - loss: 0.6773 - accuracy: 0.6676\n",
      "7850/7850 [==============================] - 11s 1ms/step\n"
     ]
    },
    {
     "name": "stderr",
     "output_type": "stream",
     "text": [
      "Batches:  30%|███       | 12/40 [03:10<07:04, 15.15s/it]"
     ]
    },
    {
     "name": "stdout",
     "output_type": "stream",
     "text": [
      "1/1 [==============================] - 1s 844ms/step - loss: 0.6757 - accuracy: 0.6712\n",
      "7850/7850 [==============================] - 12s 2ms/step\n"
     ]
    },
    {
     "name": "stderr",
     "output_type": "stream",
     "text": [
      "Batches:  32%|███▎      | 13/40 [03:26<06:52, 15.27s/it]"
     ]
    },
    {
     "name": "stdout",
     "output_type": "stream",
     "text": [
      "1/1 [==============================] - 1s 864ms/step - loss: 0.6735 - accuracy: 0.6904\n",
      "7850/7850 [==============================] - 12s 1ms/step\n"
     ]
    },
    {
     "name": "stderr",
     "output_type": "stream",
     "text": [
      "Batches:  35%|███▌      | 14/40 [03:41<06:35, 15.23s/it]"
     ]
    },
    {
     "name": "stdout",
     "output_type": "stream",
     "text": [
      "1/1 [==============================] - 1s 901ms/step - loss: 0.6725 - accuracy: 0.6903\n",
      "7850/7850 [==============================] - 11s 1ms/step\n"
     ]
    },
    {
     "name": "stderr",
     "output_type": "stream",
     "text": [
      "Batches:  38%|███▊      | 15/40 [03:56<06:19, 15.18s/it]"
     ]
    },
    {
     "name": "stdout",
     "output_type": "stream",
     "text": [
      "1/1 [==============================] - 1s 847ms/step - loss: 0.6701 - accuracy: 0.7147\n",
      "7850/7850 [==============================] - 12s 1ms/step\n"
     ]
    },
    {
     "name": "stderr",
     "output_type": "stream",
     "text": [
      "Batches:  40%|████      | 16/40 [04:11<06:03, 15.15s/it]"
     ]
    },
    {
     "name": "stdout",
     "output_type": "stream",
     "text": [
      "1/1 [==============================] - 1s 857ms/step - loss: 0.6687 - accuracy: 0.7256\n",
      "7850/7850 [==============================] - 11s 1ms/step\n"
     ]
    },
    {
     "name": "stderr",
     "output_type": "stream",
     "text": [
      "Batches:  42%|████▎     | 17/40 [04:26<05:47, 15.10s/it]"
     ]
    },
    {
     "name": "stdout",
     "output_type": "stream",
     "text": [
      "1/1 [==============================] - 1s 864ms/step - loss: 0.6669 - accuracy: 0.7493\n",
      "7850/7850 [==============================] - 11s 1ms/step\n"
     ]
    },
    {
     "name": "stderr",
     "output_type": "stream",
     "text": [
      "Batches:  45%|████▌     | 18/40 [04:41<05:31, 15.08s/it]"
     ]
    },
    {
     "name": "stdout",
     "output_type": "stream",
     "text": [
      "1/1 [==============================] - 1s 847ms/step - loss: 0.6636 - accuracy: 0.7640\n",
      "7850/7850 [==============================] - 11s 1ms/step\n"
     ]
    },
    {
     "name": "stderr",
     "output_type": "stream",
     "text": [
      "Batches:  48%|████▊     | 19/40 [04:56<05:13, 14.93s/it]"
     ]
    },
    {
     "name": "stdout",
     "output_type": "stream",
     "text": [
      "1/1 [==============================] - 1s 857ms/step - loss: 0.6619 - accuracy: 0.7518\n",
      "7850/7850 [==============================] - 12s 2ms/step\n"
     ]
    },
    {
     "name": "stderr",
     "output_type": "stream",
     "text": [
      "Batches:  50%|█████     | 20/40 [05:12<05:05, 15.30s/it]"
     ]
    },
    {
     "name": "stdout",
     "output_type": "stream",
     "text": [
      "1/1 [==============================] - 1s 881ms/step - loss: 0.6620 - accuracy: 0.7110\n",
      "7850/7850 [==============================] - 11s 1ms/step\n"
     ]
    },
    {
     "name": "stderr",
     "output_type": "stream",
     "text": [
      "Batches:  52%|█████▎    | 21/40 [05:27<04:49, 15.24s/it]"
     ]
    },
    {
     "name": "stdout",
     "output_type": "stream",
     "text": [
      "1/1 [==============================] - 1s 859ms/step - loss: 0.6571 - accuracy: 0.7005\n",
      "7850/7850 [==============================] - 12s 2ms/step\n"
     ]
    },
    {
     "name": "stderr",
     "output_type": "stream",
     "text": [
      "Batches:  55%|█████▌    | 22/40 [05:43<04:35, 15.32s/it]"
     ]
    },
    {
     "name": "stdout",
     "output_type": "stream",
     "text": [
      "1/1 [==============================] - 1s 874ms/step - loss: 0.6567 - accuracy: 0.6878\n",
      "7850/7850 [==============================] - 12s 1ms/step\n"
     ]
    },
    {
     "name": "stderr",
     "output_type": "stream",
     "text": [
      "Batches:  57%|█████▊    | 23/40 [05:58<04:19, 15.25s/it]"
     ]
    },
    {
     "name": "stdout",
     "output_type": "stream",
     "text": [
      "1/1 [==============================] - 1s 861ms/step - loss: 0.6550 - accuracy: 0.6875\n",
      "7850/7850 [==============================] - 11s 1ms/step\n"
     ]
    },
    {
     "name": "stderr",
     "output_type": "stream",
     "text": [
      "Batches:  60%|██████    | 24/40 [06:13<04:03, 15.20s/it]"
     ]
    },
    {
     "name": "stdout",
     "output_type": "stream",
     "text": [
      "1/1 [==============================] - 1s 842ms/step - loss: 0.6507 - accuracy: 0.7009\n",
      "7850/7850 [==============================] - 12s 1ms/step\n"
     ]
    },
    {
     "name": "stderr",
     "output_type": "stream",
     "text": [
      "Batches:  62%|██████▎   | 25/40 [06:28<03:47, 15.16s/it]"
     ]
    },
    {
     "name": "stdout",
     "output_type": "stream",
     "text": [
      "1/1 [==============================] - 1s 845ms/step - loss: 0.6481 - accuracy: 0.7267\n",
      "7850/7850 [==============================] - 11s 1ms/step\n"
     ]
    },
    {
     "name": "stderr",
     "output_type": "stream",
     "text": [
      "Batches:  65%|██████▌   | 26/40 [06:43<03:31, 15.09s/it]"
     ]
    },
    {
     "name": "stdout",
     "output_type": "stream",
     "text": [
      "1/1 [==============================] - 1s 859ms/step - loss: 0.6450 - accuracy: 0.7454\n",
      "7850/7850 [==============================] - 12s 1ms/step\n"
     ]
    },
    {
     "name": "stderr",
     "output_type": "stream",
     "text": [
      "Batches:  68%|██████▊   | 27/40 [06:58<03:16, 15.14s/it]"
     ]
    },
    {
     "name": "stdout",
     "output_type": "stream",
     "text": [
      "1/1 [==============================] - 1s 897ms/step - loss: 0.6434 - accuracy: 0.7435\n",
      "7850/7850 [==============================] - 12s 1ms/step\n"
     ]
    },
    {
     "name": "stderr",
     "output_type": "stream",
     "text": [
      "Batches:  70%|███████   | 28/40 [07:13<03:02, 15.20s/it]"
     ]
    },
    {
     "name": "stdout",
     "output_type": "stream",
     "text": [
      "1/1 [==============================] - 1s 898ms/step - loss: 0.6396 - accuracy: 0.7484\n",
      "7850/7850 [==============================] - 12s 1ms/step\n"
     ]
    },
    {
     "name": "stderr",
     "output_type": "stream",
     "text": [
      "Batches:  72%|███████▎  | 29/40 [07:28<02:46, 15.17s/it]"
     ]
    },
    {
     "name": "stdout",
     "output_type": "stream",
     "text": [
      "1/1 [==============================] - 1s 848ms/step - loss: 0.6394 - accuracy: 0.7353\n",
      "7850/7850 [==============================] - 11s 1ms/step\n"
     ]
    },
    {
     "name": "stderr",
     "output_type": "stream",
     "text": [
      "Batches:  75%|███████▌  | 30/40 [07:43<02:31, 15.12s/it]"
     ]
    },
    {
     "name": "stdout",
     "output_type": "stream",
     "text": [
      "1/1 [==============================] - 1s 847ms/step - loss: 0.6356 - accuracy: 0.7211\n",
      "7850/7850 [==============================] - 11s 1ms/step\n"
     ]
    },
    {
     "name": "stderr",
     "output_type": "stream",
     "text": [
      "Batches:  78%|███████▊  | 31/40 [07:58<02:15, 15.02s/it]"
     ]
    },
    {
     "name": "stdout",
     "output_type": "stream",
     "text": [
      "1/1 [==============================] - 1s 871ms/step - loss: 0.6299 - accuracy: 0.7308\n",
      "7850/7850 [==============================] - 12s 1ms/step\n"
     ]
    },
    {
     "name": "stderr",
     "output_type": "stream",
     "text": [
      "Batches:  80%|████████  | 32/40 [08:13<02:00, 15.09s/it]"
     ]
    },
    {
     "name": "stdout",
     "output_type": "stream",
     "text": [
      "1/1 [==============================] - 1s 875ms/step - loss: 0.6293 - accuracy: 0.7206\n",
      "7850/7850 [==============================] - 12s 1ms/step\n"
     ]
    },
    {
     "name": "stderr",
     "output_type": "stream",
     "text": [
      "Batches:  82%|████████▎ | 33/40 [08:29<01:45, 15.13s/it]"
     ]
    },
    {
     "name": "stdout",
     "output_type": "stream",
     "text": [
      "1/1 [==============================] - 1s 886ms/step - loss: 0.6225 - accuracy: 0.7432\n",
      "7850/7850 [==============================] - 12s 1ms/step\n"
     ]
    },
    {
     "name": "stderr",
     "output_type": "stream",
     "text": [
      "Batches:  85%|████████▌ | 34/40 [08:44<01:30, 15.14s/it]"
     ]
    },
    {
     "name": "stdout",
     "output_type": "stream",
     "text": [
      "1/1 [==============================] - 1s 868ms/step - loss: 0.6200 - accuracy: 0.7506\n",
      "7850/7850 [==============================] - 12s 1ms/step\n"
     ]
    },
    {
     "name": "stderr",
     "output_type": "stream",
     "text": [
      "Batches:  88%|████████▊ | 35/40 [08:59<01:16, 15.22s/it]"
     ]
    },
    {
     "name": "stdout",
     "output_type": "stream",
     "text": [
      "1/1 [==============================] - 1s 848ms/step - loss: 0.6168 - accuracy: 0.7497\n",
      "7850/7850 [==============================] - 12s 1ms/step\n"
     ]
    },
    {
     "name": "stderr",
     "output_type": "stream",
     "text": [
      "Batches:  90%|█████████ | 36/40 [09:14<01:00, 15.22s/it]"
     ]
    },
    {
     "name": "stdout",
     "output_type": "stream",
     "text": [
      "1/1 [==============================] - 1s 849ms/step - loss: 0.6132 - accuracy: 0.7505\n",
      "7850/7850 [==============================] - 12s 1ms/step\n"
     ]
    },
    {
     "name": "stderr",
     "output_type": "stream",
     "text": [
      "Batches:  92%|█████████▎| 37/40 [09:30<00:45, 15.27s/it]"
     ]
    },
    {
     "name": "stdout",
     "output_type": "stream",
     "text": [
      "1/1 [==============================] - 1s 875ms/step - loss: 0.6097 - accuracy: 0.7477\n",
      "7850/7850 [==============================] - 11s 1ms/step\n"
     ]
    },
    {
     "name": "stderr",
     "output_type": "stream",
     "text": [
      "Batches:  95%|█████████▌| 38/40 [09:45<00:30, 15.15s/it]"
     ]
    },
    {
     "name": "stdout",
     "output_type": "stream",
     "text": [
      "1/1 [==============================] - 1s 867ms/step - loss: 0.6091 - accuracy: 0.7452\n",
      "7850/7850 [==============================] - 12s 1ms/step\n"
     ]
    },
    {
     "name": "stderr",
     "output_type": "stream",
     "text": [
      "Batches:  98%|█████████▊| 39/40 [10:00<00:15, 15.13s/it]"
     ]
    },
    {
     "name": "stdout",
     "output_type": "stream",
     "text": [
      "1/1 [==============================] - 1s 853ms/step - loss: 0.6007 - accuracy: 0.7566\n",
      "7850/7850 [==============================] - 12s 1ms/step\n"
     ]
    },
    {
     "name": "stderr",
     "output_type": "stream",
     "text": [
      "Batches: 100%|██████████| 40/40 [10:15<00:00, 15.39s/it]"
     ]
    },
    {
     "name": "stdout",
     "output_type": "stream",
     "text": [
      "   1/7850 [..............................] - ETA: 5:49"
     ]
    },
    {
     "name": "stderr",
     "output_type": "stream",
     "text": [
      "\n"
     ]
    },
    {
     "name": "stdout",
     "output_type": "stream",
     "text": [
      "7850/7850 [==============================] - 12s 1ms/step\n"
     ]
    },
    {
     "data": {
      "image/png": "[encoded data removed]",
      "text/plain": [
       "<Figure size 640x480 with 1 Axes>"
      ]
     },
     "metadata": {},
     "output_type": "display_data"
    },
    {
     "data": {
      "image/png": "[encoded data removed]",
      "text/plain": [
       "<Figure size 640x480 with 1 Axes>"
      ]
     },
     "metadata": {},
     "output_type": "display_data"
    },
    {
     "name": "stdout",
     "output_type": "stream",
     "text": [
      "Training Random Forest on 40 batches\n"
     ]
    },
    {
     "name": "stderr",
     "output_type": "stream",
     "text": [
      "Batches: 100%|██████████| 40/40 [04:28<00:00,  6.72s/it]\n"
     ]
    },
    {
     "name": "stdout",
     "output_type": "stream",
     "text": [
      "Training Naive Bayes on 40 batches\n"
     ]
    },
    {
     "name": "stderr",
     "output_type": "stream",
     "text": [
      "Batches: 100%|██████████| 40/40 [03:39<00:00,  5.50s/it]\n"
     ]
    },
    {
     "name": "stdout",
     "output_type": "stream",
     "text": [
      "Training CNN on 40 batches\n"
     ]
    },
    {
     "name": "stderr",
     "output_type": "stream",
     "text": [
      "Batches:   0%|          | 0/40 [00:00<?, ?it/s]"
     ]
    },
    {
     "name": "stdout",
     "output_type": "stream",
     "text": [
      "1/1 [==============================] - 2s 2s/step - loss: 0.6955 - accuracy: 0.5034\n",
      "20350/20350 [==============================] - 32s 2ms/step\n"
     ]
    },
    {
     "name": "stderr",
     "output_type": "stream",
     "text": [
      "Batches:   2%|▎         | 1/40 [00:47<30:34, 47.04s/it]"
     ]
    },
    {
     "name": "stdout",
     "output_type": "stream",
     "text": [
      "1/1 [==============================] - 1s 890ms/step - loss: 0.6915 - accuracy: 0.6183\n",
      "20350/20350 [==============================] - 30s 1ms/step\n"
     ]
    },
    {
     "name": "stderr",
     "output_type": "stream",
     "text": [
      "Batches:   5%|▌         | 2/40 [01:27<27:20, 43.18s/it]"
     ]
    },
    {
     "name": "stdout",
     "output_type": "stream",
     "text": [
      "1/1 [==============================] - 1s 879ms/step - loss: 0.6892 - accuracy: 0.5039\n",
      "20350/20350 [==============================] - 33s 2ms/step\n"
     ]
    },
    {
     "name": "stderr",
     "output_type": "stream",
     "text": [
      "Batches:   8%|▊         | 3/40 [02:09<26:21, 42.75s/it]"
     ]
    },
    {
     "name": "stdout",
     "output_type": "stream",
     "text": [
      "1/1 [==============================] - 1s 863ms/step - loss: 0.6867 - accuracy: 0.5078\n",
      "20350/20350 [==============================] - 33s 2ms/step\n"
     ]
    },
    {
     "name": "stderr",
     "output_type": "stream",
     "text": [
      "Batches:  10%|█         | 4/40 [02:52<25:33, 42.59s/it]"
     ]
    },
    {
     "name": "stdout",
     "output_type": "stream",
     "text": [
      "1/1 [==============================] - 1s 941ms/step - loss: 0.6852 - accuracy: 0.4955\n",
      "20350/20350 [==============================] - 34s 2ms/step\n"
     ]
    },
    {
     "name": "stderr",
     "output_type": "stream",
     "text": [
      "Batches:  12%|█▎        | 5/40 [03:35<25:00, 42.87s/it]"
     ]
    },
    {
     "name": "stdout",
     "output_type": "stream",
     "text": [
      "1/1 [==============================] - 1s 867ms/step - loss: 0.6822 - accuracy: 0.6385\n",
      "20350/20350 [==============================] - 35s 2ms/step\n"
     ]
    },
    {
     "name": "stderr",
     "output_type": "stream",
     "text": [
      "Batches:  15%|█▌        | 6/40 [04:19<24:34, 43.36s/it]"
     ]
    },
    {
     "name": "stdout",
     "output_type": "stream",
     "text": [
      "1/1 [==============================] - 1s 883ms/step - loss: 0.6794 - accuracy: 0.8105\n",
      "20350/20350 [==============================] - 34s 2ms/step\n"
     ]
    },
    {
     "name": "stderr",
     "output_type": "stream",
     "text": [
      "Batches:  18%|█▊        | 7/40 [05:03<23:51, 43.38s/it]"
     ]
    },
    {
     "name": "stdout",
     "output_type": "stream",
     "text": [
      "1/1 [==============================] - 1s 876ms/step - loss: 0.6771 - accuracy: 0.7812\n",
      "20350/20350 [==============================] - 33s 2ms/step\n"
     ]
    },
    {
     "name": "stderr",
     "output_type": "stream",
     "text": [
      "Batches:  20%|██        | 8/40 [05:45<23:01, 43.18s/it]"
     ]
    },
    {
     "name": "stdout",
     "output_type": "stream",
     "text": [
      "1/1 [==============================] - 1s 889ms/step - loss: 0.6744 - accuracy: 0.7613\n",
      "20350/20350 [==============================] - 36s 2ms/step\n"
     ]
    },
    {
     "name": "stderr",
     "output_type": "stream",
     "text": [
      "Batches:  22%|██▎       | 9/40 [06:31<22:43, 43.99s/it]"
     ]
    },
    {
     "name": "stdout",
     "output_type": "stream",
     "text": [
      "1/1 [==============================] - 1s 885ms/step - loss: 0.6722 - accuracy: 0.7675\n",
      "20350/20350 [==============================] - 30s 1ms/step\n"
     ]
    },
    {
     "name": "stderr",
     "output_type": "stream",
     "text": [
      "Batches:  25%|██▌       | 10/40 [07:11<21:19, 42.65s/it]"
     ]
    },
    {
     "name": "stdout",
     "output_type": "stream",
     "text": [
      "1/1 [==============================] - 1s 911ms/step - loss: 0.6688 - accuracy: 0.8499\n",
      "20350/20350 [==============================] - 33s 2ms/step\n"
     ]
    },
    {
     "name": "stderr",
     "output_type": "stream",
     "text": [
      "Batches:  28%|██▊       | 11/40 [07:54<20:37, 42.66s/it]"
     ]
    },
    {
     "name": "stdout",
     "output_type": "stream",
     "text": [
      "1/1 [==============================] - 1s 861ms/step - loss: 0.6658 - accuracy: 0.8546\n",
      "20350/20350 [==============================] - 34s 2ms/step\n"
     ]
    },
    {
     "name": "stderr",
     "output_type": "stream",
     "text": [
      "Batches:  30%|███       | 12/40 [08:40<20:29, 43.92s/it]"
     ]
    },
    {
     "name": "stdout",
     "output_type": "stream",
     "text": [
      "1/1 [==============================] - 1s 885ms/step - loss: 0.6631 - accuracy: 0.8423\n",
      "20350/20350 [==============================] - 33s 2ms/step\n"
     ]
    },
    {
     "name": "stderr",
     "output_type": "stream",
     "text": [
      "Batches:  32%|███▎      | 13/40 [09:22<19:28, 43.26s/it]"
     ]
    },
    {
     "name": "stdout",
     "output_type": "stream",
     "text": [
      "1/1 [==============================] - 1s 883ms/step - loss: 0.6597 - accuracy: 0.8204\n",
      "20350/20350 [==============================] - 34s 2ms/step\n"
     ]
    },
    {
     "name": "stderr",
     "output_type": "stream",
     "text": [
      "Batches:  35%|███▌      | 14/40 [10:05<18:38, 43.01s/it]"
     ]
    },
    {
     "name": "stdout",
     "output_type": "stream",
     "text": [
      "1/1 [==============================] - 1s 897ms/step - loss: 0.6564 - accuracy: 0.7977\n",
      "20350/20350 [==============================] - 34s 2ms/step\n"
     ]
    },
    {
     "name": "stderr",
     "output_type": "stream",
     "text": [
      "Batches:  38%|███▊      | 15/40 [10:48<18:01, 43.28s/it]"
     ]
    },
    {
     "name": "stdout",
     "output_type": "stream",
     "text": [
      "1/1 [==============================] - 1s 909ms/step - loss: 0.6530 - accuracy: 0.7950\n",
      "20350/20350 [==============================] - 34s 2ms/step\n"
     ]
    },
    {
     "name": "stderr",
     "output_type": "stream",
     "text": [
      "Batches:  40%|████      | 16/40 [11:32<17:24, 43.50s/it]"
     ]
    },
    {
     "name": "stdout",
     "output_type": "stream",
     "text": [
      "1/1 [==============================] - 1s 914ms/step - loss: 0.6490 - accuracy: 0.8034\n",
      "20350/20350 [==============================] - 36s 2ms/step\n"
     ]
    },
    {
     "name": "stderr",
     "output_type": "stream",
     "text": [
      "Batches:  42%|████▎     | 17/40 [12:19<16:58, 44.30s/it]"
     ]
    },
    {
     "name": "stdout",
     "output_type": "stream",
     "text": [
      "1/1 [==============================] - 1s 879ms/step - loss: 0.6452 - accuracy: 0.8069\n",
      "20350/20350 [==============================] - 35s 2ms/step\n"
     ]
    },
    {
     "name": "stderr",
     "output_type": "stream",
     "text": [
      "Batches:  45%|████▌     | 18/40 [13:03<16:15, 44.35s/it]"
     ]
    },
    {
     "name": "stdout",
     "output_type": "stream",
     "text": [
      "1/1 [==============================] - 1s 864ms/step - loss: 0.6431 - accuracy: 0.7992\n",
      "20350/20350 [==============================] - 33s 2ms/step\n"
     ]
    },
    {
     "name": "stderr",
     "output_type": "stream",
     "text": [
      "Batches:  48%|████▊     | 19/40 [13:47<15:27, 44.15s/it]"
     ]
    },
    {
     "name": "stdout",
     "output_type": "stream",
     "text": [
      "1/1 [==============================] - 1s 859ms/step - loss: 0.6377 - accuracy: 0.8245\n",
      "20350/20350 [==============================] - 35s 2ms/step\n"
     ]
    },
    {
     "name": "stderr",
     "output_type": "stream",
     "text": [
      "Batches:  50%|█████     | 20/40 [14:35<15:05, 45.29s/it]"
     ]
    },
    {
     "name": "stdout",
     "output_type": "stream",
     "text": [
      "1/1 [==============================] - 1s 900ms/step - loss: 0.6342 - accuracy: 0.8374\n",
      "20350/20350 [==============================] - 32s 2ms/step\n"
     ]
    },
    {
     "name": "stderr",
     "output_type": "stream",
     "text": [
      "Batches:  52%|█████▎    | 21/40 [15:15<13:54, 43.94s/it]"
     ]
    },
    {
     "name": "stdout",
     "output_type": "stream",
     "text": [
      "1/1 [==============================] - 1s 887ms/step - loss: 0.6297 - accuracy: 0.8419\n",
      "20350/20350 [==============================] - 30s 1ms/step\n"
     ]
    },
    {
     "name": "stderr",
     "output_type": "stream",
     "text": [
      "Batches:  55%|█████▌    | 22/40 [15:54<12:41, 42.30s/it]"
     ]
    },
    {
     "name": "stdout",
     "output_type": "stream",
     "text": [
      "1/1 [==============================] - 1s 886ms/step - loss: 0.6250 - accuracy: 0.8466\n",
      "20350/20350 [==============================] - 35s 2ms/step\n"
     ]
    },
    {
     "name": "stderr",
     "output_type": "stream",
     "text": [
      "Batches:  57%|█████▊    | 23/40 [16:41<12:22, 43.66s/it]"
     ]
    },
    {
     "name": "stdout",
     "output_type": "stream",
     "text": [
      "1/1 [==============================] - 1s 860ms/step - loss: 0.6212 - accuracy: 0.8479\n",
      "20350/20350 [==============================] - 34s 2ms/step\n"
     ]
    },
    {
     "name": "stderr",
     "output_type": "stream",
     "text": [
      "Batches:  60%|██████    | 24/40 [17:25<11:42, 43.94s/it]"
     ]
    },
    {
     "name": "stdout",
     "output_type": "stream",
     "text": [
      "1/1 [==============================] - 1s 886ms/step - loss: 0.6165 - accuracy: 0.8415\n",
      "20350/20350 [==============================] - 33s 2ms/step\n"
     ]
    },
    {
     "name": "stderr",
     "output_type": "stream",
     "text": [
      "Batches:  62%|██████▎   | 25/40 [18:07<10:49, 43.32s/it]"
     ]
    },
    {
     "name": "stdout",
     "output_type": "stream",
     "text": [
      "1/1 [==============================] - 1s 833ms/step - loss: 0.6113 - accuracy: 0.8399\n",
      "20350/20350 [==============================] - 32s 2ms/step\n"
     ]
    },
    {
     "name": "stderr",
     "output_type": "stream",
     "text": [
      "Batches:  65%|██████▌   | 26/40 [18:51<10:06, 43.33s/it]"
     ]
    },
    {
     "name": "stdout",
     "output_type": "stream",
     "text": [
      "1/1 [==============================] - 1s 884ms/step - loss: 0.6054 - accuracy: 0.8419\n",
      "20350/20350 [==============================] - 35s 2ms/step\n"
     ]
    },
    {
     "name": "stderr",
     "output_type": "stream",
     "text": [
      "Batches:  68%|██████▊   | 27/40 [19:34<09:23, 43.37s/it]"
     ]
    },
    {
     "name": "stdout",
     "output_type": "stream",
     "text": [
      "1/1 [==============================] - 1s 843ms/step - loss: 0.6002 - accuracy: 0.8435\n",
      "20350/20350 [==============================] - 31s 2ms/step\n"
     ]
    },
    {
     "name": "stderr",
     "output_type": "stream",
     "text": [
      "Batches:  70%|███████   | 28/40 [20:14<08:26, 42.25s/it]"
     ]
    },
    {
     "name": "stdout",
     "output_type": "stream",
     "text": [
      "1/1 [==============================] - 1s 854ms/step - loss: 0.5951 - accuracy: 0.8405\n",
      "20350/20350 [==============================] - 31s 2ms/step\n"
     ]
    },
    {
     "name": "stderr",
     "output_type": "stream",
     "text": [
      "Batches:  72%|███████▎  | 29/40 [20:53<07:35, 41.42s/it]"
     ]
    },
    {
     "name": "stdout",
     "output_type": "stream",
     "text": [
      "1/1 [==============================] - 1s 870ms/step - loss: 0.5912 - accuracy: 0.8422\n",
      "20350/20350 [==============================] - 30s 1ms/step\n"
     ]
    },
    {
     "name": "stderr",
     "output_type": "stream",
     "text": [
      "Batches:  75%|███████▌  | 30/40 [21:32<06:46, 40.64s/it]"
     ]
    },
    {
     "name": "stdout",
     "output_type": "stream",
     "text": [
      "1/1 [==============================] - 1s 871ms/step - loss: 0.5837 - accuracy: 0.8462\n",
      "20350/20350 [==============================] - 30s 1ms/step\n"
     ]
    },
    {
     "name": "stderr",
     "output_type": "stream",
     "text": [
      "Batches:  78%|███████▊  | 31/40 [22:11<06:00, 40.07s/it]"
     ]
    },
    {
     "name": "stdout",
     "output_type": "stream",
     "text": [
      "1/1 [==============================] - 1s 859ms/step - loss: 0.5790 - accuracy: 0.8406\n",
      "20350/20350 [==============================] - 30s 1ms/step\n"
     ]
    },
    {
     "name": "stderr",
     "output_type": "stream",
     "text": [
      "Batches:  80%|████████  | 32/40 [22:49<05:16, 39.62s/it]"
     ]
    },
    {
     "name": "stdout",
     "output_type": "stream",
     "text": [
      "1/1 [==============================] - 1s 862ms/step - loss: 0.5728 - accuracy: 0.8429\n",
      "20350/20350 [==============================] - 30s 1ms/step\n"
     ]
    },
    {
     "name": "stderr",
     "output_type": "stream",
     "text": [
      "Batches:  82%|████████▎ | 33/40 [23:30<04:39, 39.95s/it]"
     ]
    },
    {
     "name": "stdout",
     "output_type": "stream",
     "text": [
      "1/1 [==============================] - 1s 839ms/step - loss: 0.5677 - accuracy: 0.8456\n",
      "20350/20350 [==============================] - 32s 2ms/step\n"
     ]
    },
    {
     "name": "stderr",
     "output_type": "stream",
     "text": [
      "Batches:  85%|████████▌ | 34/40 [24:10<04:00, 40.09s/it]"
     ]
    },
    {
     "name": "stdout",
     "output_type": "stream",
     "text": [
      "1/1 [==============================] - 1s 1s/step - loss: 0.5591 - accuracy: 0.8570\n",
      "20350/20350 [==============================] - 31s 2ms/step\n"
     ]
    },
    {
     "name": "stderr",
     "output_type": "stream",
     "text": [
      "Batches:  88%|████████▊ | 35/40 [24:50<03:19, 39.99s/it]"
     ]
    },
    {
     "name": "stdout",
     "output_type": "stream",
     "text": [
      "1/1 [==============================] - 1s 877ms/step - loss: 0.5541 - accuracy: 0.8558\n",
      "20350/20350 [==============================] - 31s 2ms/step\n"
     ]
    },
    {
     "name": "stderr",
     "output_type": "stream",
     "text": [
      "Batches:  90%|█████████ | 36/40 [25:29<02:38, 39.71s/it]"
     ]
    },
    {
     "name": "stdout",
     "output_type": "stream",
     "text": [
      "1/1 [==============================] - 1s 874ms/step - loss: 0.5455 - accuracy: 0.8514\n",
      "20350/20350 [==============================] - 30s 1ms/step\n"
     ]
    },
    {
     "name": "stderr",
     "output_type": "stream",
     "text": [
      "Batches:  92%|█████████▎| 37/40 [26:08<01:57, 39.32s/it]"
     ]
    },
    {
     "name": "stdout",
     "output_type": "stream",
     "text": [
      "1/1 [==============================] - 1s 862ms/step - loss: 0.5408 - accuracy: 0.8472\n",
      "20350/20350 [==============================] - 30s 1ms/step\n"
     ]
    },
    {
     "name": "stderr",
     "output_type": "stream",
     "text": [
      "Batches:  95%|█████████▌| 38/40 [26:46<01:18, 39.12s/it]"
     ]
    },
    {
     "name": "stdout",
     "output_type": "stream",
     "text": [
      "1/1 [==============================] - 1s 847ms/step - loss: 0.5352 - accuracy: 0.8447\n",
      "20350/20350 [==============================] - 30s 1ms/step\n"
     ]
    },
    {
     "name": "stderr",
     "output_type": "stream",
     "text": [
      "Batches:  98%|█████████▊| 39/40 [27:25<00:38, 38.93s/it]"
     ]
    },
    {
     "name": "stdout",
     "output_type": "stream",
     "text": [
      "1/1 [==============================] - 1s 849ms/step - loss: 0.5283 - accuracy: 0.8472\n",
      "20350/20350 [==============================] - 30s 1ms/step\n"
     ]
    },
    {
     "name": "stderr",
     "output_type": "stream",
     "text": [
      "Batches: 100%|██████████| 40/40 [28:03<00:00, 42.09s/it]\n"
     ]
    },
    {
     "name": "stdout",
     "output_type": "stream",
     "text": [
      "20350/20350 [==============================] - 30s 1ms/step\n"
     ]
    },
    {
     "data": {
      "image/png": "[encoded data removed]",
      "text/plain": [
       "<Figure size 640x480 with 1 Axes>"
      ]
     },
     "metadata": {},
     "output_type": "display_data"
    },
    {
     "data": {
      "image/png": "[encoded data removed]",
      "text/plain": [
       "<Figure size 640x480 with 1 Axes>"
      ]
     },
     "metadata": {},
     "output_type": "display_data"
    },
    {
     "name": "stdout",
     "output_type": "stream",
     "text": [
      "Training Random Forest on 80 batches\n"
     ]
    },
    {
     "name": "stderr",
     "output_type": "stream",
     "text": [
      "Batches: 100%|██████████| 80/80 [06:12<00:00,  4.65s/it]\n"
     ]
    },
    {
     "name": "stdout",
     "output_type": "stream",
     "text": [
      "Training Naive Bayes on 80 batches\n"
     ]
    },
    {
     "name": "stderr",
     "output_type": "stream",
     "text": [
      "Batches: 100%|██████████| 80/80 [03:05<00:00,  2.32s/it]\n"
     ]
    },
    {
     "name": "stdout",
     "output_type": "stream",
     "text": [
      "Training CNN on 80 batches\n"
     ]
    },
    {
     "name": "stderr",
     "output_type": "stream",
     "text": [
      "Batches:   0%|          | 0/80 [00:00<?, ?it/s]"
     ]
    },
    {
     "name": "stdout",
     "output_type": "stream",
     "text": [
      "1/1 [==============================] - 2s 2s/step - loss: 0.6975 - accuracy: 0.4943\n",
      "7850/7850 [==============================] - 11s 1ms/step\n"
     ]
    },
    {
     "name": "stderr",
     "output_type": "stream",
     "text": [
      "Batches:   1%|▏         | 1/80 [00:16<21:43, 16.50s/it]"
     ]
    },
    {
     "name": "stdout",
     "output_type": "stream",
     "text": [
      "1/1 [==============================] - 1s 839ms/step - loss: 0.6929 - accuracy: 0.5844\n",
      "7850/7850 [==============================] - 12s 1ms/step\n"
     ]
    },
    {
     "name": "stderr",
     "output_type": "stream",
     "text": [
      "Batches:   2%|▎         | 2/80 [00:31<20:35, 15.84s/it]"
     ]
    },
    {
     "name": "stdout",
     "output_type": "stream",
     "text": [
      "1/1 [==============================] - 1s 847ms/step - loss: 0.6905 - accuracy: 0.5042\n",
      "7850/7850 [==============================] - 12s 1ms/step\n"
     ]
    },
    {
     "name": "stderr",
     "output_type": "stream",
     "text": [
      "Batches:   4%|▍         | 3/80 [00:47<20:12, 15.75s/it]"
     ]
    },
    {
     "name": "stdout",
     "output_type": "stream",
     "text": [
      "1/1 [==============================] - 1s 847ms/step - loss: 0.6904 - accuracy: 0.4907\n",
      "7850/7850 [==============================] - 12s 1ms/step\n"
     ]
    },
    {
     "name": "stderr",
     "output_type": "stream",
     "text": [
      "Batches:   5%|▌         | 4/80 [01:03<19:51, 15.67s/it]"
     ]
    },
    {
     "name": "stdout",
     "output_type": "stream",
     "text": [
      "1/1 [==============================] - 1s 853ms/step - loss: 0.6882 - accuracy: 0.4979\n",
      "7850/7850 [==============================] - 12s 1ms/step\n"
     ]
    },
    {
     "name": "stderr",
     "output_type": "stream",
     "text": [
      "Batches:   6%|▋         | 5/80 [01:18<19:34, 15.66s/it]"
     ]
    },
    {
     "name": "stdout",
     "output_type": "stream",
     "text": [
      "1/1 [==============================] - 1s 858ms/step - loss: 0.6866 - accuracy: 0.5005\n",
      "7850/7850 [==============================] - 12s 1ms/step\n"
     ]
    },
    {
     "name": "stderr",
     "output_type": "stream",
     "text": [
      "Batches:   8%|▊         | 6/80 [01:34<19:14, 15.60s/it]"
     ]
    },
    {
     "name": "stdout",
     "output_type": "stream",
     "text": [
      "1/1 [==============================] - 1s 845ms/step - loss: 0.6849 - accuracy: 0.5021\n",
      "7850/7850 [==============================] - 12s 1ms/step\n"
     ]
    },
    {
     "name": "stderr",
     "output_type": "stream",
     "text": [
      "Batches:   9%|▉         | 7/80 [01:49<18:58, 15.60s/it]"
     ]
    },
    {
     "name": "stdout",
     "output_type": "stream",
     "text": [
      "1/1 [==============================] - 1s 864ms/step - loss: 0.6833 - accuracy: 0.5033\n",
      "7850/7850 [==============================] - 12s 1ms/step\n"
     ]
    },
    {
     "name": "stderr",
     "output_type": "stream",
     "text": [
      "Batches:  10%|█         | 8/80 [02:05<18:43, 15.60s/it]"
     ]
    },
    {
     "name": "stdout",
     "output_type": "stream",
     "text": [
      "1/1 [==============================] - 1s 835ms/step - loss: 0.6822 - accuracy: 0.6451\n",
      "7850/7850 [==============================] - 12s 1ms/step\n"
     ]
    },
    {
     "name": "stderr",
     "output_type": "stream",
     "text": [
      "Batches:  11%|█▏        | 9/80 [02:20<18:26, 15.58s/it]"
     ]
    },
    {
     "name": "stdout",
     "output_type": "stream",
     "text": [
      "1/1 [==============================] - 1s 847ms/step - loss: 0.6805 - accuracy: 0.6956\n",
      "7850/7850 [==============================] - 12s 2ms/step\n"
     ]
    },
    {
     "name": "stderr",
     "output_type": "stream",
     "text": [
      "Batches:  12%|█▎        | 10/80 [02:36<18:13, 15.63s/it]"
     ]
    },
    {
     "name": "stdout",
     "output_type": "stream",
     "text": [
      "1/1 [==============================] - 1s 851ms/step - loss: 0.6787 - accuracy: 0.7590\n",
      "7850/7850 [==============================] - 12s 2ms/step\n"
     ]
    },
    {
     "name": "stderr",
     "output_type": "stream",
     "text": [
      "Batches:  14%|█▍        | 11/80 [02:52<17:58, 15.63s/it]"
     ]
    },
    {
     "name": "stdout",
     "output_type": "stream",
     "text": [
      "1/1 [==============================] - 1s 859ms/step - loss: 0.6774 - accuracy: 0.7584\n",
      "7850/7850 [==============================] - 12s 2ms/step\n"
     ]
    },
    {
     "name": "stderr",
     "output_type": "stream",
     "text": [
      "Batches:  15%|█▌        | 12/80 [03:08<17:47, 15.69s/it]"
     ]
    },
    {
     "name": "stdout",
     "output_type": "stream",
     "text": [
      "1/1 [==============================] - 1s 836ms/step - loss: 0.6759 - accuracy: 0.7444\n",
      "7850/7850 [==============================] - 12s 2ms/step\n"
     ]
    },
    {
     "name": "stderr",
     "output_type": "stream",
     "text": [
      "Batches:  16%|█▋        | 13/80 [03:23<17:30, 15.68s/it]"
     ]
    },
    {
     "name": "stdout",
     "output_type": "stream",
     "text": [
      "1/1 [==============================] - 1s 831ms/step - loss: 0.6739 - accuracy: 0.7507\n",
      "7850/7850 [==============================] - 12s 2ms/step\n"
     ]
    },
    {
     "name": "stderr",
     "output_type": "stream",
     "text": [
      "Batches:  18%|█▊        | 14/80 [03:39<17:18, 15.74s/it]"
     ]
    },
    {
     "name": "stdout",
     "output_type": "stream",
     "text": [
      "1/1 [==============================] - 1s 849ms/step - loss: 0.6713 - accuracy: 0.7565\n",
      "7850/7850 [==============================] - 12s 2ms/step\n"
     ]
    },
    {
     "name": "stderr",
     "output_type": "stream",
     "text": [
      "Batches:  19%|█▉        | 15/80 [03:55<17:04, 15.76s/it]"
     ]
    },
    {
     "name": "stdout",
     "output_type": "stream",
     "text": [
      "1/1 [==============================] - 1s 846ms/step - loss: 0.6702 - accuracy: 0.7332\n",
      "7850/7850 [==============================] - 12s 2ms/step\n"
     ]
    },
    {
     "name": "stderr",
     "output_type": "stream",
     "text": [
      "Batches:  20%|██        | 16/80 [04:11<16:51, 15.80s/it]"
     ]
    },
    {
     "name": "stdout",
     "output_type": "stream",
     "text": [
      "1/1 [==============================] - 1s 873ms/step - loss: 0.6675 - accuracy: 0.7058\n",
      "7850/7850 [==============================] - 12s 2ms/step\n"
     ]
    },
    {
     "name": "stderr",
     "output_type": "stream",
     "text": [
      "Batches:  21%|██▏       | 17/80 [04:27<16:37, 15.83s/it]"
     ]
    },
    {
     "name": "stdout",
     "output_type": "stream",
     "text": [
      "1/1 [==============================] - 1s 850ms/step - loss: 0.6660 - accuracy: 0.6944\n",
      "7850/7850 [==============================] - 12s 2ms/step\n"
     ]
    },
    {
     "name": "stderr",
     "output_type": "stream",
     "text": [
      "Batches:  22%|██▎       | 18/80 [04:43<16:20, 15.82s/it]"
     ]
    },
    {
     "name": "stdout",
     "output_type": "stream",
     "text": [
      "1/1 [==============================] - 1s 855ms/step - loss: 0.6653 - accuracy: 0.6906\n",
      "7850/7850 [==============================] - 12s 2ms/step\n"
     ]
    },
    {
     "name": "stderr",
     "output_type": "stream",
     "text": [
      "Batches:  24%|██▍       | 19/80 [04:59<16:07, 15.86s/it]"
     ]
    },
    {
     "name": "stdout",
     "output_type": "stream",
     "text": [
      "1/1 [==============================] - 1s 835ms/step - loss: 0.6609 - accuracy: 0.7070\n",
      "7850/7850 [==============================] - 13s 2ms/step\n"
     ]
    },
    {
     "name": "stderr",
     "output_type": "stream",
     "text": [
      "Batches:  25%|██▌       | 20/80 [05:15<16:07, 16.13s/it]"
     ]
    },
    {
     "name": "stdout",
     "output_type": "stream",
     "text": [
      "1/1 [==============================] - 1s 835ms/step - loss: 0.6591 - accuracy: 0.7012\n",
      "7850/7850 [==============================] - 12s 2ms/step\n"
     ]
    },
    {
     "name": "stderr",
     "output_type": "stream",
     "text": [
      "Batches:  26%|██▋       | 21/80 [05:31<15:44, 16.01s/it]"
     ]
    },
    {
     "name": "stdout",
     "output_type": "stream",
     "text": [
      "1/1 [==============================] - 1s 847ms/step - loss: 0.6560 - accuracy: 0.7119\n",
      "7850/7850 [==============================] - 11s 1ms/step\n"
     ]
    },
    {
     "name": "stderr",
     "output_type": "stream",
     "text": [
      "Batches:  28%|██▊       | 22/80 [05:46<15:15, 15.79s/it]"
     ]
    },
    {
     "name": "stdout",
     "output_type": "stream",
     "text": [
      "1/1 [==============================] - 1s 867ms/step - loss: 0.6548 - accuracy: 0.7008\n",
      "7850/7850 [==============================] - 12s 1ms/step\n"
     ]
    },
    {
     "name": "stderr",
     "output_type": "stream",
     "text": [
      "Batches:  29%|██▉       | 23/80 [06:02<14:56, 15.73s/it]"
     ]
    },
    {
     "name": "stdout",
     "output_type": "stream",
     "text": [
      "1/1 [==============================] - 1s 846ms/step - loss: 0.6507 - accuracy: 0.7173\n",
      "7850/7850 [==============================] - 12s 1ms/step\n"
     ]
    },
    {
     "name": "stderr",
     "output_type": "stream",
     "text": [
      "Batches:  30%|███       | 24/80 [06:18<14:39, 15.71s/it]"
     ]
    },
    {
     "name": "stdout",
     "output_type": "stream",
     "text": [
      "1/1 [==============================] - 1s 836ms/step - loss: 0.6470 - accuracy: 0.7323\n",
      "7850/7850 [==============================] - 12s 2ms/step\n"
     ]
    },
    {
     "name": "stderr",
     "output_type": "stream",
     "text": [
      "Batches:  31%|███▏      | 25/80 [06:33<14:25, 15.73s/it]"
     ]
    },
    {
     "name": "stdout",
     "output_type": "stream",
     "text": [
      "1/1 [==============================] - 1s 845ms/step - loss: 0.6449 - accuracy: 0.7315\n",
      "7850/7850 [==============================] - 11s 1ms/step\n"
     ]
    },
    {
     "name": "stderr",
     "output_type": "stream",
     "text": [
      "Batches:  32%|███▎      | 26/80 [06:49<14:04, 15.64s/it]"
     ]
    },
    {
     "name": "stdout",
     "output_type": "stream",
     "text": [
      "1/1 [==============================] - 1s 859ms/step - loss: 0.6426 - accuracy: 0.7267\n",
      "7850/7850 [==============================] - 12s 2ms/step\n"
     ]
    },
    {
     "name": "stderr",
     "output_type": "stream",
     "text": [
      "Batches:  34%|███▍      | 27/80 [07:05<13:53, 15.73s/it]"
     ]
    },
    {
     "name": "stdout",
     "output_type": "stream",
     "text": [
      "1/1 [==============================] - 1s 847ms/step - loss: 0.6394 - accuracy: 0.7320\n",
      "7850/7850 [==============================] - 12s 2ms/step\n"
     ]
    },
    {
     "name": "stderr",
     "output_type": "stream",
     "text": [
      "Batches:  35%|███▌      | 28/80 [07:20<13:38, 15.74s/it]"
     ]
    },
    {
     "name": "stdout",
     "output_type": "stream",
     "text": [
      "1/1 [==============================] - 1s 852ms/step - loss: 0.6334 - accuracy: 0.7422\n",
      "7850/7850 [==============================] - 12s 2ms/step\n"
     ]
    },
    {
     "name": "stderr",
     "output_type": "stream",
     "text": [
      "Batches:  36%|███▋      | 29/80 [07:37<13:28, 15.85s/it]"
     ]
    },
    {
     "name": "stdout",
     "output_type": "stream",
     "text": [
      "1/1 [==============================] - 1s 848ms/step - loss: 0.6330 - accuracy: 0.7264\n",
      "7850/7850 [==============================] - 12s 2ms/step\n"
     ]
    },
    {
     "name": "stderr",
     "output_type": "stream",
     "text": [
      "Batches:  38%|███▊      | 30/80 [07:52<13:10, 15.82s/it]"
     ]
    },
    {
     "name": "stdout",
     "output_type": "stream",
     "text": [
      "1/1 [==============================] - 1s 832ms/step - loss: 0.6280 - accuracy: 0.7296\n",
      "7850/7850 [==============================] - 12s 2ms/step\n"
     ]
    },
    {
     "name": "stderr",
     "output_type": "stream",
     "text": [
      "Batches:  39%|███▉      | 31/80 [08:08<12:54, 15.80s/it]"
     ]
    },
    {
     "name": "stdout",
     "output_type": "stream",
     "text": [
      "1/1 [==============================] - 1s 843ms/step - loss: 0.6253 - accuracy: 0.7315\n",
      "7850/7850 [==============================] - 12s 2ms/step\n"
     ]
    },
    {
     "name": "stderr",
     "output_type": "stream",
     "text": [
      "Batches:  40%|████      | 32/80 [08:24<12:40, 15.85s/it]"
     ]
    },
    {
     "name": "stdout",
     "output_type": "stream",
     "text": [
      "1/1 [==============================] - 1s 853ms/step - loss: 0.6219 - accuracy: 0.7266\n",
      "7850/7850 [==============================] - 12s 2ms/step\n"
     ]
    },
    {
     "name": "stderr",
     "output_type": "stream",
     "text": [
      "Batches:  41%|████▏     | 33/80 [08:40<12:25, 15.85s/it]"
     ]
    },
    {
     "name": "stdout",
     "output_type": "stream",
     "text": [
      "1/1 [==============================] - 1s 847ms/step - loss: 0.6166 - accuracy: 0.7355\n",
      "7850/7850 [==============================] - 12s 1ms/step\n"
     ]
    },
    {
     "name": "stderr",
     "output_type": "stream",
     "text": [
      "Batches:  42%|████▎     | 34/80 [08:56<12:05, 15.78s/it]"
     ]
    },
    {
     "name": "stdout",
     "output_type": "stream",
     "text": [
      "1/1 [==============================] - 1s 846ms/step - loss: 0.6124 - accuracy: 0.7412\n",
      "7850/7850 [==============================] - 12s 2ms/step\n"
     ]
    },
    {
     "name": "stderr",
     "output_type": "stream",
     "text": [
      "Batches:  44%|████▍     | 35/80 [09:11<11:50, 15.80s/it]"
     ]
    },
    {
     "name": "stdout",
     "output_type": "stream",
     "text": [
      "1/1 [==============================] - 1s 860ms/step - loss: 0.6081 - accuracy: 0.7442\n",
      "7850/7850 [==============================] - 12s 2ms/step\n"
     ]
    },
    {
     "name": "stderr",
     "output_type": "stream",
     "text": [
      "Batches:  45%|████▌     | 36/80 [09:27<11:35, 15.81s/it]"
     ]
    },
    {
     "name": "stdout",
     "output_type": "stream",
     "text": [
      "1/1 [==============================] - 1s 859ms/step - loss: 0.6062 - accuracy: 0.7418\n",
      "7850/7850 [==============================] - 12s 2ms/step\n"
     ]
    },
    {
     "name": "stderr",
     "output_type": "stream",
     "text": [
      "Batches:  46%|████▋     | 37/80 [09:43<11:18, 15.78s/it]"
     ]
    },
    {
     "name": "stdout",
     "output_type": "stream",
     "text": [
      "1/1 [==============================] - 1s 824ms/step - loss: 0.6001 - accuracy: 0.7373\n",
      "7850/7850 [==============================] - 12s 2ms/step\n"
     ]
    },
    {
     "name": "stderr",
     "output_type": "stream",
     "text": [
      "Batches:  48%|████▊     | 38/80 [09:59<11:04, 15.81s/it]"
     ]
    },
    {
     "name": "stdout",
     "output_type": "stream",
     "text": [
      "1/1 [==============================] - 1s 859ms/step - loss: 0.5983 - accuracy: 0.7364\n",
      "7850/7850 [==============================] - 12s 2ms/step\n"
     ]
    },
    {
     "name": "stderr",
     "output_type": "stream",
     "text": [
      "Batches:  49%|████▉     | 39/80 [10:15<10:50, 15.86s/it]"
     ]
    },
    {
     "name": "stdout",
     "output_type": "stream",
     "text": [
      "1/1 [==============================] - 1s 874ms/step - loss: 0.5936 - accuracy: 0.7361\n",
      "7850/7850 [==============================] - 12s 1ms/step\n"
     ]
    },
    {
     "name": "stderr",
     "output_type": "stream",
     "text": [
      "Batches:  50%|█████     | 40/80 [10:30<10:32, 15.82s/it]"
     ]
    },
    {
     "name": "stdout",
     "output_type": "stream",
     "text": [
      "1/1 [==============================] - 1s 854ms/step - loss: 0.5851 - accuracy: 0.7488\n",
      "7850/7850 [==============================] - 12s 2ms/step\n"
     ]
    },
    {
     "name": "stderr",
     "output_type": "stream",
     "text": [
      "Batches:  51%|█████▏    | 41/80 [10:46<10:17, 15.82s/it]"
     ]
    },
    {
     "name": "stdout",
     "output_type": "stream",
     "text": [
      "1/1 [==============================] - 1s 857ms/step - loss: 0.5870 - accuracy: 0.7493\n",
      "7850/7850 [==============================] - 12s 1ms/step\n"
     ]
    },
    {
     "name": "stderr",
     "output_type": "stream",
     "text": [
      "Batches:  52%|█████▎    | 42/80 [11:02<09:59, 15.77s/it]"
     ]
    },
    {
     "name": "stdout",
     "output_type": "stream",
     "text": [
      "1/1 [==============================] - 1s 836ms/step - loss: 0.5814 - accuracy: 0.7558\n",
      "7850/7850 [==============================] - 12s 2ms/step\n"
     ]
    },
    {
     "name": "stderr",
     "output_type": "stream",
     "text": [
      "Batches:  54%|█████▍    | 43/80 [11:18<09:44, 15.78s/it]"
     ]
    },
    {
     "name": "stdout",
     "output_type": "stream",
     "text": [
      "1/1 [==============================] - 1s 847ms/step - loss: 0.5770 - accuracy: 0.7535\n",
      "7850/7850 [==============================] - 12s 1ms/step\n"
     ]
    },
    {
     "name": "stderr",
     "output_type": "stream",
     "text": [
      "Batches:  55%|█████▌    | 44/80 [11:34<09:28, 15.79s/it]"
     ]
    },
    {
     "name": "stdout",
     "output_type": "stream",
     "text": [
      "1/1 [==============================] - 1s 864ms/step - loss: 0.5690 - accuracy: 0.7641\n",
      "7850/7850 [==============================] - 12s 2ms/step\n"
     ]
    },
    {
     "name": "stderr",
     "output_type": "stream",
     "text": [
      "Batches:  56%|█████▋    | 45/80 [11:49<09:12, 15.79s/it]"
     ]
    },
    {
     "name": "stdout",
     "output_type": "stream",
     "text": [
      "1/1 [==============================] - 1s 868ms/step - loss: 0.5684 - accuracy: 0.7617\n",
      "7850/7850 [==============================] - 12s 2ms/step\n"
     ]
    },
    {
     "name": "stderr",
     "output_type": "stream",
     "text": [
      "Batches:  57%|█████▊    | 46/80 [12:05<08:57, 15.79s/it]"
     ]
    },
    {
     "name": "stdout",
     "output_type": "stream",
     "text": [
      "1/1 [==============================] - 1s 858ms/step - loss: 0.5615 - accuracy: 0.7659\n",
      "7850/7850 [==============================] - 12s 1ms/step\n"
     ]
    },
    {
     "name": "stderr",
     "output_type": "stream",
     "text": [
      "Batches:  59%|█████▉    | 47/80 [12:21<08:39, 15.74s/it]"
     ]
    },
    {
     "name": "stdout",
     "output_type": "stream",
     "text": [
      "1/1 [==============================] - 1s 832ms/step - loss: 0.5575 - accuracy: 0.7694\n",
      "7850/7850 [==============================] - 12s 2ms/step\n"
     ]
    },
    {
     "name": "stderr",
     "output_type": "stream",
     "text": [
      "Batches:  60%|██████    | 48/80 [12:36<08:22, 15.71s/it]"
     ]
    },
    {
     "name": "stdout",
     "output_type": "stream",
     "text": [
      "1/1 [==============================] - 1s 847ms/step - loss: 0.5551 - accuracy: 0.7720\n",
      "7850/7850 [==============================] - 12s 2ms/step\n"
     ]
    },
    {
     "name": "stderr",
     "output_type": "stream",
     "text": [
      "Batches:  61%|██████▏   | 49/80 [12:52<08:08, 15.76s/it]"
     ]
    },
    {
     "name": "stdout",
     "output_type": "stream",
     "text": [
      "1/1 [==============================] - 1s 866ms/step - loss: 0.5563 - accuracy: 0.7696\n",
      "7850/7850 [==============================] - 12s 2ms/step\n"
     ]
    },
    {
     "name": "stderr",
     "output_type": "stream",
     "text": [
      "Batches:  62%|██████▎   | 50/80 [13:08<07:51, 15.72s/it]"
     ]
    },
    {
     "name": "stdout",
     "output_type": "stream",
     "text": [
      "1/1 [==============================] - 1s 864ms/step - loss: 0.5475 - accuracy: 0.7774\n",
      "7850/7850 [==============================] - 12s 2ms/step\n"
     ]
    },
    {
     "name": "stderr",
     "output_type": "stream",
     "text": [
      "Batches:  64%|██████▍   | 51/80 [13:24<07:34, 15.69s/it]"
     ]
    },
    {
     "name": "stdout",
     "output_type": "stream",
     "text": [
      "1/1 [==============================] - 1s 857ms/step - loss: 0.5377 - accuracy: 0.7936\n",
      "7850/7850 [==============================] - 12s 2ms/step\n"
     ]
    },
    {
     "name": "stderr",
     "output_type": "stream",
     "text": [
      "Batches:  65%|██████▌   | 52/80 [13:39<07:20, 15.74s/it]"
     ]
    },
    {
     "name": "stdout",
     "output_type": "stream",
     "text": [
      "1/1 [==============================] - 1s 848ms/step - loss: 0.5330 - accuracy: 0.7968\n",
      "7850/7850 [==============================] - 12s 2ms/step\n"
     ]
    },
    {
     "name": "stderr",
     "output_type": "stream",
     "text": [
      "Batches:  66%|██████▋   | 53/80 [13:55<07:07, 15.83s/it]"
     ]
    },
    {
     "name": "stdout",
     "output_type": "stream",
     "text": [
      "1/1 [==============================] - 1s 871ms/step - loss: 0.5359 - accuracy: 0.7931\n",
      "7850/7850 [==============================] - 12s 2ms/step\n"
     ]
    },
    {
     "name": "stderr",
     "output_type": "stream",
     "text": [
      "Batches:  68%|██████▊   | 54/80 [14:11<06:51, 15.83s/it]"
     ]
    },
    {
     "name": "stdout",
     "output_type": "stream",
     "text": [
      "1/1 [==============================] - 1s 855ms/step - loss: 0.5250 - accuracy: 0.8008\n",
      "7850/7850 [==============================] - 13s 2ms/step\n"
     ]
    },
    {
     "name": "stderr",
     "output_type": "stream",
     "text": [
      "Batches:  69%|██████▉   | 55/80 [14:30<06:57, 16.68s/it]"
     ]
    },
    {
     "name": "stdout",
     "output_type": "stream",
     "text": [
      "1/1 [==============================] - 1s 878ms/step - loss: 0.5316 - accuracy: 0.7848\n",
      "7850/7850 [==============================] - 12s 2ms/step\n"
     ]
    },
    {
     "name": "stderr",
     "output_type": "stream",
     "text": [
      "Batches:  70%|███████   | 56/80 [14:47<06:39, 16.65s/it]"
     ]
    },
    {
     "name": "stdout",
     "output_type": "stream",
     "text": [
      "1/1 [==============================] - 1s 855ms/step - loss: 0.5259 - accuracy: 0.7989\n",
      "7850/7850 [==============================] - 12s 2ms/step\n"
     ]
    },
    {
     "name": "stderr",
     "output_type": "stream",
     "text": [
      "Batches:  71%|███████▏  | 57/80 [15:02<06:18, 16.44s/it]"
     ]
    },
    {
     "name": "stdout",
     "output_type": "stream",
     "text": [
      "1/1 [==============================] - 1s 843ms/step - loss: 0.5261 - accuracy: 0.8035\n",
      "7850/7850 [==============================] - 12s 2ms/step\n"
     ]
    },
    {
     "name": "stderr",
     "output_type": "stream",
     "text": [
      "Batches:  72%|███████▎  | 58/80 [15:19<06:04, 16.55s/it]"
     ]
    },
    {
     "name": "stdout",
     "output_type": "stream",
     "text": [
      "1/1 [==============================] - 1s 850ms/step - loss: 0.5161 - accuracy: 0.8154\n",
      "7850/7850 [==============================] - 12s 1ms/step\n"
     ]
    },
    {
     "name": "stderr",
     "output_type": "stream",
     "text": [
      "Batches:  74%|███████▍  | 59/80 [15:35<05:41, 16.26s/it]"
     ]
    },
    {
     "name": "stdout",
     "output_type": "stream",
     "text": [
      "1/1 [==============================] - 1s 874ms/step - loss: 0.5165 - accuracy: 0.8148\n",
      "7850/7850 [==============================] - 12s 1ms/step\n"
     ]
    },
    {
     "name": "stderr",
     "output_type": "stream",
     "text": [
      "Batches:  75%|███████▌  | 60/80 [15:50<05:21, 16.06s/it]"
     ]
    },
    {
     "name": "stdout",
     "output_type": "stream",
     "text": [
      "1/1 [==============================] - 1s 847ms/step - loss: 0.5073 - accuracy: 0.8172\n",
      "7850/7850 [==============================] - 12s 2ms/step\n"
     ]
    },
    {
     "name": "stderr",
     "output_type": "stream",
     "text": [
      "Batches:  76%|███████▋  | 61/80 [16:06<05:04, 16.01s/it]"
     ]
    },
    {
     "name": "stdout",
     "output_type": "stream",
     "text": [
      "1/1 [==============================] - 1s 842ms/step - loss: 0.5020 - accuracy: 0.8156\n",
      "7850/7850 [==============================] - 12s 1ms/step\n"
     ]
    },
    {
     "name": "stderr",
     "output_type": "stream",
     "text": [
      "Batches:  78%|███████▊  | 62/80 [16:22<04:45, 15.83s/it]"
     ]
    },
    {
     "name": "stdout",
     "output_type": "stream",
     "text": [
      "1/1 [==============================] - 1s 825ms/step - loss: 0.5028 - accuracy: 0.8126\n",
      "7850/7850 [==============================] - 12s 2ms/step\n"
     ]
    },
    {
     "name": "stderr",
     "output_type": "stream",
     "text": [
      "Batches:  79%|███████▉  | 63/80 [16:38<04:29, 15.83s/it]"
     ]
    },
    {
     "name": "stdout",
     "output_type": "stream",
     "text": [
      "1/1 [==============================] - 1s 847ms/step - loss: 0.4963 - accuracy: 0.8200\n",
      "7850/7850 [==============================] - 12s 1ms/step\n"
     ]
    },
    {
     "name": "stderr",
     "output_type": "stream",
     "text": [
      "Batches:  80%|████████  | 64/80 [16:53<04:12, 15.77s/it]"
     ]
    },
    {
     "name": "stdout",
     "output_type": "stream",
     "text": [
      "1/1 [==============================] - 1s 862ms/step - loss: 0.5007 - accuracy: 0.8183\n",
      "7850/7850 [==============================] - 12s 2ms/step\n"
     ]
    },
    {
     "name": "stderr",
     "output_type": "stream",
     "text": [
      "Batches:  81%|████████▏ | 65/80 [17:09<03:56, 15.79s/it]"
     ]
    },
    {
     "name": "stdout",
     "output_type": "stream",
     "text": [
      "1/1 [==============================] - 1s 860ms/step - loss: 0.4911 - accuracy: 0.8208\n",
      "7850/7850 [==============================] - 12s 1ms/step\n"
     ]
    },
    {
     "name": "stderr",
     "output_type": "stream",
     "text": [
      "Batches:  82%|████████▎ | 66/80 [17:25<03:40, 15.77s/it]"
     ]
    },
    {
     "name": "stdout",
     "output_type": "stream",
     "text": [
      "1/1 [==============================] - 1s 831ms/step - loss: 0.4943 - accuracy: 0.8143\n",
      "7850/7850 [==============================] - 12s 2ms/step\n"
     ]
    },
    {
     "name": "stderr",
     "output_type": "stream",
     "text": [
      "Batches:  84%|████████▍ | 67/80 [17:41<03:25, 15.78s/it]"
     ]
    },
    {
     "name": "stdout",
     "output_type": "stream",
     "text": [
      "1/1 [==============================] - 1s 857ms/step - loss: 0.4839 - accuracy: 0.8203\n",
      "7850/7850 [==============================] - 12s 2ms/step\n"
     ]
    },
    {
     "name": "stderr",
     "output_type": "stream",
     "text": [
      "Batches:  85%|████████▌ | 68/80 [17:57<03:10, 15.85s/it]"
     ]
    },
    {
     "name": "stdout",
     "output_type": "stream",
     "text": [
      "1/1 [==============================] - 1s 852ms/step - loss: 0.4846 - accuracy: 0.8188\n",
      "7850/7850 [==============================] - 12s 2ms/step\n"
     ]
    },
    {
     "name": "stderr",
     "output_type": "stream",
     "text": [
      "Batches:  86%|████████▋ | 69/80 [18:13<02:55, 16.00s/it]"
     ]
    },
    {
     "name": "stdout",
     "output_type": "stream",
     "text": [
      "1/1 [==============================] - 1s 885ms/step - loss: 0.4839 - accuracy: 0.8219\n",
      "7850/7850 [==============================] - 12s 2ms/step\n"
     ]
    },
    {
     "name": "stderr",
     "output_type": "stream",
     "text": [
      "Batches:  88%|████████▊ | 70/80 [18:29<02:41, 16.16s/it]"
     ]
    },
    {
     "name": "stdout",
     "output_type": "stream",
     "text": [
      "1/1 [==============================] - 1s 838ms/step - loss: 0.4817 - accuracy: 0.8245\n",
      "7850/7850 [==============================] - 13s 2ms/step\n"
     ]
    },
    {
     "name": "stderr",
     "output_type": "stream",
     "text": [
      "Batches:  89%|████████▉ | 71/80 [18:46<02:27, 16.35s/it]"
     ]
    },
    {
     "name": "stdout",
     "output_type": "stream",
     "text": [
      "1/1 [==============================] - 1s 847ms/step - loss: 0.4760 - accuracy: 0.8241\n",
      "7850/7850 [==============================] - 12s 2ms/step\n"
     ]
    },
    {
     "name": "stderr",
     "output_type": "stream",
     "text": [
      "Batches:  90%|█████████ | 72/80 [19:02<02:10, 16.30s/it]"
     ]
    },
    {
     "name": "stdout",
     "output_type": "stream",
     "text": [
      "1/1 [==============================] - 1s 883ms/step - loss: 0.4795 - accuracy: 0.8172\n",
      "7850/7850 [==============================] - 12s 2ms/step\n"
     ]
    },
    {
     "name": "stderr",
     "output_type": "stream",
     "text": [
      "Batches:  91%|█████████▏| 73/80 [19:19<01:54, 16.29s/it]"
     ]
    },
    {
     "name": "stdout",
     "output_type": "stream",
     "text": [
      "1/1 [==============================] - 1s 877ms/step - loss: 0.4734 - accuracy: 0.8257\n",
      "7850/7850 [==============================] - 12s 1ms/step\n"
     ]
    },
    {
     "name": "stderr",
     "output_type": "stream",
     "text": [
      "Batches:  92%|█████████▎| 74/80 [19:35<01:36, 16.14s/it]"
     ]
    },
    {
     "name": "stdout",
     "output_type": "stream",
     "text": [
      "1/1 [==============================] - 1s 864ms/step - loss: 0.4716 - accuracy: 0.8260\n",
      "7850/7850 [==============================] - 12s 2ms/step\n"
     ]
    },
    {
     "name": "stderr",
     "output_type": "stream",
     "text": [
      "Batches:  94%|█████████▍| 75/80 [19:51<01:20, 16.13s/it]"
     ]
    },
    {
     "name": "stdout",
     "output_type": "stream",
     "text": [
      "1/1 [==============================] - 1s 850ms/step - loss: 0.4656 - accuracy: 0.8323\n",
      "7850/7850 [==============================] - 12s 2ms/step\n"
     ]
    },
    {
     "name": "stderr",
     "output_type": "stream",
     "text": [
      "Batches:  95%|█████████▌| 76/80 [20:07<01:04, 16.10s/it]"
     ]
    },
    {
     "name": "stdout",
     "output_type": "stream",
     "text": [
      "1/1 [==============================] - 1s 864ms/step - loss: 0.4632 - accuracy: 0.8304\n",
      "7850/7850 [==============================] - 12s 2ms/step\n"
     ]
    },
    {
     "name": "stderr",
     "output_type": "stream",
     "text": [
      "Batches:  96%|█████████▋| 77/80 [20:23<00:48, 16.09s/it]"
     ]
    },
    {
     "name": "stdout",
     "output_type": "stream",
     "text": [
      "1/1 [==============================] - 1s 836ms/step - loss: 0.4648 - accuracy: 0.8257\n",
      "7850/7850 [==============================] - 12s 2ms/step\n"
     ]
    },
    {
     "name": "stderr",
     "output_type": "stream",
     "text": [
      "Batches:  98%|█████████▊| 78/80 [20:39<00:32, 16.00s/it]"
     ]
    },
    {
     "name": "stdout",
     "output_type": "stream",
     "text": [
      "1/1 [==============================] - 1s 846ms/step - loss: 0.4624 - accuracy: 0.8291\n",
      "7850/7850 [==============================] - 12s 1ms/step\n"
     ]
    },
    {
     "name": "stderr",
     "output_type": "stream",
     "text": [
      "Batches:  99%|█████████▉| 79/80 [20:54<00:15, 15.94s/it]"
     ]
    },
    {
     "name": "stdout",
     "output_type": "stream",
     "text": [
      "1/1 [==============================] - 1s 914ms/step - loss: 0.4643 - accuracy: 0.8261\n",
      "7850/7850 [==============================] - 12s 2ms/step\n"
     ]
    },
    {
     "name": "stderr",
     "output_type": "stream",
     "text": [
      "Batches: 100%|██████████| 80/80 [21:10<00:00, 15.88s/it]"
     ]
    },
    {
     "name": "stdout",
     "output_type": "stream",
     "text": [
      "   1/7850 [..............................] - ETA: 4:12"
     ]
    },
    {
     "name": "stderr",
     "output_type": "stream",
     "text": [
      "\n"
     ]
    },
    {
     "name": "stdout",
     "output_type": "stream",
     "text": [
      "7850/7850 [==============================] - 12s 2ms/step\n"
     ]
    },
    {
     "data": {
      "image/png": "[encoded data removed]",
      "text/plain": [
       "<Figure size 640x480 with 1 Axes>"
      ]
     },
     "metadata": {},
     "output_type": "display_data"
    },
    {
     "data": {
      "image/png": "[encoded data removed]",
      "text/plain": [
       "<Figure size 640x480 with 1 Axes>"
      ]
     },
     "metadata": {},
     "output_type": "display_data"
    },
    {
     "name": "stdout",
     "output_type": "stream",
     "text": [
      "Training Random Forest on 40 batches\n"
     ]
    },
    {
     "name": "stderr",
     "output_type": "stream",
     "text": [
      "Batches: 100%|██████████| 40/40 [03:06<00:00,  4.65s/it]\n"
     ]
    },
    {
     "name": "stdout",
     "output_type": "stream",
     "text": [
      "Training Naive Bayes on 40 batches\n"
     ]
    },
    {
     "name": "stderr",
     "output_type": "stream",
     "text": [
      "Batches: 100%|██████████| 40/40 [02:41<00:00,  4.05s/it]\n"
     ]
    },
    {
     "name": "stdout",
     "output_type": "stream",
     "text": [
      "Training CNN on 40 batches\n"
     ]
    },
    {
     "name": "stderr",
     "output_type": "stream",
     "text": [
      "Batches:   0%|          | 0/40 [00:00<?, ?it/s]"
     ]
    },
    {
     "name": "stdout",
     "output_type": "stream",
     "text": [
      "1/1 [==============================] - 2s 2s/step - loss: 0.6863 - accuracy: 0.5000\n",
      "14100/14100 [==============================] - 20s 1ms/step\n"
     ]
    },
    {
     "name": "stderr",
     "output_type": "stream",
     "text": [
      "Batches:   2%|▎         | 1/40 [00:29<19:04, 29.35s/it]"
     ]
    },
    {
     "name": "stdout",
     "output_type": "stream",
     "text": [
      "1/1 [==============================] - 1s 847ms/step - loss: 0.6797 - accuracy: 0.5094\n",
      "14100/14100 [==============================] - 21s 2ms/step\n"
     ]
    },
    {
     "name": "stderr",
     "output_type": "stream",
     "text": [
      "Batches:   5%|▌         | 2/40 [00:57<18:05, 28.56s/it]"
     ]
    },
    {
     "name": "stdout",
     "output_type": "stream",
     "text": [
      "1/1 [==============================] - 1s 1s/step - loss: 0.6762 - accuracy: 0.5071\n",
      "14100/14100 [==============================] - 21s 1ms/step\n"
     ]
    },
    {
     "name": "stderr",
     "output_type": "stream",
     "text": [
      "Batches:   8%|▊         | 3/40 [01:24<17:14, 27.96s/it]"
     ]
    },
    {
     "name": "stdout",
     "output_type": "stream",
     "text": [
      "1/1 [==============================] - 1s 834ms/step - loss: 0.6775 - accuracy: 0.4886\n",
      "14100/14100 [==============================] - 21s 1ms/step\n"
     ]
    },
    {
     "name": "stderr",
     "output_type": "stream",
     "text": [
      "Batches:  10%|█         | 4/40 [01:51<16:25, 27.39s/it]"
     ]
    },
    {
     "name": "stdout",
     "output_type": "stream",
     "text": [
      "1/1 [==============================] - 1s 856ms/step - loss: 0.6728 - accuracy: 0.4976\n",
      "14100/14100 [==============================] - 21s 1ms/step\n"
     ]
    },
    {
     "name": "stderr",
     "output_type": "stream",
     "text": [
      "Batches:  12%|█▎        | 5/40 [02:17<15:48, 27.11s/it]"
     ]
    },
    {
     "name": "stdout",
     "output_type": "stream",
     "text": [
      "1/1 [==============================] - 1s 840ms/step - loss: 0.6678 - accuracy: 0.5003\n",
      "14100/14100 [==============================] - 20s 1ms/step\n"
     ]
    },
    {
     "name": "stderr",
     "output_type": "stream",
     "text": [
      "Batches:  15%|█▌        | 6/40 [02:44<15:14, 26.89s/it]"
     ]
    },
    {
     "name": "stdout",
     "output_type": "stream",
     "text": [
      "1/1 [==============================] - 1s 856ms/step - loss: 0.6668 - accuracy: 0.4970\n",
      "14100/14100 [==============================] - 21s 1ms/step\n"
     ]
    },
    {
     "name": "stderr",
     "output_type": "stream",
     "text": [
      "Batches:  18%|█▊        | 7/40 [03:11<14:49, 26.95s/it]"
     ]
    },
    {
     "name": "stdout",
     "output_type": "stream",
     "text": [
      "1/1 [==============================] - 1s 862ms/step - loss: 0.6614 - accuracy: 0.5548\n",
      "14100/14100 [==============================] - 21s 1ms/step\n"
     ]
    },
    {
     "name": "stderr",
     "output_type": "stream",
     "text": [
      "Batches:  20%|██        | 8/40 [03:37<14:18, 26.82s/it]"
     ]
    },
    {
     "name": "stdout",
     "output_type": "stream",
     "text": [
      "1/1 [==============================] - 1s 847ms/step - loss: 0.6572 - accuracy: 0.6390\n",
      "14100/14100 [==============================] - 20s 1ms/step\n"
     ]
    },
    {
     "name": "stderr",
     "output_type": "stream",
     "text": [
      "Batches:  22%|██▎       | 9/40 [04:04<13:49, 26.75s/it]"
     ]
    },
    {
     "name": "stdout",
     "output_type": "stream",
     "text": [
      "1/1 [==============================] - 1s 823ms/step - loss: 0.6539 - accuracy: 0.6716\n",
      "14100/14100 [==============================] - 21s 1ms/step\n"
     ]
    },
    {
     "name": "stderr",
     "output_type": "stream",
     "text": [
      "Batches:  25%|██▌       | 10/40 [04:31<13:23, 26.80s/it]"
     ]
    },
    {
     "name": "stdout",
     "output_type": "stream",
     "text": [
      "1/1 [==============================] - 1s 838ms/step - loss: 0.6502 - accuracy: 0.6847\n",
      "14100/14100 [==============================] - 21s 1ms/step\n"
     ]
    },
    {
     "name": "stderr",
     "output_type": "stream",
     "text": [
      "Batches:  28%|██▊       | 11/40 [04:58<12:58, 26.86s/it]"
     ]
    },
    {
     "name": "stdout",
     "output_type": "stream",
     "text": [
      "1/1 [==============================] - 1s 847ms/step - loss: 0.6464 - accuracy: 0.6862\n",
      "14100/14100 [==============================] - 21s 1ms/step\n"
     ]
    },
    {
     "name": "stderr",
     "output_type": "stream",
     "text": [
      "Batches:  30%|███       | 12/40 [05:25<12:39, 27.11s/it]"
     ]
    },
    {
     "name": "stdout",
     "output_type": "stream",
     "text": [
      "1/1 [==============================] - 1s 855ms/step - loss: 0.6432 - accuracy: 0.6872\n",
      "14100/14100 [==============================] - 21s 1ms/step\n"
     ]
    },
    {
     "name": "stderr",
     "output_type": "stream",
     "text": [
      "Batches:  32%|███▎      | 13/40 [05:52<12:10, 27.05s/it]"
     ]
    },
    {
     "name": "stdout",
     "output_type": "stream",
     "text": [
      "1/1 [==============================] - 1s 850ms/step - loss: 0.6357 - accuracy: 0.6978\n",
      "14100/14100 [==============================] - 21s 1ms/step\n"
     ]
    },
    {
     "name": "stderr",
     "output_type": "stream",
     "text": [
      "Batches:  35%|███▌      | 14/40 [06:19<11:41, 26.97s/it]"
     ]
    },
    {
     "name": "stdout",
     "output_type": "stream",
     "text": [
      "1/1 [==============================] - 1s 852ms/step - loss: 0.6325 - accuracy: 0.6894\n",
      "14100/14100 [==============================] - 20s 1ms/step\n"
     ]
    },
    {
     "name": "stderr",
     "output_type": "stream",
     "text": [
      "Batches:  38%|███▊      | 15/40 [06:46<11:10, 26.80s/it]"
     ]
    },
    {
     "name": "stdout",
     "output_type": "stream",
     "text": [
      "1/1 [==============================] - 1s 847ms/step - loss: 0.6275 - accuracy: 0.6857\n",
      "14100/14100 [==============================] - 21s 1ms/step\n"
     ]
    },
    {
     "name": "stderr",
     "output_type": "stream",
     "text": [
      "Batches:  40%|████      | 16/40 [07:12<10:43, 26.81s/it]"
     ]
    },
    {
     "name": "stdout",
     "output_type": "stream",
     "text": [
      "1/1 [==============================] - 1s 847ms/step - loss: 0.6237 - accuracy: 0.7614\n",
      "14100/14100 [==============================] - 21s 1ms/step\n"
     ]
    },
    {
     "name": "stderr",
     "output_type": "stream",
     "text": [
      "Batches:  42%|████▎     | 17/40 [07:39<10:16, 26.80s/it]"
     ]
    },
    {
     "name": "stdout",
     "output_type": "stream",
     "text": [
      "1/1 [==============================] - 1s 860ms/step - loss: 0.6167 - accuracy: 0.7779\n",
      "14100/14100 [==============================] - 21s 1ms/step\n"
     ]
    },
    {
     "name": "stderr",
     "output_type": "stream",
     "text": [
      "Batches:  45%|████▌     | 18/40 [08:07<09:53, 26.97s/it]"
     ]
    },
    {
     "name": "stdout",
     "output_type": "stream",
     "text": [
      "1/1 [==============================] - 1s 815ms/step - loss: 0.6117 - accuracy: 0.7867\n",
      "14100/14100 [==============================] - 21s 1ms/step\n"
     ]
    },
    {
     "name": "stderr",
     "output_type": "stream",
     "text": [
      "Batches:  48%|████▊     | 19/40 [08:33<09:24, 26.90s/it]"
     ]
    },
    {
     "name": "stdout",
     "output_type": "stream",
     "text": [
      "1/1 [==============================] - 1s 836ms/step - loss: 0.6047 - accuracy: 0.7987\n",
      "14100/14100 [==============================] - 20s 1ms/step\n"
     ]
    },
    {
     "name": "stderr",
     "output_type": "stream",
     "text": [
      "Batches:  50%|█████     | 20/40 [09:00<08:55, 26.75s/it]"
     ]
    },
    {
     "name": "stdout",
     "output_type": "stream",
     "text": [
      "1/1 [==============================] - 1s 839ms/step - loss: 0.5988 - accuracy: 0.7988\n",
      "14100/14100 [==============================] - 20s 1ms/step\n"
     ]
    },
    {
     "name": "stderr",
     "output_type": "stream",
     "text": [
      "Batches:  52%|█████▎    | 21/40 [09:26<08:26, 26.67s/it]"
     ]
    },
    {
     "name": "stdout",
     "output_type": "stream",
     "text": [
      "1/1 [==============================] - 1s 845ms/step - loss: 0.5936 - accuracy: 0.8069\n",
      "14100/14100 [==============================] - 20s 1ms/step\n"
     ]
    },
    {
     "name": "stderr",
     "output_type": "stream",
     "text": [
      "Batches:  55%|█████▌    | 22/40 [09:53<07:59, 26.66s/it]"
     ]
    },
    {
     "name": "stdout",
     "output_type": "stream",
     "text": [
      "1/1 [==============================] - 1s 867ms/step - loss: 0.5859 - accuracy: 0.8136\n",
      "14100/14100 [==============================] - 21s 1ms/step\n"
     ]
    },
    {
     "name": "stderr",
     "output_type": "stream",
     "text": [
      "Batches:  57%|█████▊    | 23/40 [10:20<07:33, 26.68s/it]"
     ]
    },
    {
     "name": "stdout",
     "output_type": "stream",
     "text": [
      "1/1 [==============================] - 1s 835ms/step - loss: 0.5792 - accuracy: 0.8190\n",
      "14100/14100 [==============================] - 21s 1ms/step\n"
     ]
    },
    {
     "name": "stderr",
     "output_type": "stream",
     "text": [
      "Batches:  60%|██████    | 24/40 [10:47<07:08, 26.81s/it]"
     ]
    },
    {
     "name": "stdout",
     "output_type": "stream",
     "text": [
      "1/1 [==============================] - 1s 863ms/step - loss: 0.5713 - accuracy: 0.8208\n",
      "14100/14100 [==============================] - 21s 1ms/step\n"
     ]
    },
    {
     "name": "stderr",
     "output_type": "stream",
     "text": [
      "Batches:  62%|██████▎   | 25/40 [11:13<06:42, 26.81s/it]"
     ]
    },
    {
     "name": "stdout",
     "output_type": "stream",
     "text": [
      "1/1 [==============================] - 1s 871ms/step - loss: 0.5658 - accuracy: 0.8114\n",
      "14100/14100 [==============================] - 20s 1ms/step\n"
     ]
    },
    {
     "name": "stderr",
     "output_type": "stream",
     "text": [
      "Batches:  65%|██████▌   | 26/40 [11:40<06:14, 26.74s/it]"
     ]
    },
    {
     "name": "stdout",
     "output_type": "stream",
     "text": [
      "1/1 [==============================] - 1s 835ms/step - loss: 0.5617 - accuracy: 0.8090\n",
      "14100/14100 [==============================] - 21s 1ms/step\n"
     ]
    },
    {
     "name": "stderr",
     "output_type": "stream",
     "text": [
      "Batches:  68%|██████▊   | 27/40 [12:07<05:47, 26.75s/it]"
     ]
    },
    {
     "name": "stdout",
     "output_type": "stream",
     "text": [
      "1/1 [==============================] - 1s 847ms/step - loss: 0.5493 - accuracy: 0.8228\n",
      "14100/14100 [==============================] - 21s 1ms/step\n"
     ]
    },
    {
     "name": "stderr",
     "output_type": "stream",
     "text": [
      "Batches:  70%|███████   | 28/40 [12:34<05:20, 26.73s/it]"
     ]
    },
    {
     "name": "stdout",
     "output_type": "stream",
     "text": [
      "1/1 [==============================] - 1s 847ms/step - loss: 0.5436 - accuracy: 0.8221\n",
      "14100/14100 [==============================] - 21s 2ms/step\n"
     ]
    },
    {
     "name": "stderr",
     "output_type": "stream",
     "text": [
      "Batches:  72%|███████▎  | 29/40 [13:01<04:56, 26.93s/it]"
     ]
    },
    {
     "name": "stdout",
     "output_type": "stream",
     "text": [
      "1/1 [==============================] - 1s 842ms/step - loss: 0.5342 - accuracy: 0.8268\n",
      "14100/14100 [==============================] - 21s 2ms/step\n"
     ]
    },
    {
     "name": "stderr",
     "output_type": "stream",
     "text": [
      "Batches:  75%|███████▌  | 30/40 [13:30<04:34, 27.49s/it]"
     ]
    },
    {
     "name": "stdout",
     "output_type": "stream",
     "text": [
      "1/1 [==============================] - 1s 836ms/step - loss: 0.5262 - accuracy: 0.8321\n",
      "14100/14100 [==============================] - 20s 1ms/step\n"
     ]
    },
    {
     "name": "stderr",
     "output_type": "stream",
     "text": [
      "Batches:  78%|███████▊  | 31/40 [13:56<04:04, 27.17s/it]"
     ]
    },
    {
     "name": "stdout",
     "output_type": "stream",
     "text": [
      "1/1 [==============================] - 1s 851ms/step - loss: 0.5199 - accuracy: 0.8317\n",
      "14100/14100 [==============================] - 21s 1ms/step\n"
     ]
    },
    {
     "name": "stderr",
     "output_type": "stream",
     "text": [
      "Batches:  80%|████████  | 32/40 [14:23<03:35, 26.99s/it]"
     ]
    },
    {
     "name": "stdout",
     "output_type": "stream",
     "text": [
      "1/1 [==============================] - 1s 841ms/step - loss: 0.5103 - accuracy: 0.8296\n",
      "14100/14100 [==============================] - 21s 1ms/step\n"
     ]
    },
    {
     "name": "stderr",
     "output_type": "stream",
     "text": [
      "Batches:  82%|████████▎ | 33/40 [14:50<03:08, 27.00s/it]"
     ]
    },
    {
     "name": "stdout",
     "output_type": "stream",
     "text": [
      "1/1 [==============================] - 1s 847ms/step - loss: 0.5051 - accuracy: 0.8319\n",
      "14100/14100 [==============================] - 21s 1ms/step\n"
     ]
    },
    {
     "name": "stderr",
     "output_type": "stream",
     "text": [
      "Batches:  85%|████████▌ | 34/40 [15:17<02:42, 27.08s/it]"
     ]
    },
    {
     "name": "stdout",
     "output_type": "stream",
     "text": [
      "1/1 [==============================] - 1s 850ms/step - loss: 0.4915 - accuracy: 0.8453\n",
      "14100/14100 [==============================] - 21s 1ms/step\n"
     ]
    },
    {
     "name": "stderr",
     "output_type": "stream",
     "text": [
      "Batches:  88%|████████▊ | 35/40 [15:44<02:14, 26.92s/it]"
     ]
    },
    {
     "name": "stdout",
     "output_type": "stream",
     "text": [
      "1/1 [==============================] - 1s 842ms/step - loss: 0.4883 - accuracy: 0.8483\n",
      "14100/14100 [==============================] - 21s 1ms/step\n"
     ]
    },
    {
     "name": "stderr",
     "output_type": "stream",
     "text": [
      "Batches:  90%|█████████ | 36/40 [16:10<01:47, 26.88s/it]"
     ]
    },
    {
     "name": "stdout",
     "output_type": "stream",
     "text": [
      "1/1 [==============================] - 1s 862ms/step - loss: 0.4787 - accuracy: 0.8527\n",
      "14100/14100 [==============================] - 21s 1ms/step\n"
     ]
    },
    {
     "name": "stderr",
     "output_type": "stream",
     "text": [
      "Batches:  92%|█████████▎| 37/40 [16:37<01:20, 26.95s/it]"
     ]
    },
    {
     "name": "stdout",
     "output_type": "stream",
     "text": [
      "1/1 [==============================] - 1s 824ms/step - loss: 0.4727 - accuracy: 0.8530\n",
      "14100/14100 [==============================] - 21s 1ms/step\n"
     ]
    },
    {
     "name": "stderr",
     "output_type": "stream",
     "text": [
      "Batches:  95%|█████████▌| 38/40 [17:04<00:53, 26.88s/it]"
     ]
    },
    {
     "name": "stdout",
     "output_type": "stream",
     "text": [
      "1/1 [==============================] - 1s 856ms/step - loss: 0.4657 - accuracy: 0.8514\n",
      "14100/14100 [==============================] - 21s 1ms/step\n"
     ]
    },
    {
     "name": "stderr",
     "output_type": "stream",
     "text": [
      "Batches:  98%|█████████▊| 39/40 [17:31<00:26, 26.99s/it]"
     ]
    },
    {
     "name": "stdout",
     "output_type": "stream",
     "text": [
      "1/1 [==============================] - 1s 847ms/step - loss: 0.4597 - accuracy: 0.8507\n",
      "14100/14100 [==============================] - 21s 1ms/step\n"
     ]
    },
    {
     "name": "stderr",
     "output_type": "stream",
     "text": [
      "Batches: 100%|██████████| 40/40 [17:58<00:00, 26.96s/it]"
     ]
    },
    {
     "name": "stdout",
     "output_type": "stream",
     "text": [
      "    1/14100 [..............................] - ETA: 7:07"
     ]
    },
    {
     "name": "stderr",
     "output_type": "stream",
     "text": [
      "\n"
     ]
    },
    {
     "name": "stdout",
     "output_type": "stream",
     "text": [
      "14100/14100 [==============================] - 21s 1ms/step\n"
     ]
    },
    {
     "data": {
      "image/png": "[encoded data removed]",
      "text/plain": [
       "<Figure size 640x480 with 1 Axes>"
      ]
     },
     "metadata": {},
     "output_type": "display_data"
    },
    {
     "data": {
      "image/png": "[encoded data removed]",
      "text/plain": [
       "<Figure size 640x480 with 1 Axes>"
      ]
     },
     "metadata": {},
     "output_type": "display_data"
    },
    {
     "name": "stdout",
     "output_type": "stream",
     "text": [
      "Training Random Forest on 40 batches\n"
     ]
    },
    {
     "name": "stderr",
     "output_type": "stream",
     "text": [
      "Batches: 100%|██████████| 40/40 [03:25<00:00,  5.13s/it]\n"
     ]
    },
    {
     "name": "stdout",
     "output_type": "stream",
     "text": [
      "Training Naive Bayes on 40 batches\n"
     ]
    },
    {
     "name": "stderr",
     "output_type": "stream",
     "text": [
      "Batches: 100%|██████████| 40/40 [02:30<00:00,  3.75s/it]\n"
     ]
    },
    {
     "name": "stdout",
     "output_type": "stream",
     "text": [
      "Training CNN on 40 batches\n"
     ]
    },
    {
     "name": "stderr",
     "output_type": "stream",
     "text": [
      "Batches:   0%|          | 0/40 [00:00<?, ?it/s]"
     ]
    },
    {
     "name": "stdout",
     "output_type": "stream",
     "text": [
      "1/1 [==============================] - 2s 2s/step - loss: 0.6926 - accuracy: 0.5028\n",
      "14100/14100 [==============================] - 20s 1ms/step\n"
     ]
    },
    {
     "name": "stderr",
     "output_type": "stream",
     "text": [
      "Batches:   2%|▎         | 1/40 [00:26<17:26, 26.83s/it]"
     ]
    },
    {
     "name": "stdout",
     "output_type": "stream",
     "text": [
      "1/1 [==============================] - 1s 878ms/step - loss: 0.6907 - accuracy: 0.4923\n",
      "14100/14100 [==============================] - 20s 1ms/step\n"
     ]
    },
    {
     "name": "stderr",
     "output_type": "stream",
     "text": [
      "Batches:   5%|▌         | 2/40 [00:52<16:40, 26.32s/it]"
     ]
    },
    {
     "name": "stdout",
     "output_type": "stream",
     "text": [
      "1/1 [==============================] - 1s 886ms/step - loss: 0.6884 - accuracy: 0.5029\n",
      "14100/14100 [==============================] - 21s 1ms/step\n"
     ]
    },
    {
     "name": "stderr",
     "output_type": "stream",
     "text": [
      "Batches:   8%|▊         | 3/40 [01:18<16:11, 26.26s/it]"
     ]
    },
    {
     "name": "stdout",
     "output_type": "stream",
     "text": [
      "1/1 [==============================] - 1s 836ms/step - loss: 0.6860 - accuracy: 0.5153\n",
      "14100/14100 [==============================] - 21s 1ms/step\n"
     ]
    },
    {
     "name": "stderr",
     "output_type": "stream",
     "text": [
      "Batches:  10%|█         | 4/40 [01:45<15:44, 26.23s/it]"
     ]
    },
    {
     "name": "stdout",
     "output_type": "stream",
     "text": [
      "1/1 [==============================] - 1s 884ms/step - loss: 0.6840 - accuracy: 0.5138\n",
      "14100/14100 [==============================] - 21s 1ms/step\n"
     ]
    },
    {
     "name": "stderr",
     "output_type": "stream",
     "text": [
      "Batches:  12%|█▎        | 5/40 [02:11<15:22, 26.37s/it]"
     ]
    },
    {
     "name": "stdout",
     "output_type": "stream",
     "text": [
      "1/1 [==============================] - 1s 847ms/step - loss: 0.6832 - accuracy: 0.5098\n",
      "14100/14100 [==============================] - 21s 1ms/step\n"
     ]
    },
    {
     "name": "stderr",
     "output_type": "stream",
     "text": [
      "Batches:  15%|█▌        | 6/40 [02:38<14:56, 26.37s/it]"
     ]
    },
    {
     "name": "stdout",
     "output_type": "stream",
     "text": [
      "1/1 [==============================] - 1s 838ms/step - loss: 0.6811 - accuracy: 0.5376\n",
      "14100/14100 [==============================] - 21s 1ms/step\n"
     ]
    },
    {
     "name": "stderr",
     "output_type": "stream",
     "text": [
      "Batches:  18%|█▊        | 7/40 [03:04<14:25, 26.24s/it]"
     ]
    },
    {
     "name": "stdout",
     "output_type": "stream",
     "text": [
      "1/1 [==============================] - 1s 835ms/step - loss: 0.6792 - accuracy: 0.6051\n",
      "14100/14100 [==============================] - 20s 1ms/step\n"
     ]
    },
    {
     "name": "stderr",
     "output_type": "stream",
     "text": [
      "Batches:  20%|██        | 8/40 [03:29<13:53, 26.06s/it]"
     ]
    },
    {
     "name": "stdout",
     "output_type": "stream",
     "text": [
      "1/1 [==============================] - 1s 853ms/step - loss: 0.6773 - accuracy: 0.7145\n",
      "14100/14100 [==============================] - 21s 1ms/step\n"
     ]
    },
    {
     "name": "stderr",
     "output_type": "stream",
     "text": [
      "Batches:  22%|██▎       | 9/40 [03:56<13:29, 26.13s/it]"
     ]
    },
    {
     "name": "stdout",
     "output_type": "stream",
     "text": [
      "1/1 [==============================] - 1s 841ms/step - loss: 0.6750 - accuracy: 0.7260\n",
      "14100/14100 [==============================] - 21s 1ms/step\n"
     ]
    },
    {
     "name": "stderr",
     "output_type": "stream",
     "text": [
      "Batches:  25%|██▌       | 10/40 [04:23<13:11, 26.38s/it]"
     ]
    },
    {
     "name": "stdout",
     "output_type": "stream",
     "text": [
      "1/1 [==============================] - 1s 851ms/step - loss: 0.6730 - accuracy: 0.7288\n",
      "14100/14100 [==============================] - 21s 2ms/step\n"
     ]
    },
    {
     "name": "stderr",
     "output_type": "stream",
     "text": [
      "Batches:  28%|██▊       | 11/40 [04:49<12:50, 26.56s/it]"
     ]
    },
    {
     "name": "stdout",
     "output_type": "stream",
     "text": [
      "1/1 [==============================] - 1s 842ms/step - loss: 0.6709 - accuracy: 0.7287\n",
      "14100/14100 [==============================] - 21s 1ms/step\n"
     ]
    },
    {
     "name": "stderr",
     "output_type": "stream",
     "text": [
      "Batches:  30%|███       | 12/40 [05:17<12:28, 26.74s/it]"
     ]
    },
    {
     "name": "stdout",
     "output_type": "stream",
     "text": [
      "1/1 [==============================] - 1s 1s/step - loss: 0.6682 - accuracy: 0.7469\n",
      "14100/14100 [==============================] - 21s 1ms/step\n"
     ]
    },
    {
     "name": "stderr",
     "output_type": "stream",
     "text": [
      "Batches:  32%|███▎      | 13/40 [05:44<12:03, 26.79s/it]"
     ]
    },
    {
     "name": "stdout",
     "output_type": "stream",
     "text": [
      "1/1 [==============================] - 1s 825ms/step - loss: 0.6668 - accuracy: 0.7417\n",
      "14100/14100 [==============================] - 21s 1ms/step\n"
     ]
    },
    {
     "name": "stderr",
     "output_type": "stream",
     "text": [
      "Batches:  35%|███▌      | 14/40 [06:10<11:33, 26.69s/it]"
     ]
    },
    {
     "name": "stdout",
     "output_type": "stream",
     "text": [
      "1/1 [==============================] - 1s 860ms/step - loss: 0.6644 - accuracy: 0.7399\n",
      "14100/14100 [==============================] - 20s 1ms/step\n"
     ]
    },
    {
     "name": "stderr",
     "output_type": "stream",
     "text": [
      "Batches:  38%|███▊      | 15/40 [06:36<10:59, 26.37s/it]"
     ]
    },
    {
     "name": "stdout",
     "output_type": "stream",
     "text": [
      "1/1 [==============================] - 1s 829ms/step - loss: 0.6631 - accuracy: 0.7321\n",
      "14100/14100 [==============================] - 20s 1ms/step\n"
     ]
    },
    {
     "name": "stderr",
     "output_type": "stream",
     "text": [
      "Batches:  40%|████      | 16/40 [07:02<10:29, 26.23s/it]"
     ]
    },
    {
     "name": "stdout",
     "output_type": "stream",
     "text": [
      "1/1 [==============================] - 1s 846ms/step - loss: 0.6586 - accuracy: 0.7472\n",
      "14100/14100 [==============================] - 21s 1ms/step\n"
     ]
    },
    {
     "name": "stderr",
     "output_type": "stream",
     "text": [
      "Batches:  42%|████▎     | 17/40 [07:28<10:05, 26.32s/it]"
     ]
    },
    {
     "name": "stdout",
     "output_type": "stream",
     "text": [
      "1/1 [==============================] - 1s 853ms/step - loss: 0.6562 - accuracy: 0.7396\n",
      "14100/14100 [==============================] - 20s 1ms/step\n"
     ]
    },
    {
     "name": "stderr",
     "output_type": "stream",
     "text": [
      "Batches:  45%|████▌     | 18/40 [07:54<09:34, 26.11s/it]"
     ]
    },
    {
     "name": "stdout",
     "output_type": "stream",
     "text": [
      "1/1 [==============================] - 1s 862ms/step - loss: 0.6555 - accuracy: 0.7370\n",
      "14100/14100 [==============================] - 20s 1ms/step\n"
     ]
    },
    {
     "name": "stderr",
     "output_type": "stream",
     "text": [
      "Batches:  48%|████▊     | 19/40 [08:20<09:07, 26.07s/it]"
     ]
    },
    {
     "name": "stdout",
     "output_type": "stream",
     "text": [
      "1/1 [==============================] - 1s 822ms/step - loss: 0.6522 - accuracy: 0.7342\n",
      "14100/14100 [==============================] - 20s 1ms/step\n"
     ]
    },
    {
     "name": "stderr",
     "output_type": "stream",
     "text": [
      "Batches:  50%|█████     | 20/40 [08:45<08:39, 25.99s/it]"
     ]
    },
    {
     "name": "stdout",
     "output_type": "stream",
     "text": [
      "1/1 [==============================] - 1s 835ms/step - loss: 0.6482 - accuracy: 0.7372\n",
      "14100/14100 [==============================] - 21s 1ms/step\n"
     ]
    },
    {
     "name": "stderr",
     "output_type": "stream",
     "text": [
      "Batches:  52%|█████▎    | 21/40 [09:12<08:14, 26.00s/it]"
     ]
    },
    {
     "name": "stdout",
     "output_type": "stream",
     "text": [
      "1/1 [==============================] - 1s 836ms/step - loss: 0.6467 - accuracy: 0.7308\n",
      "14100/14100 [==============================] - 20s 1ms/step\n"
     ]
    },
    {
     "name": "stderr",
     "output_type": "stream",
     "text": [
      "Batches:  55%|█████▌    | 22/40 [09:37<07:47, 25.97s/it]"
     ]
    },
    {
     "name": "stdout",
     "output_type": "stream",
     "text": [
      "1/1 [==============================] - 1s 843ms/step - loss: 0.6430 - accuracy: 0.7386\n",
      "14100/14100 [==============================] - 21s 2ms/step\n"
     ]
    },
    {
     "name": "stderr",
     "output_type": "stream",
     "text": [
      "Batches:  57%|█████▊    | 23/40 [10:05<07:30, 26.53s/it]"
     ]
    },
    {
     "name": "stdout",
     "output_type": "stream",
     "text": [
      "1/1 [==============================] - 1s 847ms/step - loss: 0.6391 - accuracy: 0.7379\n",
      "14100/14100 [==============================] - 21s 2ms/step\n"
     ]
    },
    {
     "name": "stderr",
     "output_type": "stream",
     "text": [
      "Batches:  60%|██████    | 24/40 [10:33<07:09, 26.87s/it]"
     ]
    },
    {
     "name": "stdout",
     "output_type": "stream",
     "text": [
      "1/1 [==============================] - 1s 826ms/step - loss: 0.6381 - accuracy: 0.7298\n",
      "14100/14100 [==============================] - 21s 1ms/step\n"
     ]
    },
    {
     "name": "stderr",
     "output_type": "stream",
     "text": [
      "Batches:  62%|██████▎   | 25/40 [11:00<06:44, 26.96s/it]"
     ]
    },
    {
     "name": "stdout",
     "output_type": "stream",
     "text": [
      "1/1 [==============================] - 1s 864ms/step - loss: 0.6350 - accuracy: 0.7333\n",
      "14100/14100 [==============================] - 21s 1ms/step\n"
     ]
    },
    {
     "name": "stderr",
     "output_type": "stream",
     "text": [
      "Batches:  65%|██████▌   | 26/40 [11:27<06:19, 27.08s/it]"
     ]
    },
    {
     "name": "stdout",
     "output_type": "stream",
     "text": [
      "1/1 [==============================] - 1s 847ms/step - loss: 0.6303 - accuracy: 0.7357\n",
      "14100/14100 [==============================] - 21s 1ms/step\n"
     ]
    },
    {
     "name": "stderr",
     "output_type": "stream",
     "text": [
      "Batches:  68%|██████▊   | 27/40 [11:56<05:56, 27.45s/it]"
     ]
    },
    {
     "name": "stdout",
     "output_type": "stream",
     "text": [
      "1/1 [==============================] - 1s 819ms/step - loss: 0.6268 - accuracy: 0.7342\n",
      "14100/14100 [==============================] - 20s 1ms/step\n"
     ]
    },
    {
     "name": "stderr",
     "output_type": "stream",
     "text": [
      "Batches:  70%|███████   | 28/40 [12:22<05:26, 27.23s/it]"
     ]
    },
    {
     "name": "stdout",
     "output_type": "stream",
     "text": [
      "1/1 [==============================] - 1s 844ms/step - loss: 0.6244 - accuracy: 0.7299\n",
      "14100/14100 [==============================] - 20s 1ms/step\n"
     ]
    },
    {
     "name": "stderr",
     "output_type": "stream",
     "text": [
      "Batches:  72%|███████▎  | 29/40 [12:49<04:57, 27.01s/it]"
     ]
    },
    {
     "name": "stdout",
     "output_type": "stream",
     "text": [
      "1/1 [==============================] - 1s 847ms/step - loss: 0.6227 - accuracy: 0.7249\n",
      "14100/14100 [==============================] - 20s 1ms/step\n"
     ]
    },
    {
     "name": "stderr",
     "output_type": "stream",
     "text": [
      "Batches:  75%|███████▌  | 30/40 [13:15<04:28, 26.83s/it]"
     ]
    },
    {
     "name": "stdout",
     "output_type": "stream",
     "text": [
      "1/1 [==============================] - 1s 848ms/step - loss: 0.6159 - accuracy: 0.7341\n",
      "14100/14100 [==============================] - 20s 1ms/step\n"
     ]
    },
    {
     "name": "stderr",
     "output_type": "stream",
     "text": [
      "Batches:  78%|███████▊  | 31/40 [13:42<03:59, 26.66s/it]"
     ]
    },
    {
     "name": "stdout",
     "output_type": "stream",
     "text": [
      "1/1 [==============================] - 1s 839ms/step - loss: 0.6136 - accuracy: 0.7274\n",
      "14100/14100 [==============================] - 20s 1ms/step\n"
     ]
    },
    {
     "name": "stderr",
     "output_type": "stream",
     "text": [
      "Batches:  80%|████████  | 32/40 [14:08<03:31, 26.50s/it]"
     ]
    },
    {
     "name": "stdout",
     "output_type": "stream",
     "text": [
      "1/1 [==============================] - 1s 845ms/step - loss: 0.6104 - accuracy: 0.7336\n",
      "14100/14100 [==============================] - 21s 1ms/step\n"
     ]
    },
    {
     "name": "stderr",
     "output_type": "stream",
     "text": [
      "Batches:  82%|████████▎ | 33/40 [14:34<03:05, 26.52s/it]"
     ]
    },
    {
     "name": "stdout",
     "output_type": "stream",
     "text": [
      "1/1 [==============================] - 1s 875ms/step - loss: 0.6084 - accuracy: 0.7347\n",
      "14100/14100 [==============================] - 20s 1ms/step\n"
     ]
    },
    {
     "name": "stderr",
     "output_type": "stream",
     "text": [
      "Batches:  85%|████████▌ | 34/40 [15:01<02:38, 26.48s/it]"
     ]
    },
    {
     "name": "stdout",
     "output_type": "stream",
     "text": [
      "1/1 [==============================] - 1s 844ms/step - loss: 0.6048 - accuracy: 0.7330\n",
      "14100/14100 [==============================] - 20s 1ms/step\n"
     ]
    },
    {
     "name": "stderr",
     "output_type": "stream",
     "text": [
      "Batches:  88%|████████▊ | 35/40 [15:27<02:12, 26.47s/it]"
     ]
    },
    {
     "name": "stdout",
     "output_type": "stream",
     "text": [
      "1/1 [==============================] - 1s 848ms/step - loss: 0.6009 - accuracy: 0.7341\n",
      "14100/14100 [==============================] - 20s 1ms/step\n"
     ]
    },
    {
     "name": "stderr",
     "output_type": "stream",
     "text": [
      "Batches:  90%|█████████ | 36/40 [15:54<01:46, 26.61s/it]"
     ]
    },
    {
     "name": "stdout",
     "output_type": "stream",
     "text": [
      "1/1 [==============================] - 1s 842ms/step - loss: 0.5989 - accuracy: 0.7307\n",
      "14100/14100 [==============================] - 21s 1ms/step\n"
     ]
    },
    {
     "name": "stderr",
     "output_type": "stream",
     "text": [
      "Batches:  92%|█████████▎| 37/40 [16:21<01:20, 26.72s/it]"
     ]
    },
    {
     "name": "stdout",
     "output_type": "stream",
     "text": [
      "1/1 [==============================] - 1s 874ms/step - loss: 0.5951 - accuracy: 0.7286\n",
      "14100/14100 [==============================] - 20s 1ms/step\n"
     ]
    },
    {
     "name": "stderr",
     "output_type": "stream",
     "text": [
      "Batches:  95%|█████████▌| 38/40 [16:48<00:53, 26.72s/it]"
     ]
    },
    {
     "name": "stdout",
     "output_type": "stream",
     "text": [
      "1/1 [==============================] - 1s 867ms/step - loss: 0.5900 - accuracy: 0.7288\n",
      "14100/14100 [==============================] - 21s 1ms/step\n"
     ]
    },
    {
     "name": "stderr",
     "output_type": "stream",
     "text": [
      "Batches:  98%|█████████▊| 39/40 [17:15<00:26, 26.77s/it]"
     ]
    },
    {
     "name": "stdout",
     "output_type": "stream",
     "text": [
      "1/1 [==============================] - 1s 851ms/step - loss: 0.5878 - accuracy: 0.7275\n",
      "14100/14100 [==============================] - 21s 1ms/step\n"
     ]
    },
    {
     "name": "stderr",
     "output_type": "stream",
     "text": [
      "Batches: 100%|██████████| 40/40 [17:42<00:00, 26.57s/it]\n"
     ]
    },
    {
     "name": "stdout",
     "output_type": "stream",
     "text": [
      "14100/14100 [==============================] - 21s 2ms/step\n"
     ]
    }
   ],
   "source": [
    "trial_performances = {}\n",
    "\n",
    "for name, train_filepath, test_filepath in trials:\n",
    "    trial_performances[name] = {}\n",
    "    \n",
    "    train_df = load_dataset(train_filepath)\n",
    "    test_df = load_dataset(test_filepath)\n",
    "    \n",
    "    # Plot distribution of train and test datasets\n",
    "    plot_distribution(train_df, f\"{name} - Train Dataset Distribution\")\n",
    "    plot_distribution(test_df, f\"{name} - Test Dataset Distribution\")\n",
    "    \n",
    "    # Tokenize URLs\n",
    "    train_tokenized_urls = tokenize_urls(train_df[\"url\"].tolist())\n",
    "    test_tokenized_urls = tokenize_urls(test_df[\"url\"].tolist())\n",
    "\n",
    "    # Train Word2Vec model\n",
    "    word2vec_model = train_word2vec_model(train_tokenized_urls + test_tokenized_urls)\n",
    "\n",
    "    # Get URL embeddings\n",
    "    train_url_embeddings = get_url_embeddings(train_tokenized_urls, word2vec_model)\n",
    "    test_url_embeddings = get_url_embeddings(test_tokenized_urls, word2vec_model)\n",
    "    \n",
    "    y_train = train_df[\"target\"].tolist()\n",
    "    y_test = test_df[\"target\"].tolist() \n",
    "    \n",
    "    trial_performances[name] = run_trial(train_url_embeddings, y_train, test_url_embeddings, y_test)\n",
    "    "
   ]
  },
  {
   "cell_type": "code",
   "execution_count": 107,
   "metadata": {},
   "outputs": [],
   "source": [
    "# Save the trial performances\n",
    "output_dir = \"./outputs\"\n",
    "os.makedirs(output_dir, exist_ok=True)\n",
    "json.dump(trial_performances, open(f\"{output_dir}/trial_performances.json\", \"w\"), indent=4)"
   ]
  },
  {
   "cell_type": "code",
   "execution_count": 114,
   "metadata": {},
   "outputs": [],
   "source": [
    "for model_name in [\"Random Forest\", \"Naive Bayes\", \"CNN\"]:\n",
    "    # Plot line graph per model with each trial plotted together\n",
    "    plt.figure(figsize=(10, 6))\n",
    "    for trial_name, trials_data in trial_performances.items():\n",
    "        for name, model_data in trials_data.items():\n",
    "            if name == model_name:\n",
    "                accuracies = model_data[\"accuracy_list\"][:40]\n",
    "                plt.plot(range(1, len(accuracies) + 1), accuracies, label=trial_name)\n",
    "    plt.xlabel(\"Batches (10,000 instances per batch)\")\n",
    "    plt.ylabel(\"Accuracy\")\n",
    "    plt.title(f\"Accuracies across trials for {model_name}\")\n",
    "    plt.legend()\n",
    "    # plt.show()\n",
    "\n",
    "    # Save the figure to the \"plots\" directory\n",
    "    output_path = os.path.join(output_dir, f\"{model_name}_accuracies_plot.png\")\n",
    "    plt.savefig(output_path)\n",
    "    plt.close()\n"
   ]
  },
  {
   "cell_type": "code",
   "execution_count": 115,
   "metadata": {},
   "outputs": [
    {
     "name": "stdout",
     "output_type": "stream",
     "text": [
      "{'Class': ['RandomForestClassifier', 'GaussianNB', 'CNN'], 'Trial 1 (Baseline)': [0.9580637841323932, 0.8785943763908739, 0.8353603433244026], 'Trial 2 (GenTrain_OriTest)': [0.8366500765520408, 0.8154673513608143, 0.7739848984399355], 'Trial 3 (MixTrain_OriTest)': [0.9612963840264978, 0.8890644967375424, 0.8898726467110685], 'Trial 4 (ReplaceMalicious)': [0.7675950983064822, 0.7794415225481005, 0.6735373710911787], 'Trial 5 (ReplaceBenign)': [0.7457639890866617, 0.7551369597354557, 0.9488287665312473]}\n"
     ]
    }
   ],
   "source": [
    "data = {\n",
    "    \"Class\": [\"RandomForestClassifier\", \"GaussianNB\", \"CNN\"],\n",
    "}\n",
    "\n",
    "for trial_name, trial_data in trial_performances.items():\n",
    "    data[trial_name] = []\n",
    "    for model_name, model_data in trial_data.items():\n",
    "        data[trial_name].append(max(model_data[\"accuracy_list\"]))\n",
    "    \n",
    "print(data)\n",
    "\n",
    "df = pd.DataFrame(data)\n",
    "\n",
    "# Set up the matplotlib figure\n",
    "fig, ax = plt.subplots(figsize=(10, 6))\n",
    "\n",
    "# Plotting bar chart without stacking\n",
    "width = 0.15  # the width of the bars\n",
    "ind = np.arange(len(df['Class']))  # the label locations\n",
    "margin = -.3\n",
    "trial_names = list(trial_performances.keys())\n",
    "\n",
    "for i, trial_name in enumerate(trial_names):\n",
    "    ax.bar(ind + margin, df[trial_name], width, label=trial_name)\n",
    "    margin += width \n",
    "\n",
    "# Customize the plot\n",
    "ax.set_title('Accuracy by Model and Trial')\n",
    "ax.set_ylabel('Accuracy')\n",
    "ax.set_xticks(ind)\n",
    "ax.set_xticklabels(df['Class'])\n",
    "\n",
    "# Set y-axis lower limit\n",
    "ax.set_ylim(0.6)\n",
    "\n",
    "ax.legend()\n",
    "\n",
    "output_path = os.path.join(output_dir, \"accuracy_by_model_and_trial_plot.png\")\n",
    "plt.savefig(output_path)\n",
    "plt.close()"
   ]
  },
  {
   "cell_type": "code",
   "execution_count": 111,
   "metadata": {},
   "outputs": [
    {
     "name": "stdout",
     "output_type": "stream",
     "text": [
      "Classification Report for Random Forest in Trial 1 (Baseline):\n",
      "\n",
      "              precision    recall  f1-score   support\n",
      "\n",
      "      benign     0.9742    0.9796    0.9769    228103\n",
      "   malicious     0.7868    0.7436    0.7646     23088\n",
      "\n",
      "    accuracy                         0.9579    251191\n",
      "   macro avg     0.8805    0.8616    0.8708    251191\n",
      "weighted avg     0.9570    0.9579    0.9574    251191\n",
      "\n",
      "Classification Report for Naive Bayes in Trial 1 (Baseline):\n",
      "\n",
      "              precision    recall  f1-score   support\n",
      "\n",
      "      benign     0.9655    0.8981    0.9305    228103\n",
      "   malicious     0.4040    0.6826    0.5076     23088\n",
      "\n",
      "    accuracy                         0.8783    251191\n",
      "   macro avg     0.6847    0.7904    0.7191    251191\n",
      "weighted avg     0.9139    0.8783    0.8917    251191\n",
      "\n",
      "Classification Report for CNN in Trial 1 (Baseline):\n",
      "\n",
      "              precision    recall  f1-score   support\n",
      "\n",
      "           0     0.9625    0.8023    0.8751    228103\n",
      "           1     0.2612    0.6908    0.3791     23088\n",
      "\n",
      "    accuracy                         0.7920    251191\n",
      "   macro avg     0.6118    0.7465    0.6271    251191\n",
      "weighted avg     0.8980    0.7920    0.8295    251191\n",
      "\n",
      "Classification Report for Random Forest in Trial 2 (GenTrain_OriTest):\n",
      "\n",
      "              precision    recall  f1-score   support\n",
      "\n",
      "      benign     0.8266    0.9494    0.8838    428103\n",
      "   malicious     0.8642    0.6179    0.7206    223088\n",
      "\n",
      "    accuracy                         0.8358    651191\n",
      "   macro avg     0.8454    0.7836    0.8022    651191\n",
      "weighted avg     0.8395    0.8358    0.8279    651191\n",
      "\n",
      "Classification Report for Naive Bayes in Trial 2 (GenTrain_OriTest):\n",
      "\n",
      "              precision    recall  f1-score   support\n",
      "\n",
      "      benign     0.8224    0.9168    0.8670    428103\n",
      "   malicious     0.7952    0.6201    0.6968    223088\n",
      "\n",
      "    accuracy                         0.8151    651191\n",
      "   macro avg     0.8088    0.7684    0.7819    651191\n",
      "weighted avg     0.8131    0.8151    0.8087    651191\n",
      "\n",
      "Classification Report for CNN in Trial 2 (GenTrain_OriTest):\n",
      "\n",
      "              precision    recall  f1-score   support\n",
      "\n",
      "           0     0.8200    0.8106    0.8153    428103\n",
      "           1     0.6444    0.6585    0.6514    223088\n",
      "\n",
      "    accuracy                         0.7585    651191\n",
      "   macro avg     0.7322    0.7346    0.7333    651191\n",
      "weighted avg     0.7598    0.7585    0.7591    651191\n",
      "\n",
      "Classification Report for Random Forest in Trial 3 (MixTrain_OriTest):\n",
      "\n",
      "              precision    recall  f1-score   support\n",
      "\n",
      "      benign     0.9728    0.9845    0.9786    228103\n",
      "   malicious     0.8266    0.7283    0.7743     23088\n",
      "\n",
      "    accuracy                         0.9610    251191\n",
      "   macro avg     0.8997    0.8564    0.8765    251191\n",
      "weighted avg     0.9594    0.9610    0.9599    251191\n",
      "\n",
      "Classification Report for Naive Bayes in Trial 3 (MixTrain_OriTest):\n",
      "\n",
      "              precision    recall  f1-score   support\n",
      "\n",
      "      benign     0.9666    0.9085    0.9366    228103\n",
      "   malicious     0.4327    0.6895    0.5317     23088\n",
      "\n",
      "    accuracy                         0.8884    251191\n",
      "   macro avg     0.6996    0.7990    0.7342    251191\n",
      "weighted avg     0.9175    0.8884    0.8994    251191\n",
      "\n",
      "Classification Report for CNN in Trial 3 (MixTrain_OriTest):\n",
      "\n",
      "              precision    recall  f1-score   support\n",
      "\n",
      "           0     0.9639    0.8724    0.9159    228103\n",
      "           1     0.3494    0.6772    0.4610     23088\n",
      "\n",
      "    accuracy                         0.8545    251191\n",
      "   macro avg     0.6567    0.7748    0.6884    251191\n",
      "weighted avg     0.9074    0.8545    0.8741    251191\n",
      "\n",
      "Classification Report for Random Forest in Trial 4 (ReplaceMalicious):\n",
      "\n",
      "              precision    recall  f1-score   support\n",
      "\n",
      "      benign     0.6860    0.9952    0.8122    228103\n",
      "   malicious     0.9908    0.5343    0.6943    223088\n",
      "\n",
      "    accuracy                         0.7673    451191\n",
      "   macro avg     0.8384    0.7648    0.7532    451191\n",
      "weighted avg     0.8367    0.7673    0.7539    451191\n",
      "\n",
      "Classification Report for Naive Bayes in Trial 4 (ReplaceMalicious):\n",
      "\n",
      "              precision    recall  f1-score   support\n",
      "\n",
      "      benign     0.7227    0.9111    0.8061    228103\n",
      "   malicious     0.8761    0.6425    0.7414    223088\n",
      "\n",
      "    accuracy                         0.7783    451191\n",
      "   macro avg     0.7994    0.7768    0.7737    451191\n",
      "weighted avg     0.7986    0.7783    0.7741    451191\n",
      "\n",
      "Classification Report for CNN in Trial 4 (ReplaceMalicious):\n",
      "\n",
      "              precision    recall  f1-score   support\n",
      "\n",
      "           0     0.6326    0.8217    0.7149    228103\n",
      "           1     0.7375    0.5121    0.6044    223088\n",
      "\n",
      "    accuracy                         0.6686    451191\n",
      "   macro avg     0.6851    0.6669    0.6597    451191\n",
      "weighted avg     0.6845    0.6686    0.6603    451191\n",
      "\n",
      "Classification Report for Random Forest in Trial 5 (ReplaceBenign):\n",
      "\n",
      "              precision    recall  f1-score   support\n",
      "\n",
      "      benign     0.9859    0.7070    0.8235    428103\n",
      "   malicious     0.1302    0.8129    0.2244     23088\n",
      "\n",
      "    accuracy                         0.7125    451191\n",
      "   macro avg     0.5581    0.7600    0.5240    451191\n",
      "weighted avg     0.9421    0.7125    0.7929    451191\n",
      "\n",
      "Classification Report for Naive Bayes in Trial 5 (ReplaceBenign):\n",
      "\n",
      "              precision    recall  f1-score   support\n",
      "\n",
      "      benign     0.9809    0.7449    0.8467    428103\n",
      "   malicious     0.1338    0.7306    0.2261     23088\n",
      "\n",
      "    accuracy                         0.7441    451191\n",
      "   macro avg     0.5573    0.7377    0.5364    451191\n",
      "weighted avg     0.9375    0.7441    0.8150    451191\n",
      "\n",
      "Classification Report for CNN in Trial 5 (ReplaceBenign):\n",
      "\n",
      "              precision    recall  f1-score   support\n",
      "\n",
      "           0     0.9738    0.5953    0.7389    428103\n",
      "           1     0.0856    0.7027    0.1526     23088\n",
      "\n",
      "    accuracy                         0.6008    451191\n",
      "   macro avg     0.5297    0.6490    0.4458    451191\n",
      "weighted avg     0.9283    0.6008    0.7089    451191\n",
      "\n"
     ]
    }
   ],
   "source": [
    "# Print each model's confusion matrix\n",
    "for trial_name, trial_data in trial_performances.items():\n",
    "    for model_name, model_data in trial_data.items():\n",
    "        report = model_data[\"report\"]\n",
    "        print(f\"Classification Report for {model_name} in {trial_name}:\\n\")\n",
    "        print(report)"
   ]
  }
 ],
 "metadata": {
  "kernelspec": {
   "display_name": "venv",
   "language": "python",
   "name": "python3"
  },
  "language_info": {
   "codemirror_mode": {
    "name": "ipython",
    "version": 3
   },
   "file_extension": ".py",
   "mimetype": "text/x-python",
   "name": "python",
   "nbconvert_exporter": "python",
   "pygments_lexer": "ipython3",
   "version": "3.9.13"
  }
 },
 "nbformat": 4,
 "nbformat_minor": 2
}
