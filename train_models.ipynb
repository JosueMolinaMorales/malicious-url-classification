{
 "cells": [
  {
   "cell_type": "markdown",
   "metadata": {},
   "source": [
    "# Train Models\n",
    "\n",
    "This notebook trains the followiing models on multiple trials to test the performance of the models on the dataset."
   ]
  },
  {
   "cell_type": "code",
   "execution_count": 21,
   "metadata": {},
   "outputs": [],
   "source": [
    "import pandas as pd\n",
    "import numpy as np\n",
    "import re\n",
    "import os\n",
    "from matplotlib.colors import hex2color\n",
    "import matplotlib.pyplot as plt\n",
    "from gensim.models import Word2Vec\n",
    "from sklearn.ensemble import RandomForestClassifier\n",
    "from sklearn.metrics import classification_report, accuracy_score\n",
    "from sklearn.model_selection import train_test_split\n",
    "from sklearn.naive_bayes import GaussianNB\n",
    "from tqdm import tqdm"
   ]
  },
  {
   "cell_type": "markdown",
   "metadata": {},
   "source": [
    "## Reusable functions"
   ]
  },
  {
   "cell_type": "code",
   "execution_count": 2,
   "metadata": {},
   "outputs": [],
   "source": [
    "def load_dataset(filepath):\n",
    "    df = pd.read_csv(filepath)\n",
    "\n",
    "    # Rename columns\n",
    "    df.rename(columns={\"type\": \"target\"}, inplace=True)\n",
    "\n",
    "    # Rename labels to support binary classification\n",
    "    df[\"target\"] = df[\"target\"].map(\n",
    "        lambda x: \"malicious\" if x != \"benign\" else \"benign\"\n",
    "    )\n",
    "\n",
    "    return df"
   ]
  },
  {
   "cell_type": "code",
   "execution_count": 3,
   "metadata": {},
   "outputs": [],
   "source": [
    "def tokenize_urls(urls):\n",
    "    tokenized_urls = []\n",
    "\n",
    "    for url in urls:\n",
    "        # Remove sequential strings following '#' and '?'\n",
    "        url = re.sub(r\"#.*\", \"\", url)\n",
    "        url = re.sub(r\"\\?.*\", \"\", url)\n",
    "\n",
    "        # Split the URL into protocol and rest (domain, path and file)\n",
    "        protocol, rest = url.split(\"://\", 1) if \"://\" in url else (\"\", url)\n",
    "\n",
    "        # Split the rest into domain and rest (path and file)\n",
    "        domain, rest = rest.split(\"/\", 1) if \"/\" in rest else (rest, \"\")\n",
    "\n",
    "        # Split the rest into path and file\n",
    "        path, file = rest.rsplit(\"/\", 1) if \"/\" in rest else (rest, \"\")\n",
    "\n",
    "        tokenized_urls.append([protocol, domain, path, file])\n",
    "\n",
    "    return tokenized_urls"
   ]
  },
  {
   "cell_type": "code",
   "execution_count": 4,
   "metadata": {},
   "outputs": [],
   "source": [
    "def train_word2vec_model(\n",
    "    sentences,\n",
    "    model_path=\"./models/word2vec.model\",\n",
    "    load_model=False,\n",
    "    save_model=True,\n",
    "):\n",
    "    if load_model:\n",
    "        return Word2Vec.load(model_path)\n",
    "\n",
    "    model = Word2Vec(\n",
    "        sentences,\n",
    "        vector_size=200,\n",
    "        window=5,\n",
    "        min_count=2,\n",
    "        workers=10,\n",
    "        sg=1,\n",
    "        epochs=15,\n",
    "        negative=10,\n",
    "    )\n",
    "\n",
    "    if save_model:\n",
    "        model.save(model_path)\n",
    "\n",
    "    return model"
   ]
  },
  {
   "cell_type": "code",
   "execution_count": 5,
   "metadata": {},
   "outputs": [],
   "source": [
    "def get_url_embeddings(url_setences, model):\n",
    "    url_embeddings = []\n",
    "\n",
    "    for tokenized_url in url_setences:\n",
    "        # Get embeddings for each token in the URL\n",
    "        embeddings = [model.wv[token] for token in tokenized_url if token in model.wv]\n",
    "\n",
    "        # If tokens are present in the model vocabulary, compute the mean of the embeddings\n",
    "        # Else, return a zero vector\n",
    "        url_embeddings.append(\n",
    "            np.mean(embeddings, axis=0) if embeddings else np.zeros(model.vector_size)\n",
    "        )\n",
    "\n",
    "    return url_embeddings"
   ]
  },
  {
   "cell_type": "code",
   "execution_count": 25,
   "metadata": {},
   "outputs": [],
   "source": [
    "def train_evaluate_model(\n",
    "    model,\n",
    "    X_train,\n",
    "    y_train,\n",
    "    X_test,\n",
    "    y_test,\n",
    "    batch_size=10000,\n",
    "):\n",
    "    accuracy_list = []\n",
    "\n",
    "    # Calculate the total number of batches\n",
    "    total_batches = len(X_train) // batch_size + (1 if len(X_train) % batch_size != 0 else 0)\n",
    "\n",
    "    print(f\"Training {type(model).__name__} on {total_batches} batches\")\n",
    "\n",
    "    for i in tqdm(range(0, len(X_train), batch_size), total=total_batches, desc=\"Batches\"):\n",
    "\n",
    "        # Define the batches\n",
    "        X_train_batch = X_train[i : i + batch_size]\n",
    "        y_train_batch = y_train[i : i + batch_size]\n",
    "\n",
    "        # Train model on batch\n",
    "        if hasattr(model, 'partial_fit'):\n",
    "            model.partial_fit(X_train_batch, y_train_batch, classes=[\"benign\", \"malicious\"])\n",
    "        else:\n",
    "            if type(model).__name__ == \"RandomForestClassifier\":\n",
    "                model.n_estimators += 10\n",
    "            model.fit(X_train_batch, y_train_batch)\n",
    "\n",
    "        # Predict on test set\n",
    "        y_pred = model.predict(X_test)\n",
    "\n",
    "        # Add accuracy to accuracy list\n",
    "        accuracy_list.append(accuracy_score(y_test, y_pred))\n",
    "\n",
    "    return model, accuracy_list"
   ]
  },
  {
   "cell_type": "code",
   "execution_count": 26,
   "metadata": {},
   "outputs": [],
   "source": [
    "def run_trial(X_train, y_train, X_test, y_test):\n",
    "    accuracy_dict = {}\n",
    "\n",
    "    # Train and evaluate models\n",
    "    for model_name, model in [\n",
    "        (\"Random Forest\", RandomForestClassifier(n_estimators=10, n_jobs=15, warm_start=True)),\n",
    "        (\"Naive Bayes\", GaussianNB()),\n",
    "    ]:\n",
    "        # Train and evaluate model\n",
    "        trained_model, accuracy_list = train_evaluate_model(\n",
    "            model, X_train, y_train, X_test, y_test\n",
    "        )\n",
    "\n",
    "        # Add accuracy list to accuracy dictionary\n",
    "        accuracy_dict[model_name] = { \"accuracy_list\": accuracy_list }\n",
    "        \n",
    "        # Predict on the trained model\n",
    "        y_pred = trained_model.predict(X_test)\n",
    "\n",
    "        # Print classification report\n",
    "        accuracy_dict[model_name][\"report\"] = classification_report(y_test, y_pred, digits=4, zero_division=0)\n",
    "\n",
    "    # Assuming you have a directory to save the plots\n",
    "    output_dir = \"plots\"\n",
    "\n",
    "    # Create the output directory if it doesn't exist\n",
    "    os.makedirs(output_dir, exist_ok=True)\n",
    "\n",
    "    # Plotting\n",
    "    for model_name, items in accuracy_dict.items():\n",
    "        accuracy_list = items[\"accuracy_list\"]\n",
    "\n",
    "        plt.figure(figsize=(10, 6))\n",
    "        plt.plot(range(1, len(accuracy_list) + 1), accuracy_list, label=model_name)\n",
    "\n",
    "        plt.xlabel(\"Batches\")\n",
    "        plt.ylabel(\"Accuracy\")\n",
    "        plt.title(f\"Accuracy over Batches - {model_name}\")\n",
    "        plt.legend()\n",
    "\n",
    "        # Save the plot to a file\n",
    "        output_path = os.path.join(output_dir, f\"{model_name}_accuracy_plot.png\")\n",
    "        plt.savefig(output_path)\n",
    "\n",
    "        # Close the current figure to free up resources\n",
    "        plt.close()\n",
    "\n",
    "    # If you still want to display the combined plot\n",
    "    plt.figure(figsize=(10, 6))\n",
    "    for model_name, items in accuracy_dict.items():\n",
    "        accuracy_list = items[\"accuracy_list\"]\n",
    "        plt.plot(range(1, len(accuracy_list) + 1), accuracy_list, label=model_name)\n",
    "\n",
    "    plt.xlabel(\"Batches\")\n",
    "    plt.ylabel(\"Accuracy\")\n",
    "    plt.title(\"Accuracy over Batches\")\n",
    "    plt.legend()\n",
    "    plt.show()\n",
    "    \n",
    "    for model_name, items in accuracy_dict.items():\n",
    "        print(f\"{model_name} Classification Report:\")\n",
    "        print(items[\"report\"])\n",
    "        print()"
   ]
  },
  {
   "cell_type": "markdown",
   "metadata": {},
   "source": [
    "## Run multiple trials"
   ]
  },
  {
   "cell_type": "code",
   "execution_count": 11,
   "metadata": {},
   "outputs": [],
   "source": [
    "# Load datasets\n",
    "DATASET_FILES = [\n",
    "    \"./datasets/malicious_phish.csv\"\n",
    "]\n",
    "\n",
    "trial_dfs = [load_dataset(filepath) for filepath in DATASET_FILES]"
   ]
  },
  {
   "cell_type": "code",
   "execution_count": 27,
   "metadata": {},
   "outputs": [
    {
     "name": "stdout",
     "output_type": "stream",
     "text": [
      "Training RandomForestClassifier on 53 batches\n"
     ]
    },
    {
     "name": "stderr",
     "output_type": "stream",
     "text": [
      "Batches: 100%|██████████| 53/53 [01:41<00:00,  1.91s/it]\n"
     ]
    },
    {
     "name": "stdout",
     "output_type": "stream",
     "text": [
      "Training GaussianNB on 53 batches\n"
     ]
    },
    {
     "name": "stderr",
     "output_type": "stream",
     "text": [
      "Batches: 100%|██████████| 53/53 [00:57<00:00,  1.08s/it]\n"
     ]
    },
    {
     "data": {
      "image/png": "[encoded data removed]",
      "text/plain": [
       "<Figure size 1000x600 with 1 Axes>"
      ]
     },
     "metadata": {},
     "output_type": "display_data"
    },
    {
     "name": "stdout",
     "output_type": "stream",
     "text": [
      "Random Forest Classification Report:\n",
      "              precision    recall  f1-score   support\n",
      "\n",
      "      benign     0.8816    0.9919    0.9335     85778\n",
      "   malicious     0.9793    0.7430    0.8449     44461\n",
      "\n",
      "    accuracy                         0.9069    130239\n",
      "   macro avg     0.9304    0.8674    0.8892    130239\n",
      "weighted avg     0.9149    0.9069    0.9032    130239\n",
      "\n",
      "\n",
      "Naive Bayes Classification Report:\n",
      "              precision    recall  f1-score   support\n",
      "\n",
      "      benign     0.8456    0.8989    0.8714     85778\n",
      "   malicious     0.7779    0.6833    0.7275     44461\n",
      "\n",
      "    accuracy                         0.8253    130239\n",
      "   macro avg     0.8117    0.7911    0.7994    130239\n",
      "weighted avg     0.8224    0.8253    0.8223    130239\n",
      "\n",
      "\n"
     ]
    }
   ],
   "source": [
    "for trial_df in trial_dfs:\n",
    "    # Tokenize URLs\n",
    "    url_sentences = tokenize_urls(trial_df[\"url\"].tolist())\n",
    "\n",
    "    # Train Word2Vec model\n",
    "    word2vec_model = train_word2vec_model(url_sentences, load_model=True)\n",
    "\n",
    "    # Get URL embeddings\n",
    "    url_embeddings = get_url_embeddings(url_sentences, word2vec_model)\n",
    "\n",
    "    # Split dataset into train and test sets\n",
    "    X_train, X_test, y_train, y_test = train_test_split(\n",
    "        url_embeddings, trial_df[\"target\"].tolist(), test_size=0.2, random_state=42\n",
    "    )\n",
    "    \n",
    "    run_trial(X_train, y_train, X_test, y_test)"
   ]
  }
 ],
 "metadata": {
  "kernelspec": {
   "display_name": "venv",
   "language": "python",
   "name": "python3"
  },
  "language_info": {
   "codemirror_mode": {
    "name": "ipython",
    "version": 3
   },
   "file_extension": ".py",
   "mimetype": "text/x-python",
   "name": "python",
   "nbconvert_exporter": "python",
   "pygments_lexer": "ipython3",
   "version": "3.9.13"
  }
 },
 "nbformat": 4,
 "nbformat_minor": 2
}
