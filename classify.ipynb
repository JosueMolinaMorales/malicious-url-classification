{
 "cells": [
  {
   "cell_type": "markdown",
   "metadata": {},
   "source": [
    "# Malicious URL CLassification"
   ]
  },
  {
   "cell_type": "code",
   "execution_count": 1,
   "metadata": {},
   "outputs": [],
   "source": [
    "import pandas as pd\n",
    "import numpy as np\n",
    "import re\n",
    "\n",
    "from matplotlib.colors import hex2color\n",
    "import matplotlib.pyplot as plt\n",
    "\n",
    "from gensim.models import Word2Vec\n",
    "\n",
    "from sklearn.ensemble import RandomForestClassifier\n",
    "from sklearn.metrics import classification_report\n",
    "from sklearn.model_selection import train_test_split\n",
    "from sklearn.naive_bayes import GaussianNB\n",
    "\n",
    "import joblib"
   ]
  },
  {
   "cell_type": "markdown",
   "metadata": {},
   "source": [
    "## Import the dataset"
   ]
  },
  {
   "cell_type": "code",
   "execution_count": 2,
   "metadata": {},
   "outputs": [
    {
     "data": {
      "text/plain": [
       "target\n",
       "benign       428103\n",
       "malicious    223088\n",
       "Name: count, dtype: int64"
      ]
     },
     "execution_count": 2,
     "metadata": {},
     "output_type": "execute_result"
    }
   ],
   "source": [
    "DATASET_FILE = \"./datasets/malicious_phish.csv\" # Original dataset\n",
    "# DATASET_FILE = \"./datasets/combined_urls.csv\" # Combined dataset (original + generated)\n",
    "\n",
    "df = pd.read_csv(DATASET_FILE)\n",
    "\n",
    "df.rename(columns={\"type\": \"target\"}, inplace=True)\n",
    "df['target'] = df['target'].map(lambda x: 'malicious' if x != 'benign' else 'benign')\n",
    "\n",
    "df[\"target\"].value_counts()\n"
   ]
  },
  {
   "cell_type": "code",
   "execution_count": 3,
   "metadata": {},
   "outputs": [
    {
     "data": {
      "image/png": "[encoded data removed]",
      "text/plain": [
       "<Figure size 640x480 with 1 Axes>"
      ]
     },
     "metadata": {},
     "output_type": "display_data"
    }
   ],
   "source": [
    "distribution = dict(df[\"target\"].value_counts())\n",
    "\n",
    "# Set up the figure with a white background\n",
    "fig, ax = plt.subplots(facecolor='white')\n",
    "\n",
    "dull_red = hex2color('#E34234')\n",
    "dull_green = hex2color('#32712C')\n",
    "\n",
    "# Plotting the pie chart\n",
    "ax.pie(distribution.values(), labels=distribution.keys(), colors=[dull_green, dull_red], autopct='%1.1f%%', startangle=90)\n",
    "ax.set_title('Class Distribution')\n",
    "ax.axis('equal')  # Equal aspect ratio ensures the pie chart is circular.\n",
    "\n",
    "# Show the pie chart\n",
    "plt.show()"
   ]
  },
  {
   "cell_type": "markdown",
   "metadata": {},
   "source": [
    "## URL Tokenization and Word Embedding with Word2Vec"
   ]
  },
  {
   "cell_type": "code",
   "execution_count": 4,
   "metadata": {},
   "outputs": [],
   "source": [
    "def preprocess_url(url):\n",
    "    # Remove sequential strings following '#' and '?'\n",
    "    url = re.sub(r\"#.*\", \"\", url)\n",
    "    url = re.sub(r\"\\?.*\", \"\", url)\n",
    "\n",
    "    # Split the URL into protocol and rest (domain, path and file)\n",
    "    protocol, rest = url.split(\"://\", 1) if \"://\" in url else (\"\", url)\n",
    "\n",
    "    # Split the rest into domain and rest (path and file)\n",
    "    domain, rest = rest.split(\"/\", 1) if \"/\" in rest else (rest, \"\")\n",
    "    \n",
    "    # Split the rest into path and file\n",
    "    path, file = rest.rsplit(\"/\", 1) if \"/\" in rest else (rest, \"\")\n",
    "\n",
    "    return [protocol, domain, path, file]\n",
    "\n",
    "# Token extraction\n",
    "tokenized_urls = [preprocess_url(url) for url in df['url'].tolist()]\n",
    "\n",
    "# Train Word2Vec model\n",
    "model = Word2Vec(sentences=tokenized_urls, vector_size=100, window=5, min_count=1, workers=4)\n",
    "model.save(\"models/word2vec_model.model\")"
   ]
  },
  {
   "cell_type": "code",
   "execution_count": 5,
   "metadata": {},
   "outputs": [],
   "source": [
    "model = Word2Vec.load(\"models/word2vec_model.model\")"
   ]
  },
  {
   "cell_type": "code",
   "execution_count": 6,
   "metadata": {},
   "outputs": [],
   "source": [
    "# Function to get the aggregated embedding for a URL\n",
    "def get_url_embedding(url_tokens, model):\n",
    "    embeddings = [model.wv[token] for token in url_tokens if token in model.wv]\n",
    "    if embeddings:\n",
    "        return np.mean(embeddings, axis=0)\n",
    "    else:\n",
    "        return np.zeros(model.vector_size)\n",
    "\n",
    "# Generate embeddings for each URL\n",
    "url_embeddings = [get_url_embedding(url_token, model) for url_token in tokenized_urls]"
   ]
  },
  {
   "cell_type": "code",
   "execution_count": 7,
   "metadata": {},
   "outputs": [
    {
     "data": {
      "text/html": [
       "<div>\n",
       "<style scoped>\n",
       "    .dataframe tbody tr th:only-of-type {\n",
       "        vertical-align: middle;\n",
       "    }\n",
       "\n",
       "    .dataframe tbody tr th {\n",
       "        vertical-align: top;\n",
       "    }\n",
       "\n",
       "    .dataframe thead th {\n",
       "        text-align: right;\n",
       "    }\n",
       "</style>\n",
       "<table border=\"1\" class=\"dataframe\">\n",
       "  <thead>\n",
       "    <tr style=\"text-align: right;\">\n",
       "      <th></th>\n",
       "      <th>train</th>\n",
       "      <th>test</th>\n",
       "      <th>validation</th>\n",
       "      <th>total</th>\n",
       "    </tr>\n",
       "  </thead>\n",
       "  <tbody>\n",
       "    <tr>\n",
       "      <th>benign</th>\n",
       "      <td>342325</td>\n",
       "      <td>42748</td>\n",
       "      <td>43030</td>\n",
       "      <td>428103</td>\n",
       "    </tr>\n",
       "    <tr>\n",
       "      <th>malicious</th>\n",
       "      <td>178627</td>\n",
       "      <td>22371</td>\n",
       "      <td>22090</td>\n",
       "      <td>223088</td>\n",
       "    </tr>\n",
       "  </tbody>\n",
       "</table>\n",
       "</div>"
      ],
      "text/plain": [
       "            train   test  validation   total\n",
       "benign     342325  42748       43030  428103\n",
       "malicious  178627  22371       22090  223088"
      ]
     },
     "execution_count": 7,
     "metadata": {},
     "output_type": "execute_result"
    }
   ],
   "source": [
    "X_train, X_test, y_train, y_test = train_test_split(url_embeddings, df['target'].tolist(), test_size=0.2, random_state=42)\n",
    "X_test, X_val, y_test, y_val = train_test_split(X_test, y_test, test_size=0.5, random_state=42)\n",
    "\n",
    "# Print the basic statistics of the training set\n",
    "data_counts = {\n",
    "    \"train\": pd.Series(y_train).value_counts().to_list(),\n",
    "    \"test\": pd.Series(y_test).value_counts().to_list(),\n",
    "    \"validation\": pd.Series(y_val).value_counts().to_list(),\n",
    "    \"total\": pd.Series(df['target'].tolist()).value_counts().to_list(),\n",
    "}\n",
    "pd.DataFrame(data_counts, index=[\"benign\", \"malicious\"])"
   ]
  },
  {
   "cell_type": "markdown",
   "metadata": {},
   "source": [
    "## Naive Bayes Classifier"
   ]
  },
  {
   "cell_type": "code",
   "execution_count": 8,
   "metadata": {},
   "outputs": [
    {
     "data": {
      "text/plain": [
       "['models/nb_classifier.joblib']"
      ]
     },
     "execution_count": 8,
     "metadata": {},
     "output_type": "execute_result"
    }
   ],
   "source": [
    "nb_classifier = GaussianNB()\n",
    "\n",
    "nb_classifier.fit(X_train, y_train)\n",
    "\n",
    "joblib.dump(nb_classifier, \"models/nb_classifier.joblib\")"
   ]
  },
  {
   "cell_type": "code",
   "execution_count": 9,
   "metadata": {},
   "outputs": [
    {
     "data": {
      "text/plain": [
       "0.8296042629647261"
      ]
     },
     "execution_count": 9,
     "metadata": {},
     "output_type": "execute_result"
    }
   ],
   "source": [
    "nb_classifier = joblib.load(\"models/nb_classifier.joblib\")\n",
    "\n",
    "nb_classifier.score(X_test, y_test)"
   ]
  },
  {
   "cell_type": "code",
   "execution_count": 10,
   "metadata": {},
   "outputs": [
    {
     "name": "stdout",
     "output_type": "stream",
     "text": [
      "              precision    recall  f1-score   support\n",
      "\n",
      "      benign     0.8540    0.8932    0.8731     42748\n",
      "   malicious     0.7763    0.7081    0.7406     22371\n",
      "\n",
      "    accuracy                         0.8296     65119\n",
      "   macro avg     0.8151    0.8006    0.8069     65119\n",
      "weighted avg     0.8273    0.8296    0.8276     65119\n",
      "\n"
     ]
    }
   ],
   "source": [
    "y_pred = nb_classifier.predict(X_test)\n",
    "\n",
    "print(classification_report(y_test, y_pred, target_names=[\"benign\", \"malicious\"], zero_division=0, digits=4))"
   ]
  },
  {
   "cell_type": "markdown",
   "metadata": {},
   "source": [
    "## Random Forest Classifier"
   ]
  },
  {
   "cell_type": "code",
   "execution_count": 11,
   "metadata": {},
   "outputs": [
    {
     "data": {
      "text/plain": [
       "['models/rf_classifier.joblib']"
      ]
     },
     "execution_count": 11,
     "metadata": {},
     "output_type": "execute_result"
    }
   ],
   "source": [
    "rf_classifier = RandomForestClassifier(n_estimators=10, n_jobs=10)\n",
    "\n",
    "rf_classifier.fit(X_train, y_train)\n",
    "\n",
    "joblib.dump(rf_classifier, \"models/rf_classifier.joblib\")"
   ]
  },
  {
   "cell_type": "code",
   "execution_count": 12,
   "metadata": {},
   "outputs": [
    {
     "data": {
      "text/plain": [
       "0.909428746928747"
      ]
     },
     "execution_count": 12,
     "metadata": {},
     "output_type": "execute_result"
    }
   ],
   "source": [
    "rf_classifier = joblib.load(\"models/rf_classifier.joblib\")\n",
    "\n",
    "# Tune hyperparameters using X_val and y_val\n",
    "rf_classifier.score(X_val, y_val)"
   ]
  },
  {
   "cell_type": "code",
   "execution_count": 13,
   "metadata": {},
   "outputs": [
    {
     "name": "stdout",
     "output_type": "stream",
     "text": [
      "              precision    recall  f1-score   support\n",
      "\n",
      "      benign     0.8899    0.9808    0.9331     42748\n",
      "   malicious     0.9545    0.7681    0.8512     22371\n",
      "\n",
      "    accuracy                         0.9077     65119\n",
      "   macro avg     0.9222    0.8745    0.8922     65119\n",
      "weighted avg     0.9121    0.9077    0.9050     65119\n",
      "\n"
     ]
    }
   ],
   "source": [
    "y_pred = rf_classifier.predict(X_test)\n",
    "\n",
    "print(classification_report(y_test, y_pred, target_names=[\"benign\", \"malicious\"], zero_division=0, digits=4))"
   ]
  },
  {
   "cell_type": "markdown",
   "metadata": {},
   "source": [
    "# CNN Implementation"
   ]
  },
  {
   "cell_type": "code",
   "execution_count": null,
   "metadata": {},
   "outputs": [],
   "source": [
    "import numpy as np\n",
    "import pandas as pd\n",
    "import tensorflow as tf\n",
    "from sklearn.model_selection import train_test_split\n",
    "from sklearn.metrics import accuracy_score, confusion_matrix, classification_report\n",
    "from tensorflow.keras.models import Sequential\n",
    "from tensorflow.keras.layers import Conv1D, GlobalMaxPooling1D, Dense\n",
    "from sklearn.preprocessing import LabelEncoder"
   ]
  },
  {
   "cell_type": "code",
   "execution_count": 38,
   "metadata": {},
   "outputs": [],
   "source": [
    "label_encoder = LabelEncoder()\n",
    "\n",
    "all_labels = np.concatenate((y_train, y_test, y_val))\n",
    "label_encoder.fit(all_labels)\n",
    "\n",
    "X_train = np.array(X_train)\n",
    "X_test = np.array(X_test)\n",
    "y_train = label_encoder.transform(y_train)\n",
    "y_test = label_encoder.transform(y_test)\n",
    "y_val = label_encoder.transform(y_val)\n",
    "X_val = np.array(X_val)"
   ]
  },
  {
   "cell_type": "code",
   "execution_count": 22,
   "metadata": {},
   "outputs": [
    {
     "name": "stdout",
     "output_type": "stream",
     "text": [
      "Epoch 1/10\n",
      "16280/16280 [==============================] - 35s 2ms/step - loss: 0.3537 - accuracy: 0.8548 - val_loss: 0.0097 - val_accuracy: 0.0000e+00\n",
      "Epoch 2/10\n",
      "16280/16280 [==============================] - 36s 2ms/step - loss: 0.3246 - accuracy: 0.8711 - val_loss: 0.7381 - val_accuracy: 0.0000e+00\n",
      "Epoch 3/10\n",
      "16280/16280 [==============================] - 42s 3ms/step - loss: 0.3165 - accuracy: 0.8743 - val_loss: 1.9497 - val_accuracy: 0.0000e+00\n",
      "Epoch 4/10\n",
      "16280/16280 [==============================] - 40s 2ms/step - loss: 0.3115 - accuracy: 0.8757 - val_loss: 1.9931 - val_accuracy: 0.0000e+00\n",
      "Epoch 5/10\n",
      "16280/16280 [==============================] - 39s 2ms/step - loss: 0.3069 - accuracy: 0.8768 - val_loss: 2.9580 - val_accuracy: 0.0000e+00\n",
      "Epoch 6/10\n",
      "16280/16280 [==============================] - 36s 2ms/step - loss: 0.3033 - accuracy: 0.8777 - val_loss: 0.9981 - val_accuracy: 0.0000e+00\n",
      "Epoch 7/10\n",
      "16280/16280 [==============================] - 35s 2ms/step - loss: 0.3017 - accuracy: 0.8782 - val_loss: 2.0995 - val_accuracy: 0.0000e+00\n",
      "Epoch 8/10\n",
      "16280/16280 [==============================] - 34s 2ms/step - loss: 0.2992 - accuracy: 0.8789 - val_loss: 1.3576 - val_accuracy: 0.0000e+00\n",
      "Epoch 9/10\n",
      "16280/16280 [==============================] - 36s 2ms/step - loss: 0.2980 - accuracy: 0.8795 - val_loss: 1.0969 - val_accuracy: 0.0000e+00\n",
      "Epoch 10/10\n",
      "16280/16280 [==============================] - 35s 2ms/step - loss: 0.2964 - accuracy: 0.8801 - val_loss: 2.7159 - val_accuracy: 0.0000e+00\n",
      "2035/2035 [==============================] - 2s 946us/step\n",
      "Accuracy: 0.8817702974554278\n",
      "Confusion Matrix:\n",
      "[[42172   576]\n",
      " [ 7123 15248]]\n",
      "Classification Report:\n",
      "              precision    recall  f1-score   support\n",
      "\n",
      "           0       0.86      0.99      0.92     42748\n",
      "           1       0.96      0.68      0.80     22371\n",
      "\n",
      "    accuracy                           0.88     65119\n",
      "   macro avg       0.91      0.83      0.86     65119\n",
      "weighted avg       0.89      0.88      0.88     65119\n",
      "\n"
     ]
    }
   ],
   "source": [
    "# Define the CNN model\n",
    "model = Sequential()\n",
    "model.add(Conv1D(128, 5, activation='relu', input_shape=(100, 1)))\n",
    "model.add(GlobalMaxPooling1D())\n",
    "model.add(Dense(128, activation='relu'))\n",
    "model.add(Dense(1, activation='sigmoid'))\n",
    "\n",
    "# Compile the model\n",
    "model.compile(optimizer='adam', loss='binary_crossentropy', metrics=['accuracy'])\n",
    "\n",
    "# Train the model\n",
    "model.fit(X_train, y_train, epochs=10, batch_size=32, validation_data=(X_val, y_val))\n",
    "\n"
   ]
  },
  {
   "cell_type": "code",
   "execution_count": 39,
   "metadata": {},
   "outputs": [
    {
     "name": "stdout",
     "output_type": "stream",
     "text": [
      "2035/2035 [==============================] - 2s 939us/step\n",
      "Accuracy: 0.8817702974554278\n",
      "Confusion Matrix:\n",
      "[[42172   576]\n",
      " [ 7123 15248]]\n",
      "Classification Report:\n",
      "              precision    recall  f1-score   support\n",
      "\n",
      "      benign       0.86      0.99      0.92     42748\n",
      "   malicious       0.96      0.68      0.80     22371\n",
      "\n",
      "    accuracy                           0.88     65119\n",
      "   macro avg       0.91      0.83      0.86     65119\n",
      "weighted avg       0.89      0.88      0.88     65119\n",
      "\n"
     ]
    }
   ],
   "source": [
    "# Evaluate the model\n",
    "predictions = model.predict(X_test)\n",
    "binary_predictions = (predictions > 0.5).astype(int)\n",
    "\n",
    "accuracy = accuracy_score(y_test, binary_predictions)\n",
    "conf_matrix = confusion_matrix(y_test, binary_predictions)\n",
    "\n",
    "# Convert the labels back to their original values\n",
    "class_report = classification_report(y_test, binary_predictions, target_names=[\"benign\", \"malicious\"], zero_division=0)\n",
    "\n",
    "\n",
    "print(f\"Accuracy: {accuracy}\")\n",
    "print(f\"Confusion Matrix:\\n{conf_matrix}\")\n",
    "print(f\"Classification Report:\\n{class_report}\")"
   ]
  },
  {
   "cell_type": "code",
   "execution_count": 33,
   "metadata": {},
   "outputs": [
    {
     "data": {
      "image/png": "[encoded data removed]",
      "text/plain": [
       "<Figure size 1000x800 with 2 Axes>"
      ]
     },
     "metadata": {},
     "output_type": "display_data"
    }
   ],
   "source": [
    "# Display the confusion matrix\n",
    "import seaborn as sns\n",
    "import matplotlib.pyplot as plt\n",
    "\n",
    "class_labels = [\"benign\", \"malicious\"]\n",
    "plt.figure(figsize=(10, 8))\n",
    "sns.heatmap(conf_matrix, annot=True, cmap=\"Blues\", fmt=\"d\", xticklabels=class_labels, yticklabels=class_labels)\n",
    "plt.title(\"Confusion Matrix\")\n",
    "plt.xlabel(\"Predicted Label\")\n",
    "plt.ylabel(\"True Label\")\n",
    "plt.show()\n"
   ]
  }
 ],
 "metadata": {
  "kernelspec": {
   "display_name": "Python 3",
   "language": "python",
   "name": "python3"
  },
  "language_info": {
   "codemirror_mode": {
    "name": "ipython",
    "version": 3
   },
   "file_extension": ".py",
   "mimetype": "text/x-python",
   "name": "python",
   "nbconvert_exporter": "python",
   "pygments_lexer": "ipython3",
   "version": "3.10.6"
  }
 },
 "nbformat": 4,
 "nbformat_minor": 2
}
