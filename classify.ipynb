{
 "cells": [
  {
   "cell_type": "markdown",
   "metadata": {},
   "source": [
    "# Malicious URL CLassification"
   ]
  },
  {
   "cell_type": "code",
   "execution_count": 30,
   "metadata": {},
   "outputs": [],
   "source": [
    "import pandas as pd\n",
    "import numpy as np\n",
    "import re\n",
    "\n",
    "# from matplotlib.colors import hex2color\n",
    "# import matplotlib.pyplot as plt\n",
    "\n",
    "from gensim.models import Word2Vec\n",
    "from nltk import ngrams\n",
    "\n",
    "from sklearn.ensemble import RandomForestClassifier\n",
    "from sklearn.metrics import classification_report\n",
    "from sklearn.model_selection import train_test_split\n",
    "from sklearn.preprocessing import StandardScaler\n",
    "from sklearn.naive_bayes import GaussianNB\n",
    "\n",
    "import joblib\n",
    "\n"
   ]
  },
  {
   "cell_type": "markdown",
   "metadata": {},
   "source": [
    "## Import the dataset"
   ]
  },
  {
   "cell_type": "code",
   "execution_count": 2,
   "metadata": {},
   "outputs": [],
   "source": [
    "DATASET_FILE = \"./datasets/malicious_phish.csv\"\n",
    "\n",
    "df = pd.read_csv(DATASET_FILE)\n",
    "\n",
    "df.rename(columns={\"type\": \"target\"}, inplace=True)\n",
    "df['target'] = df['target'].map(lambda x: 'malicious' if x != 'benign' else 'benign')\n",
    "\n",
    "df[\"target\"].value_counts()\n"
   ]
  },
  {
   "cell_type": "code",
   "execution_count": 5,
   "metadata": {},
   "outputs": [
    {
     "ename": "NameError",
     "evalue": "name 'plt' is not defined",
     "output_type": "error",
     "traceback": [
      "\u001b[1;31m---------------------------------------------------------------------------\u001b[0m",
      "\u001b[1;31mNameError\u001b[0m                                 Traceback (most recent call last)",
      "\u001b[1;32m~\\AppData\\Local\\Temp\\ipykernel_11460\\133196929.py\u001b[0m in \u001b[0;36m<module>\u001b[1;34m\u001b[0m\n\u001b[0;32m      2\u001b[0m \u001b[1;33m\u001b[0m\u001b[0m\n\u001b[0;32m      3\u001b[0m \u001b[1;31m# Set up the figure with a white background\u001b[0m\u001b[1;33m\u001b[0m\u001b[1;33m\u001b[0m\u001b[0m\n\u001b[1;32m----> 4\u001b[1;33m \u001b[0mfig\u001b[0m\u001b[1;33m,\u001b[0m \u001b[0max\u001b[0m \u001b[1;33m=\u001b[0m \u001b[0mplt\u001b[0m\u001b[1;33m.\u001b[0m\u001b[0msubplots\u001b[0m\u001b[1;33m(\u001b[0m\u001b[0mfacecolor\u001b[0m\u001b[1;33m=\u001b[0m\u001b[1;34m'white'\u001b[0m\u001b[1;33m)\u001b[0m\u001b[1;33m\u001b[0m\u001b[1;33m\u001b[0m\u001b[0m\n\u001b[0m\u001b[0;32m      5\u001b[0m \u001b[1;33m\u001b[0m\u001b[0m\n\u001b[0;32m      6\u001b[0m \u001b[0mdull_red\u001b[0m \u001b[1;33m=\u001b[0m \u001b[0mhex2color\u001b[0m\u001b[1;33m(\u001b[0m\u001b[1;34m'#E34234'\u001b[0m\u001b[1;33m)\u001b[0m\u001b[1;33m\u001b[0m\u001b[1;33m\u001b[0m\u001b[0m\n",
      "\u001b[1;31mNameError\u001b[0m: name 'plt' is not defined"
     ]
    }
   ],
   "source": [
    "distribution = dict(df[\"target\"].value_counts())\n",
    "\n",
    "# Set up the figure with a white background\n",
    "fig, ax = plt.subplots(facecolor='white')\n",
    "\n",
    "dull_red = hex2color('#E34234')\n",
    "dull_green = hex2color('#32712C')\n",
    "\n",
    "# Plotting the pie chart\n",
    "ax.pie(distribution.values(), labels=distribution.keys(), colors=[dull_green, dull_red], autopct='%1.1f%%', startangle=90)\n",
    "ax.set_title('Class Distribution')\n",
    "ax.axis('equal')  # Equal aspect ratio ensures the pie chart is circular.\n",
    "\n",
    "# Show the pie chart\n",
    "plt.show()"
   ]
  },
  {
   "cell_type": "markdown",
   "metadata": {},
   "source": [
    "## URL Tokenization and Word Embedding with Word2Vec"
   ]
  },
  {
   "cell_type": "code",
   "execution_count": 8,
   "metadata": {},
   "outputs": [],
   "source": [
    "def preprocess_url(url):\n",
    "    # Remove sequential strings following '#' and '?'\n",
    "    url = re.sub(r\"#.*\", \"\", url)\n",
    "    url = re.sub(r\"\\?.*\", \"\", url)\n",
    "\n",
    "    # Split the URL into protocol and rest (domain, path and file)\n",
    "    protocol, rest = url.split(\"://\", 1) if \"://\" in url else (\"\", url)\n",
    "\n",
    "    # Split the rest into domain and rest (path and file)\n",
    "    domain, rest = rest.split(\"/\", 1) if \"/\" in rest else (rest, \"\")\n",
    "    \n",
    "    # Split the rest into path and file\n",
    "    path, file = rest.rsplit(\"/\", 1) if \"/\" in rest else (rest, \"\")\n",
    "\n",
    "    return [protocol, domain, path, file]\n",
    "\n",
    "# Token extraction\n",
    "tokenized_urls = [preprocess_url(url) for url in df['url'].tolist()]\n",
    "\n",
    "# Train Word2Vec model\n",
    "model = Word2Vec(sentences=tokenized_urls, vector_size=100, window=5, min_count=1, workers=4)\n",
    "model.save(\"models/word2vec_model.model\")"
   ]
  },
  {
   "cell_type": "code",
   "execution_count": 9,
   "metadata": {},
   "outputs": [],
   "source": [
    "model = Word2Vec.load(\"models/word2vec_model.model\")"
   ]
  },
  {
   "cell_type": "code",
   "execution_count": 10,
   "metadata": {},
   "outputs": [
    {
     "name": "stdout",
     "output_type": "stream",
     "text": [
      "[['', 'br-icloud.com.br', '', ''], ['', 'mp3raid.com', 'music', 'krizz_kaliko.html'], ['', 'bopsecrets.org', 'rexroth/cr', '1.htm'], ['http', 'www.garage-pirenne.be', 'index.php', ''], ['http', 'adventure-nicaragua.net', 'index.php', ''], ['http', 'buzzfil.net', 'm/show-art', 'ils-etaient-loin-de-s-imaginer-que-le-hibou-allait-faire-ceci-quand-ils-filmaient-2.html'], ['', 'espn.go.com', 'nba/player/_/id/3457', 'brandon-rush'], ['', 'yourbittorrent.com', '', ''], ['http', 'www.pashminaonline.com', 'pure-pashminas', ''], ['', 'allmusic.com', 'album', 'crazy-from-the-heat-r16990']]\n",
      "[array([-0.02841005, -1.3570445 ,  2.583899  ,  2.4544125 , -2.8078327 ,\n",
      "        0.2890032 ,  2.982779  ,  0.3699581 ,  0.3969229 , -0.39165783,\n",
      "       -0.26323265, -0.6882718 , -1.9151151 ,  0.35113522, -1.1075875 ,\n",
      "       -0.59009653, -2.071853  , -2.0503783 ,  0.27332672,  3.3190815 ,\n",
      "        2.5255659 ,  1.2138379 ,  0.5392667 ,  3.108008  ,  0.25414407,\n",
      "        0.9086647 , -0.9959712 , -2.5154858 , -0.9000944 , -0.33457673,\n",
      "       -0.97422254,  1.2422887 ,  3.66991   , -1.7281288 ,  0.12875086,\n",
      "        0.27503818, -1.0218629 , -0.49988067, -0.05742   , -2.2725    ,\n",
      "        0.2221446 , -1.1176176 , -2.0395288 , -0.81013024, -1.3090581 ,\n",
      "       -0.75744206, -0.85132307,  1.0269434 ,  2.771185  ,  0.78680503,\n",
      "       -0.41253352,  0.5177357 ,  2.1801174 , -0.0119694 ,  1.6287006 ,\n",
      "        1.3366934 ,  0.38593763,  0.61295635,  0.8045555 ,  2.359282  ,\n",
      "        0.18716156, -0.80196995, -2.9028406 , -3.0524936 ,  0.37626305,\n",
      "       -2.4559762 , -3.3633687 ,  0.43860912,  0.14385396, -0.39755064,\n",
      "       -2.0802228 , -1.9303896 , -0.08198872, -0.92817014, -0.20338836,\n",
      "       -0.5801358 , -2.2198281 , -1.6469052 , -1.0861595 , -1.6295248 ,\n",
      "       -0.52628624,  1.3235147 ,  1.461019  , -1.611213  , -1.307188  ,\n",
      "        0.39695436,  1.1702687 , -1.1370457 , -1.9851389 ,  0.7489962 ,\n",
      "        1.9398315 , -0.8456598 , -2.3392317 , -1.6535879 , -0.7453296 ,\n",
      "       -1.0018936 , -1.9013078 , -1.2042968 ,  0.2028159 , -0.00729546],\n",
      "      dtype=float32), array([-0.4250667 , -0.6840974 ,  1.5857164 ,  1.4098783 , -1.7106273 ,\n",
      "       -0.54535806,  1.8314703 ,  0.6499421 , -0.32955366, -0.79706717,\n",
      "        0.42727235, -0.2531478 , -0.9964774 ,  0.0212117 , -0.78211415,\n",
      "       -0.24350953, -0.75411123, -1.3751494 , -0.5599442 ,  1.2492133 ,\n",
      "        0.97104985,  0.87526745,  1.1311057 ,  1.456827  , -0.03738503,\n",
      "        0.5916987 , -0.38748083, -0.7119064 , -0.3166703 , -0.08313648,\n",
      "       -0.00317475, -0.02925641,  1.9399091 , -1.2355939 ,  0.16580965,\n",
      "        1.2005564 ,  0.43264857, -0.3975558 , -0.43887714, -1.0610261 ,\n",
      "        0.72566146, -0.56187046, -1.7680856 , -0.97137964, -0.5716605 ,\n",
      "       -0.43831795, -0.7227745 ,  0.9738101 ,  1.3531542 ,  0.19738549,\n",
      "       -0.29167306,  0.18440664,  1.0551736 , -0.00370828,  0.3972484 ,\n",
      "        0.87745935,  0.41621014,  0.20266989,  0.35941157,  0.81592894,\n",
      "       -0.06841806, -0.16623071, -0.81998974, -1.8180823 ,  0.23442847,\n",
      "       -0.6772488 , -1.3742607 ,  0.6079887 ,  0.00514026, -0.47004673,\n",
      "       -0.79295033, -0.5683713 ,  0.14151323, -0.17350194, -0.22015314,\n",
      "       -0.6429791 , -1.1858102 , -0.6687338 , -0.2627438 , -0.7377072 ,\n",
      "       -0.8264342 ,  0.38571155,  0.9340211 , -0.91705513, -0.9673538 ,\n",
      "       -0.2694235 ,  0.9032815 , -0.29404363, -1.001318  ,  0.23022605,\n",
      "        0.6333712 , -0.1780034 , -1.2308314 , -0.9782048 ,  0.2555949 ,\n",
      "       -0.18358536, -0.90655994, -1.2932729 ,  0.22537489, -0.01901106],\n",
      "      dtype=float32), array([-0.06341074, -0.4267926 ,  0.94448406,  0.9075965 , -1.0004132 ,\n",
      "        0.01959819,  1.0525348 ,  0.20457512,  0.07653578, -0.21831954,\n",
      "       -0.04942997, -0.25285873, -0.66708696,  0.1548532 , -0.38330397,\n",
      "       -0.19947565, -0.63192874, -0.709427  , -0.0108704 ,  1.088297  ,\n",
      "        0.9099579 ,  0.4532336 ,  0.28786597,  1.0613794 ,  0.11871679,\n",
      "        0.30140695, -0.35249984, -0.7993579 , -0.312878  , -0.10317834,\n",
      "       -0.2996598 ,  0.38215235,  1.2656744 , -0.65706503,  0.03867182,\n",
      "        0.14494094, -0.2678472 , -0.17241555, -0.02802003, -0.77634585,\n",
      "        0.09368914, -0.37723804, -0.77668315, -0.30629665, -0.40851012,\n",
      "       -0.23364921, -0.30776903,  0.3908967 ,  0.93441266,  0.28870955,\n",
      "       -0.16868548,  0.18378766,  0.6838664 , -0.01131766,  0.5483974 ,\n",
      "        0.44758815,  0.16644357,  0.17129648,  0.26802137,  0.8344092 ,\n",
      "        0.03769907, -0.24357668, -0.95637465, -1.094369  ,  0.12503463,\n",
      "       -0.7797086 , -1.1011894 ,  0.19818561,  0.07540664, -0.14058131,\n",
      "       -0.68508446, -0.6078621 , -0.0376366 , -0.32058114, -0.06200414,\n",
      "       -0.21583076, -0.7457935 , -0.55067277, -0.35731083, -0.5843947 ,\n",
      "       -0.23552963,  0.45998076,  0.5419825 , -0.5239048 , -0.4483693 ,\n",
      "        0.11177799,  0.4431743 , -0.4332111 , -0.68359506,  0.23922619,\n",
      "        0.62724924, -0.27392608, -0.75557995, -0.57867175, -0.17069161,\n",
      "       -0.2770447 , -0.6497051 , -0.47480363,  0.05733669,  0.01748694],\n",
      "      dtype=float32), array([-0.8821906 , -0.8093707 ,  1.735816  ,  2.178096  , -2.2019658 ,\n",
      "       -1.4738646 ,  1.3282304 ,  2.0643249 ,  0.78881204, -1.0308073 ,\n",
      "       -1.0433719 , -1.0649161 , -4.055168  ,  2.1999452 , -1.47005   ,\n",
      "       -0.23143305, -0.96607673, -1.2290969 ,  0.90719444,  2.434107  ,\n",
      "        3.5434823 , -0.13524726,  1.0712849 ,  3.0588112 ,  2.17496   ,\n",
      "        0.6460079 , -0.75226486, -1.0712829 , -1.6318158 , -0.17224512,\n",
      "        0.20380494,  1.961784  ,  3.2097826 , -2.3019247 ,  1.030919  ,\n",
      "       -0.02875986,  0.37977478, -0.6187734 ,  1.0888544 , -2.0673156 ,\n",
      "       -0.5501476 , -2.4391327 , -3.1288548 , -0.7092984 , -0.8487928 ,\n",
      "        1.1609308 , -0.4806221 ,  0.88335353,  2.120366  ,  1.9437109 ,\n",
      "        0.22557294,  0.12938069,  0.38936102,  2.0265737 ,  2.5503173 ,\n",
      "        1.1177057 ,  1.567842  , -0.1764255 , -1.6538415 ,  3.2894692 ,\n",
      "       -0.97553605,  0.42286915, -3.3195248 , -3.301096  ,  0.31895268,\n",
      "       -1.299524  , -0.7286221 , -0.97580004,  2.0925002 ,  1.3612102 ,\n",
      "       -1.5125831 , -1.0966192 , -0.6844185 , -1.80248   ,  1.2158074 ,\n",
      "       -1.2777281 , -1.5797343 , -1.1691973 ,  0.4538303 , -0.9518024 ,\n",
      "       -0.5297677 ,  2.2252278 ,  1.8139919 , -1.1221695 , -0.980401  ,\n",
      "        0.8955271 ,  1.2405375 , -2.4292698 , -1.4404484 ,  1.2097489 ,\n",
      "        2.4777758 , -0.3138199 , -0.15700132, -1.4788201 , -0.68773544,\n",
      "       -0.05642828, -1.3934133 , -2.3095481 , -1.9789147 ,  1.8840343 ],\n",
      "      dtype=float32), array([-0.8754548 , -0.82262623,  1.7714194 ,  2.2062302 , -2.2266133 ,\n",
      "       -1.4907565 ,  1.3296003 ,  2.0943165 ,  0.7910275 , -1.0586104 ,\n",
      "       -1.0671073 , -1.100202  , -4.1069393 ,  2.2477965 , -1.4831228 ,\n",
      "       -0.22601052, -0.96971893, -1.2118518 ,  0.9185168 ,  2.4568224 ,\n",
      "        3.5851822 , -0.1237357 ,  1.0562967 ,  3.0527978 ,  2.2255478 ,\n",
      "        0.6563393 , -0.77673924, -1.0626421 , -1.648986  , -0.16188444,\n",
      "        0.20275941,  1.9594063 ,  3.2466216 , -2.3347807 ,  1.0258406 ,\n",
      "       -0.04355296,  0.38617793, -0.60462797,  1.1048125 , -2.0738606 ,\n",
      "       -0.5639464 , -2.4661899 , -3.1832943 , -0.72504175, -0.85217243,\n",
      "        1.1736197 , -0.48031485,  0.8814614 ,  2.1411157 ,  1.9620876 ,\n",
      "        0.23105925,  0.14556037,  0.39411613,  2.0557141 ,  2.5811281 ,\n",
      "        1.1156856 ,  1.5981781 , -0.19320665, -1.6706057 ,  3.341663  ,\n",
      "       -1.0010173 ,  0.41996068, -3.370551  , -3.3347297 ,  0.32685181,\n",
      "       -1.2893935 , -0.7189846 , -0.9991696 ,  2.1441073 ,  1.3987274 ,\n",
      "       -1.5524844 , -1.0936807 , -0.7168727 , -1.8546026 ,  1.2449986 ,\n",
      "       -1.2816265 , -1.5752034 , -1.1807454 ,  0.45717973, -0.9713219 ,\n",
      "       -0.55745345,  2.249467  ,  1.8346508 , -1.1228266 , -0.990178  ,\n",
      "        0.90408933,  1.2165972 , -2.4819956 , -1.4632467 ,  1.2266567 ,\n",
      "        2.4867575 , -0.32744437, -0.13637727, -1.5163459 , -0.70371544,\n",
      "       -0.06218114, -1.4189496 , -2.318805  , -2.0026245 ,  1.9200644 ],\n",
      "      dtype=float32), array([-0.90890855,  0.04539104,  0.8855571 ,  1.0884773 , -0.5346149 ,\n",
      "       -1.3354336 ,  0.25514868,  1.4339834 , -0.08475929, -1.1694772 ,\n",
      "       -0.5010841 , -0.7713779 , -2.1806986 ,  1.4437795 , -0.7090201 ,\n",
      "        0.3488185 ,  0.12067883, -0.04113483,  0.15070572,  0.47399053,\n",
      "        1.4460177 , -0.1124756 ,  0.9456472 ,  0.3728569 ,  1.7841707 ,\n",
      "        0.12559949, -0.6876163 ,  0.32500085, -0.690942  ,  0.03742887,\n",
      "        0.9196413 ,  0.30472058,  1.1350979 , -1.116361  ,  0.5071753 ,\n",
      "        0.2629908 ,  0.85800827,  0.06067575,  1.035003  , -0.43502307,\n",
      "       -0.06471679, -1.39965   , -2.362447  , -0.39785576, -0.35120642,\n",
      "        0.7598398 ,  0.2218547 ,  0.3690437 ,  0.3900566 ,  0.87552387,\n",
      "        0.52814275, -0.14578281, -0.49280414,  1.7642429 ,  1.1519645 ,\n",
      "        0.4679522 ,  1.488586  , -0.3237683 , -1.1836002 ,  1.5630553 ,\n",
      "       -1.1911646 ,  0.3890373 , -1.1358751 , -1.6792579 ,  0.2626921 ,\n",
      "        0.18653901,  0.89205605, -0.9937755 ,  1.5915298 ,  0.9078601 ,\n",
      "       -1.0414953 , -0.03551774, -0.39670607, -0.7625111 ,  0.9247948 ,\n",
      "       -1.1165721 , -0.6795713 , -0.5878887 ,  0.40790692, -0.36332622,\n",
      "       -0.6547276 ,  1.0073682 ,  1.3490033 , -0.37057602, -0.17004086,\n",
      "        0.5377449 , -0.2003639 , -1.625036  , -0.54846674,  0.58529025,\n",
      "        0.82702243,  0.178684  ,  0.7460968 , -0.88201153,  0.12258431,\n",
      "        0.39151147, -0.1807529 , -0.9171396 , -1.1896175 ,  1.1988176 ],\n",
      "      dtype=float32), array([-0.28430116, -0.40854406,  1.2561375 ,  1.2459829 , -1.3768194 ,\n",
      "       -0.3042256 ,  1.3307291 ,  0.60854983,  0.07057695, -0.49924773,\n",
      "       -0.02472326, -0.28706944, -1.0116218 ,  0.29023057, -0.56883943,\n",
      "       -0.26395592, -0.58792573, -1.0272181 , -0.15102746,  1.1495268 ,\n",
      "        1.3785456 ,  0.5162704 ,  0.76457375,  1.4936837 ,  0.2070435 ,\n",
      "        0.43450496, -0.38698784, -0.7332609 , -0.46725568, -0.05302787,\n",
      "       -0.20076025,  0.4787806 ,  1.6160617 , -1.0696579 ,  0.12390207,\n",
      "        0.36165264,  0.01223999, -0.29164928, -0.10516527, -1.0590926 ,\n",
      "        0.0349668 , -0.53750104, -1.209772  , -0.5729684 , -0.40476158,\n",
      "       -0.21818714, -0.553992  ,  0.64219016,  1.1738943 ,  0.5208565 ,\n",
      "       -0.336432  ,  0.23583679,  0.6338436 , -0.03252201,  0.72536576,\n",
      "        0.5515487 ,  0.23276606,  0.06871162,  0.0669971 ,  1.1898674 ,\n",
      "        0.03920771, -0.12641342, -1.0834738 , -1.5130101 ,  0.07497064,\n",
      "       -0.85407686, -1.1670015 ,  0.39724594,  0.1637569 , -0.11229943,\n",
      "       -0.6780862 , -0.5266562 , -0.05353924, -0.45492736, -0.00438605,\n",
      "       -0.3821169 , -0.8476216 , -0.5949406 , -0.2680921 , -0.72482777,\n",
      "       -0.36360708,  0.6187957 ,  0.7685323 , -0.52622086, -0.62374145,\n",
      "        0.02803736,  0.9000751 , -0.6304381 , -0.81303465,  0.22320673,\n",
      "        0.83734804, -0.26211682, -0.8068167 , -0.64489454,  0.01411815,\n",
      "       -0.11172713, -0.80094534, -0.9798732 , -0.10919213,  0.15616165],\n",
      "      dtype=float32), array([-0.05081084, -1.3689158 ,  2.5823643 ,  2.4299626 , -2.823938  ,\n",
      "        0.2587511 ,  2.994876  ,  0.41707626,  0.43000054, -0.41624278,\n",
      "       -0.25867683, -0.6753204 , -1.9313669 ,  0.34604177, -1.1498163 ,\n",
      "       -0.61064863, -2.0925982 , -2.101667  ,  0.29567745,  3.3560271 ,\n",
      "        2.5360172 ,  1.1889658 ,  0.5970185 ,  3.172974  ,  0.24935201,\n",
      "        0.9285059 , -0.9678714 , -2.51883   , -0.87404823, -0.33324066,\n",
      "       -0.9389261 ,  1.2257162 ,  3.6928177 , -1.7358629 ,  0.14129514,\n",
      "        0.3408674 , -0.9817579 , -0.5217994 , -0.09216683, -2.28577   ,\n",
      "        0.21640053, -1.1225368 , -2.0660675 , -0.8761262 , -1.3376966 ,\n",
      "       -0.7860582 , -0.8597846 ,  1.0390757 ,  2.7746327 ,  0.78684026,\n",
      "       -0.40736118,  0.5158168 ,  2.168651  , -0.01771899,  1.6205348 ,\n",
      "        1.3386054 ,  0.37952536,  0.59933877,  0.79848474,  2.32971   ,\n",
      "        0.19777253, -0.79664797, -2.8759797 , -3.1017375 ,  0.3654665 ,\n",
      "       -2.48506   , -3.362874  ,  0.44786543,  0.13203238, -0.4074654 ,\n",
      "       -2.0761125 , -1.921123  , -0.07702477, -0.92201775, -0.20098123,\n",
      "       -0.6080514 , -2.2577853 , -1.6294806 , -1.0705311 , -1.5852048 ,\n",
      "       -0.53280556,  1.3151245 ,  1.4793198 , -1.6348081 , -1.3493488 ,\n",
      "        0.36373028,  1.1978946 , -1.1342978 , -2.0134597 ,  0.7138743 ,\n",
      "        1.9580088 , -0.83774656, -2.3574355 , -1.673796  , -0.73417056,\n",
      "       -1.0037628 , -1.9055126 , -1.2517703 ,  0.18301246, -0.00571361],\n",
      "      dtype=float32), array([-0.746397  , -0.5482566 ,  1.4306985 ,  1.4513353 , -1.2401873 ,\n",
      "       -0.9790778 ,  1.0750294 ,  1.3142211 ,  0.2884393 , -1.0401525 ,\n",
      "       -0.6555868 , -0.8651852 , -2.6007683 ,  1.3297974 , -1.093463  ,\n",
      "        0.08980633, -0.84829396, -0.7274986 ,  0.60166794,  1.7422545 ,\n",
      "        1.9383478 ,  0.13069448,  0.86124265,  1.3861109 ,  1.682668  ,\n",
      "        0.46688223, -0.830359  , -0.67876697, -0.7869762 , -0.10101575,\n",
      "        0.56406415,  0.6679567 ,  2.2082782 , -1.3261459 ,  0.5642753 ,\n",
      "        0.3903828 ,  0.3563166 , -0.12289301,  0.8746438 , -1.0756752 ,\n",
      "       -0.03772379, -1.6317625 , -2.6750648 , -0.7199365 , -0.9457847 ,\n",
      "        0.3014207 ,  0.02311733,  0.52850986,  1.2095492 ,  0.94412625,\n",
      "        0.50561   , -0.0088044 ,  0.39950255,  1.6616977 ,  1.559376  ,\n",
      "        0.86077344,  1.399021  , -0.04289746, -0.79168266,  1.9450772 ,\n",
      "       -1.0010468 , -0.0067195 , -1.9447361 , -2.5010083 ,  0.34347042,\n",
      "       -0.8158826 , -0.3453691 , -0.92116845,  1.4219353 ,  0.7353945 ,\n",
      "       -1.733968  , -0.75794333, -0.34928775, -0.9516421 ,  0.75730926,\n",
      "       -1.2147763 , -1.5040524 , -1.0810213 ,  0.00554785, -0.6206635 ,\n",
      "       -0.6798314 ,  1.2587911 ,  1.6212906 , -1.0325068 , -0.6460688 ,\n",
      "        0.6080936 , -0.01941407, -1.7469788 , -1.2187154 ,  0.7119058 ,\n",
      "        1.4632825 , -0.11706281, -0.1807918 , -1.3818022 , -0.359008  ,\n",
      "       -0.1707471 , -0.74184686, -1.0695589 , -1.0525396 ,  1.0074027 ],\n",
      "      dtype=float32), array([-0.3229031 , -0.39321512,  1.5023544 ,  1.3259053 , -1.4312052 ,\n",
      "       -0.2387002 ,  1.5675355 ,  0.46791124, -0.14099063, -0.5570486 ,\n",
      "        0.1788872 , -0.38217828, -0.63428015,  0.15949526, -0.49815723,\n",
      "       -0.22540487, -0.6030094 , -1.095085  , -0.41376865,  1.1112794 ,\n",
      "        1.194269  ,  0.76901907,  0.9180905 ,  1.1451112 ,  0.08613952,\n",
      "        0.49094805, -0.5171064 , -0.747631  , -0.37101734, -0.05282848,\n",
      "       -0.10177327,  0.18196695,  1.5784456 , -0.9187028 , -0.0788733 ,\n",
      "        0.5498862 , -0.00671815, -0.18480532, -0.19985975, -1.1396967 ,\n",
      "        0.24612977, -0.30523318, -1.2913879 , -0.70907843, -0.4057043 ,\n",
      "       -0.44831532, -0.556417  ,  0.7078608 ,  1.1200119 ,  0.2702476 ,\n",
      "       -0.378051  ,  0.1928765 ,  0.73145574, -0.20072123,  0.5412312 ,\n",
      "        0.6040372 ,  0.21019177,  0.01527877,  0.31719732,  0.90625525,\n",
      "        0.03583639, -0.33309704, -0.7615889 , -1.486983  , -0.00672442,\n",
      "       -0.7723738 , -1.3275936 ,  0.5525057 , -0.03345867, -0.2925416 ,\n",
      "       -0.83151335, -0.44564793,  0.16131192, -0.27318594, -0.2418064 ,\n",
      "       -0.4566293 , -0.854572  , -0.7420628 , -0.43590125, -0.82155466,\n",
      "       -0.56908435,  0.4183707 ,  0.8633362 , -0.5254476 , -0.59648734,\n",
      "       -0.12490265,  0.7669249 , -0.543133  , -0.7890577 ,  0.1448442 ,\n",
      "        0.6344735 , -0.33696523, -0.90736455, -0.59024835,  0.26169267,\n",
      "        0.02974158, -0.8055778 , -0.8710349 ,  0.1480635 , -0.04428843],\n",
      "      dtype=float32)]\n"
     ]
    }
   ],
   "source": [
    "# Function to get the aggregated embedding for a URL\n",
    "def get_url_embedding(url_tokens, model):\n",
    "    embeddings = [model.wv[token] for token in url_tokens if token in model.wv]\n",
    "    if embeddings:\n",
    "        return np.mean(embeddings, axis=0)\n",
    "    else:\n",
    "        return np.zeros(model.vector_size)\n",
    "\n",
    "# Generate embeddings for each URL\n",
    "url_embeddings = [get_url_embedding(url_token, model) for url_token in tokenized_urls]"
   ]
  },
  {
   "cell_type": "code",
   "execution_count": 28,
   "metadata": {},
   "outputs": [
    {
     "data": {
      "text/html": [
       "<div>\n",
       "<style scoped>\n",
       "    .dataframe tbody tr th:only-of-type {\n",
       "        vertical-align: middle;\n",
       "    }\n",
       "\n",
       "    .dataframe tbody tr th {\n",
       "        vertical-align: top;\n",
       "    }\n",
       "\n",
       "    .dataframe thead th {\n",
       "        text-align: right;\n",
       "    }\n",
       "</style>\n",
       "<table border=\"1\" class=\"dataframe\">\n",
       "  <thead>\n",
       "    <tr style=\"text-align: right;\">\n",
       "      <th></th>\n",
       "      <th>train</th>\n",
       "      <th>test</th>\n",
       "      <th>validation</th>\n",
       "      <th>total</th>\n",
       "    </tr>\n",
       "  </thead>\n",
       "  <tbody>\n",
       "    <tr>\n",
       "      <th>benign</th>\n",
       "      <td>342325</td>\n",
       "      <td>42748</td>\n",
       "      <td>43030</td>\n",
       "      <td>428103</td>\n",
       "    </tr>\n",
       "    <tr>\n",
       "      <th>malicious</th>\n",
       "      <td>178627</td>\n",
       "      <td>22371</td>\n",
       "      <td>22090</td>\n",
       "      <td>223088</td>\n",
       "    </tr>\n",
       "  </tbody>\n",
       "</table>\n",
       "</div>"
      ],
      "text/plain": [
       "            train   test  validation   total\n",
       "benign     342325  42748       43030  428103\n",
       "malicious  178627  22371       22090  223088"
      ]
     },
     "execution_count": 28,
     "metadata": {},
     "output_type": "execute_result"
    }
   ],
   "source": [
    "X_train, X_test, y_train, y_test = train_test_split(url_embeddings, df['target'].tolist(), test_size=0.2, random_state=42)\n",
    "X_test, X_val, y_test, y_val = train_test_split(X_test, y_test, test_size=0.5, random_state=42)\n",
    "\n",
    "# Print the basic statistics of the training set\n",
    "data_counts = {\n",
    "    \"train\": pd.Series(y_train).value_counts().to_list(),\n",
    "    \"test\": pd.Series(y_test).value_counts().to_list(),\n",
    "    \"validation\": pd.Series(y_val).value_counts().to_list(),\n",
    "    \"total\": pd.Series(df['target'].tolist()).value_counts().to_list(),\n",
    "}\n",
    "pd.DataFrame(data_counts, index=[\"benign\", \"malicious\"])"
   ]
  },
  {
   "cell_type": "code",
   "execution_count": 12,
   "metadata": {},
   "outputs": [],
   "source": [
    "ss = StandardScaler(copy=True, with_mean=True, with_std=True)\n",
    "\n",
    "# Fit the scaler on the training data\n",
    "ss.fit(X_train)\n",
    "\n",
    "# Transform the training, validation, and testing data\n",
    "X_train = ss.transform(X_train)\n",
    "X_test = ss.transform(X_test)\n",
    "X_val = ss.transform(X_val)"
   ]
  },
  {
   "cell_type": "markdown",
   "metadata": {},
   "source": [
    "## Naive Bayes Classifier"
   ]
  },
  {
   "cell_type": "code",
   "execution_count": 31,
   "metadata": {},
   "outputs": [
    {
     "data": {
      "text/plain": [
       "['models/nb_classifier.joblib']"
      ]
     },
     "execution_count": 31,
     "metadata": {},
     "output_type": "execute_result"
    }
   ],
   "source": [
    "nb_classifier = GaussianNB()\n",
    "\n",
    "nb_classifier.fit(X_train, y_train)\n",
    "\n",
    "joblib.dump(nb_classifier, \"models/nb_classifier.joblib\")"
   ]
  },
  {
   "cell_type": "code",
   "execution_count": 32,
   "metadata": {},
   "outputs": [
    {
     "data": {
      "text/plain": [
       "0.8245673305794008"
      ]
     },
     "execution_count": 32,
     "metadata": {},
     "output_type": "execute_result"
    }
   ],
   "source": [
    "nb_classifier = joblib.load(\"models/nb_classifier.joblib\")\n",
    "\n",
    "nb_classifier.score(X_test, y_test)"
   ]
  },
  {
   "cell_type": "code",
   "execution_count": 33,
   "metadata": {},
   "outputs": [
    {
     "name": "stdout",
     "output_type": "stream",
     "text": [
      "              precision    recall  f1-score   support\n",
      "\n",
      "      benign     0.8530    0.8854    0.8689     42748\n",
      "   malicious     0.7638    0.7083    0.7350     22371\n",
      "\n",
      "    accuracy                         0.8246     65119\n",
      "   macro avg     0.8084    0.7969    0.8020     65119\n",
      "weighted avg     0.8223    0.8246    0.8229     65119\n",
      "\n"
     ]
    }
   ],
   "source": [
    "y_pred = nb_classifier.predict(X_test)\n",
    "\n",
    "print(classification_report(y_test, y_pred, target_names=[\"benign\", \"malicious\"], zero_division=0, digits=4))"
   ]
  },
  {
   "cell_type": "markdown",
   "metadata": {},
   "source": [
    "## Random Forest Classifier"
   ]
  },
  {
   "cell_type": "code",
   "execution_count": 24,
   "metadata": {},
   "outputs": [
    {
     "name": "stderr",
     "output_type": "stream",
     "text": [
      "[Parallel(n_jobs=10)]: Using backend ThreadingBackend with 10 concurrent workers.\n"
     ]
    },
    {
     "name": "stdout",
     "output_type": "stream",
     "text": [
      "building tree 1 of 50building tree 2 of 50\n",
      "\n",
      "building tree 3 of 50\n",
      "building tree 4 of 50\n",
      "building tree 5 of 50\n",
      "building tree 6 of 50\n",
      "building tree 7 of 50\n",
      "building tree 8 of 50\n",
      "building tree 9 of 50\n",
      "building tree 10 of 50\n",
      "building tree 11 of 50\n",
      "building tree 12 of 50\n",
      "building tree 13 of 50\n",
      "building tree 14 of 50\n",
      "building tree 15 of 50\n",
      "building tree 16 of 50\n",
      "building tree 17 of 50\n",
      "building tree 18 of 50\n",
      "building tree 19 of 50\n",
      "building tree 20 of 50\n",
      "building tree 21 of 50\n",
      "building tree 22 of 50\n",
      "building tree 23 of 50\n",
      "building tree 24 of 50\n",
      "building tree 25 of 50\n",
      "building tree 26 of 50\n",
      "building tree 27 of 50\n",
      "building tree 28 of 50\n",
      "building tree 29 of 50\n",
      "building tree 30 of 50\n",
      "building tree 31 of 50\n"
     ]
    },
    {
     "name": "stderr",
     "output_type": "stream",
     "text": [
      "[Parallel(n_jobs=10)]: Done  21 tasks      | elapsed:  3.1min\n"
     ]
    },
    {
     "name": "stdout",
     "output_type": "stream",
     "text": [
      "building tree 32 of 50\n",
      "building tree 33 of 50\n",
      "building tree 34 of 50\n",
      "building tree 35 of 50\n",
      "building tree 36 of 50\n",
      "building tree 37 of 50\n",
      "building tree 38 of 50\n",
      "building tree 39 of 50\n",
      "building tree 40 of 50\n",
      "building tree 41 of 50\n",
      "building tree 42 of 50\n",
      "building tree 43 of 50\n",
      "building tree 44 of 50\n",
      "building tree 45 of 50\n",
      "building tree 46 of 50\n",
      "building tree 47 of 50\n",
      "building tree 48 of 50\n",
      "building tree 49 of 50\n",
      "building tree 50 of 50\n"
     ]
    },
    {
     "name": "stderr",
     "output_type": "stream",
     "text": [
      "[Parallel(n_jobs=10)]: Done  50 out of  50 | elapsed:  4.7min finished\n"
     ]
    },
    {
     "data": {
      "text/plain": [
       "['models/rf_classifier.joblib']"
      ]
     },
     "execution_count": 24,
     "metadata": {},
     "output_type": "execute_result"
    }
   ],
   "source": [
    "rf_classifier = RandomForestClassifier(n_estimators=50, n_jobs=10)\n",
    "\n",
    "rf_classifier.fit(X_train, y_train)\n",
    "\n",
    "joblib.dump(rf_classifier, \"models/rf_classifier.joblib\")"
   ]
  },
  {
   "cell_type": "code",
   "execution_count": 26,
   "metadata": {},
   "outputs": [
    {
     "name": "stderr",
     "output_type": "stream",
     "text": [
      "[Parallel(n_jobs=10)]: Using backend ThreadingBackend with 10 concurrent workers.\n",
      "[Parallel(n_jobs=10)]: Done  21 tasks      | elapsed:    0.1s\n",
      "[Parallel(n_jobs=10)]: Done  50 out of  50 | elapsed:    0.2s finished\n"
     ]
    },
    {
     "data": {
      "text/plain": [
       "0.914004914004914"
      ]
     },
     "execution_count": 26,
     "metadata": {},
     "output_type": "execute_result"
    }
   ],
   "source": [
    "rf_classifier = joblib.load(\"models/rf_classifier.joblib\")\n",
    "\n",
    "# Tune hyperparameters using X_val and y_val\n",
    "rf_classifier.score(X_val, y_val)"
   ]
  },
  {
   "cell_type": "code",
   "execution_count": 27,
   "metadata": {},
   "outputs": [
    {
     "name": "stderr",
     "output_type": "stream",
     "text": [
      "[Parallel(n_jobs=10)]: Using backend ThreadingBackend with 10 concurrent workers.\n",
      "[Parallel(n_jobs=10)]: Done  21 tasks      | elapsed:    0.0s\n",
      "[Parallel(n_jobs=10)]: Done  50 out of  50 | elapsed:    0.0s finished\n"
     ]
    },
    {
     "name": "stdout",
     "output_type": "stream",
     "text": [
      "              precision    recall  f1-score   support\n",
      "\n",
      "      benign     0.8866    0.9940    0.9373     42748\n",
      "   malicious     0.9852    0.7571    0.8562     22371\n",
      "\n",
      "    accuracy                         0.9126     65119\n",
      "   macro avg     0.9359    0.8756    0.8967     65119\n",
      "weighted avg     0.9205    0.9126    0.9094     65119\n",
      "\n"
     ]
    }
   ],
   "source": [
    "y_pred = rf_classifier.predict(X_test)\n",
    "\n",
    "print(classification_report(y_test, y_pred, target_names=[\"benign\", \"malicious\"], zero_division=0, digits=4))"
   ]
  }
 ],
 "metadata": {
  "kernelspec": {
   "display_name": "Python 3",
   "language": "python",
   "name": "python3"
  },
  "language_info": {
   "codemirror_mode": {
    "name": "ipython",
    "version": 3
   },
   "file_extension": ".py",
   "mimetype": "text/x-python",
   "name": "python",
   "nbconvert_exporter": "python",
   "pygments_lexer": "ipython3",
   "version": "3.9.13"
  }
 },
 "nbformat": 4,
 "nbformat_minor": 2
}
