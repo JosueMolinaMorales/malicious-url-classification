{
 "cells": [
  {
   "cell_type": "markdown",
   "metadata": {},
   "source": [
    "# Malicious URL CLassification"
   ]
  },
  {
   "cell_type": "code",
   "execution_count": 51,
   "metadata": {},
   "outputs": [],
   "source": [
    "import pandas as pd\n",
    "import matplotlib.pyplot as plt\n",
    "from matplotlib.colors import hex2color\n",
    "from gensim.models import Word2Vec\n",
    "from nltk import ngrams\n",
    "import re"
   ]
  },
  {
   "cell_type": "markdown",
   "metadata": {},
   "source": [
    "## Import the dataset"
   ]
  },
  {
   "cell_type": "code",
   "execution_count": 38,
   "metadata": {},
   "outputs": [],
   "source": [
    "DATASET_FILE = \"./datasets/malicious_phish.csv\"\n",
    "\n",
    "df = pd.read_csv(DATASET_FILE)\n",
    "\n",
    "df.rename(columns={\"type\": \"target\"}, inplace=True)"
   ]
  },
  {
   "cell_type": "code",
   "execution_count": 39,
   "metadata": {},
   "outputs": [
    {
     "data": {
      "text/plain": [
       "benign        428103\n",
       "defacement     96457\n",
       "phishing       94111\n",
       "malware        32520\n",
       "Name: target, dtype: int64"
      ]
     },
     "execution_count": 39,
     "metadata": {},
     "output_type": "execute_result"
    }
   ],
   "source": [
    "df[\"target\"].value_counts()"
   ]
  },
  {
   "cell_type": "markdown",
   "metadata": {},
   "source": [
    "# Rename target values"
   ]
  },
  {
   "cell_type": "code",
   "execution_count": 40,
   "metadata": {},
   "outputs": [],
   "source": [
    "df['target'] = df['target'].map(lambda x: 'malicious' if x != 'benign' else 'benign')"
   ]
  },
  {
   "cell_type": "code",
   "execution_count": 41,
   "metadata": {},
   "outputs": [
    {
     "data": {
      "image/png": "[encoded data removed]",
      "text/plain": [
       "<Figure size 432x288 with 1 Axes>"
      ]
     },
     "metadata": {},
     "output_type": "display_data"
    }
   ],
   "source": [
    "distribution = dict(df[\"target\"].value_counts())\n",
    "\n",
    "# Set up the figure with a white background\n",
    "fig, ax = plt.subplots(facecolor='white')\n",
    "\n",
    "dull_red = hex2color('#E34234')\n",
    "dull_green = hex2color('#32712C')\n",
    "\n",
    "# Plotting the pie chart\n",
    "ax.pie(distribution.values(), labels=distribution.keys(), colors=[dull_green, dull_red], autopct='%1.1f%%', startangle=90)\n",
    "ax.set_title('Class Distribution')\n",
    "ax.axis('equal')  # Equal aspect ratio ensures the pie chart is circular.\n",
    "\n",
    "# Show the pie chart\n",
    "plt.show()"
   ]
  },
  {
   "cell_type": "markdown",
   "metadata": {},
   "source": [
    "## URL Tokenization and Word Embedding with Word2Vec"
   ]
  },
  {
   "cell_type": "code",
   "execution_count": 91,
   "metadata": {},
   "outputs": [],
   "source": [
    "def preprocess_url(url):\n",
    "    # Remove sequential strings following '#' and '?'\n",
    "    url = re.sub(r\"#.*\", \"\", url)\n",
    "    url = re.sub(r\"\\?.*\", \"\", url)\n",
    "\n",
    "    # Split the URL into protocol and rest (domain, path and file)\n",
    "    protocol, rest = url.split(\"://\", 1) if \"://\" in url else (\"\", url)\n",
    "\n",
    "    # Split the rest into domain and rest (path and file)\n",
    "    domain, rest = rest.split(\"/\", 1) if \"/\" in rest else (rest, \"\")\n",
    "    \n",
    "    # Split the rest into path and file\n",
    "    path, file = rest.rsplit(\"/\", 1) if \"/\" in rest else (rest, \"\")\n",
    "\n",
    "    return [protocol, domain, path, file]\n",
    "\n",
    "\n",
    "\n",
    "# Token extraction\n",
    "tokenized_urls = [preprocess_url(url) for url in df['url'].tolist()]\n",
    "\n",
    "# Train Word2Vec model\n",
    "model = Word2Vec(sentences=tokenized_urls, vector_size=100, window=5, min_count=1, workers=4)"
   ]
  },
  {
   "cell_type": "code",
   "execution_count": 94,
   "metadata": {},
   "outputs": [
    {
     "name": "stdout",
     "output_type": "stream",
     "text": [
      "[['', 'br-icloud.com.br', '', ''], ['', 'mp3raid.com', 'music', 'krizz_kaliko.html'], ['', 'bopsecrets.org', 'rexroth/cr', '1.htm'], ['http', 'www.garage-pirenne.be', 'index.php', ''], ['http', 'adventure-nicaragua.net', 'index.php', ''], ['http', 'buzzfil.net', 'm/show-art', 'ils-etaient-loin-de-s-imaginer-que-le-hibou-allait-faire-ceci-quand-ils-filmaient-2.html'], ['', 'espn.go.com', 'nba/player/_/id/3457', 'brandon-rush'], ['', 'yourbittorrent.com', '', ''], ['http', 'www.pashminaonline.com', 'pure-pashminas', ''], ['', 'allmusic.com', 'album', 'crazy-from-the-heat-r16990']]\n",
      "[array([ 0.05569348,  0.54655725,  1.113113  ,  1.7397156 , -2.6709473 ,\n",
      "        0.32509097,  3.7759109 , -1.7954855 ,  1.4673101 , -0.31381333,\n",
      "        0.8969219 , -0.84895265, -2.5421128 ,  0.17016381, -1.5961785 ,\n",
      "        0.7433325 , -2.4170187 , -2.3151627 ,  0.20573801,  3.149556  ,\n",
      "        2.6762347 , -0.52037674,  1.1961789 ,  3.5969024 , -0.96003807,\n",
      "        1.2940048 , -0.5140866 , -2.1769152 ,  0.03227606, -0.20086972,\n",
      "       -1.4022527 ,  0.30321115,  3.0609581 , -1.1918333 ,  1.8374327 ,\n",
      "        0.28353414, -0.3121907 ,  0.7260294 ,  0.95893824, -2.9105487 ,\n",
      "       -0.71383506, -1.5166931 , -0.8806542 , -1.4353129 , -1.8770921 ,\n",
      "       -1.0708389 , -0.28349328,  0.87214756,  1.914181  ,  0.64794433,\n",
      "       -1.3238112 , -0.53139675,  1.4689109 , -0.6080945 ,  1.653672  ,\n",
      "       -0.6015933 ,  0.54030967, -1.1549537 ,  0.43275383,  0.95855486,\n",
      "       -0.3306318 , -0.45297876, -2.2768753 , -2.811511  , -0.01946974,\n",
      "       -2.8648903 , -2.1244833 ,  0.05847147, -0.7664514 , -0.7531056 ,\n",
      "       -2.908666  ,  1.1572716 , -0.37872094,  0.72329694,  0.16445601,\n",
      "       -0.25761068, -1.6862473 , -0.1487179 , -1.6290345 , -1.0605524 ,\n",
      "        1.0677699 ,  0.81123817,  1.6940098 , -0.8016548 , -2.309095  ,\n",
      "        0.90514255, -0.37109312, -1.8561821 , -2.288443  ,  0.91477513,\n",
      "        2.563333  , -0.21328092, -1.1790504 , -0.7767061 ,  0.267632  ,\n",
      "       -1.4385909 , -2.9527037 , -1.8970664 ,  1.6254466 , -0.33250153],\n",
      "      dtype=float32), array([-0.25388172, -0.18891697,  0.8030804 ,  1.2861606 , -1.4621265 ,\n",
      "       -0.48151043,  2.0352988 , -0.39554965,  0.24096599, -0.26178527,\n",
      "        1.0214366 , -0.78957456, -1.5653131 ,  0.08989441, -1.120509  ,\n",
      "        0.61057043, -0.83216286, -1.375533  , -0.65700233,  0.95176697,\n",
      "        0.96724427,  0.08222549,  1.3789942 ,  1.8384007 , -0.9332912 ,\n",
      "        1.0076183 ,  0.21259168, -0.5176067 ,  0.06661035,  0.11330625,\n",
      "       -0.4424385 , -0.22444506,  1.6923281 , -0.8270793 ,  1.0391524 ,\n",
      "        1.0126925 ,  0.87113327, -0.17225267, -0.25401536, -1.3837161 ,\n",
      "        0.15265462, -0.7072473 , -0.9141249 , -0.93066424, -0.7447385 ,\n",
      "       -0.31312817, -0.55287755,  0.73056734,  1.1774706 ,  0.18857259,\n",
      "       -0.7088363 , -0.2889103 ,  0.8022179 , -0.33031318,  0.47457913,\n",
      "        0.09043992,  0.56676394, -0.54666424,  0.10853536,  0.35836777,\n",
      "       -0.23625082, -0.13833629, -0.8163758 , -1.3495345 , -0.0377042 ,\n",
      "       -1.211302  , -0.69200754,  0.45322385, -0.8385423 , -0.49726924,\n",
      "       -0.9771007 ,  0.64013076, -0.25614247,  0.70613647, -0.08724231,\n",
      "       -0.54540557, -0.47634232,  0.10488214, -0.33265254, -0.745905  ,\n",
      "       -0.04556662,  0.337565  ,  1.0214931 , -0.4618636 , -1.5678619 ,\n",
      "        0.00392391,  0.26027414, -0.60916483, -0.9143415 ,  0.74634814,\n",
      "        0.9411548 ,  0.20707898, -0.89614064, -0.37286317,  0.41120732,\n",
      "       -0.520722  , -1.6701308 , -1.7245697 ,  1.0371189 ,  0.26624   ],\n",
      "      dtype=float32), array([-0.02892768,  0.18626547,  0.42471358,  0.6348274 , -0.93966866,\n",
      "        0.02998424,  1.3267477 , -0.4890567 ,  0.43377268, -0.15984045,\n",
      "        0.34452128, -0.33920217, -0.9004243 ,  0.08837728, -0.5527503 ,\n",
      "        0.24462469, -0.75154006, -0.79399395, -0.05402669,  1.017653  ,\n",
      "        0.94549376, -0.13004841,  0.51660526,  1.2604351 , -0.32406107,\n",
      "        0.445255  , -0.15411255, -0.6824965 , -0.01666405, -0.0701434 ,\n",
      "       -0.48655605,  0.06113927,  1.0466795 , -0.4724374 ,  0.61611116,\n",
      "        0.12834895,  0.00634237,  0.21884467,  0.30383173, -0.9812422 ,\n",
      "       -0.24536389, -0.5129376 , -0.35966372, -0.50019985, -0.6032178 ,\n",
      "       -0.3072576 , -0.12314596,  0.3383136 ,  0.6559327 ,  0.26346144,\n",
      "       -0.47653642, -0.19120379,  0.45748228, -0.21510337,  0.56949824,\n",
      "       -0.19886193,  0.22875983, -0.4300564 ,  0.13042764,  0.37190452,\n",
      "       -0.11201108, -0.14670049, -0.7652658 , -0.99632084,  0.00623986,\n",
      "       -0.9302563 , -0.669235  ,  0.07398973, -0.27494845, -0.25221387,\n",
      "       -0.93189853,  0.4244487 , -0.12319793,  0.23777983,  0.07864083,\n",
      "       -0.10718527, -0.543576  , -0.02009084, -0.54719573, -0.42012194,\n",
      "        0.32701215,  0.29576388,  0.611097  , -0.23708165, -0.82017136,\n",
      "        0.2727233 , -0.07500964, -0.6798042 , -0.7946526 ,  0.3506949 ,\n",
      "        0.8615941 , -0.02517131, -0.39816418, -0.29194987,  0.18734536,\n",
      "       -0.41704148, -1.0419644 , -0.73451704,  0.5310345 , -0.07562426],\n",
      "      dtype=float32), array([-0.49655527,  0.253237  ,  0.79184234,  0.6619106 , -1.500056  ,\n",
      "       -1.236697  ,  2.1543863 ,  1.1421334 ,  1.9307904 , -0.27562034,\n",
      "        0.60631293, -1.4429268 , -3.5971375 ,  2.3348887 , -1.924489  ,\n",
      "        0.68098235, -1.5924911 , -1.3250604 ,  0.43980807,  2.4327304 ,\n",
      "        3.5287201 , -1.4149489 ,  1.5843267 ,  3.771257  ,  1.0949484 ,\n",
      "        0.6207143 , -0.28556317, -1.686847  , -0.36540106, -0.81659424,\n",
      "        0.02813843,  0.06049924,  2.7967448 , -1.6114621 ,  2.365563  ,\n",
      "        0.55930924,  1.42466   ,  0.31965595,  2.0437257 , -2.7734647 ,\n",
      "       -2.0958686 , -2.5193267 , -1.7206215 , -1.6354396 , -1.8148007 ,\n",
      "        1.1500183 ,  0.50902647,  0.98710686,  1.2463955 ,  1.4605136 ,\n",
      "        0.19655946, -1.1718817 , -0.29343897,  1.5992666 ,  2.4666214 ,\n",
      "       -0.7057654 ,  2.0305855 , -1.3730818 , -1.2427659 ,  1.5928926 ,\n",
      "       -1.7119251 , -0.12024218, -2.6200502 , -2.722931  ,  0.18956666,\n",
      "       -1.4376905 ,  0.27149355, -1.7015724 ,  0.6775541 ,  1.3308761 ,\n",
      "       -2.1585474 ,  1.1566385 , -0.36987793, -0.2636764 ,  1.6342388 ,\n",
      "       -0.37515023, -1.8444197 ,  1.1191807 , -0.6588566 , -0.4822445 ,\n",
      "        0.8258623 ,  1.4921732 ,  2.2043135 , -0.59929246, -2.9082425 ,\n",
      "        1.0311666 ,  0.11732034, -2.982833  , -2.3622103 ,  2.1569345 ,\n",
      "        2.7410645 ,  0.6142836 ,  0.59619206, -1.4673464 ,  0.254444  ,\n",
      "       -0.14994454, -2.7452981 , -1.965944  , -1.1484406 ,  1.9692649 ],\n",
      "      dtype=float32), array([-0.4876175 ,  0.2635254 ,  0.80154705,  0.6717897 , -1.5068513 ,\n",
      "       -1.2530698 ,  2.174995  ,  1.1815565 ,  1.9201477 , -0.2981911 ,\n",
      "        0.60355306, -1.4727248 , -3.6351516 ,  2.369085  , -1.9266521 ,\n",
      "        0.68812585, -1.5796812 , -1.3052835 ,  0.41254875,  2.4392343 ,\n",
      "        3.5596726 , -1.415661  ,  1.5770993 ,  3.789741  ,  1.1283629 ,\n",
      "        0.6291997 , -0.28762132, -1.6776085 , -0.3741898 , -0.83087903,\n",
      "        0.00637853,  0.04484879,  2.8060083 , -1.6321487 ,  2.3662853 ,\n",
      "        0.5442605 ,  1.4612461 ,  0.33224192,  2.057691  , -2.7805326 ,\n",
      "       -2.140653  , -2.5332003 , -1.7526236 , -1.6357934 , -1.8192797 ,\n",
      "        1.1840589 ,  0.5067709 ,  0.9912198 ,  1.2459908 ,  1.4864335 ,\n",
      "        0.19601181, -1.1608808 , -0.32429582,  1.603391  ,  2.488248  ,\n",
      "       -0.7354327 ,  2.0574532 , -1.4141525 , -1.2560232 ,  1.6303811 ,\n",
      "       -1.7224965 , -0.11905146, -2.645453  , -2.7533786 ,  0.1927269 ,\n",
      "       -1.4293131 ,  0.30118477, -1.7242086 ,  0.70939463,  1.3558793 ,\n",
      "       -2.17766   ,  1.1795659 , -0.40064397, -0.29554486,  1.6698052 ,\n",
      "       -0.37768123, -1.831095  ,  1.147116  , -0.6664543 , -0.5071374 ,\n",
      "        0.82390165,  1.51061   ,  2.2359078 , -0.5778385 , -2.935877  ,\n",
      "        1.0294265 ,  0.10875957, -3.0413017 , -2.3953598 ,  2.1783082 ,\n",
      "        2.7423992 ,  0.6355353 ,  0.62569267, -1.4985836 ,  0.27660692,\n",
      "       -0.13850173, -2.7808688 , -1.9885597 , -1.1683352 ,  2.0056415 ],\n",
      "      dtype=float32), array([-0.70854753, -0.02105552,  0.52486223,  0.37000152, -0.16005383,\n",
      "       -1.1419121 ,  0.5771109 ,  1.5740223 ,  0.42432737, -0.56123704,\n",
      "        0.35354993, -1.1576457 , -2.0451608 ,  1.4856608 , -0.92982787,\n",
      "        0.35282362, -0.10739665, -0.07622982, -0.41122377,  0.4262995 ,\n",
      "        1.1484774 , -0.63025886,  1.1020657 ,  0.7727129 ,  1.2819304 ,\n",
      "        0.18229891, -0.32263973,  0.07509036, -0.15952979, -0.21065906,\n",
      "        0.26467383, -0.6974665 ,  0.7465534 , -0.7808285 ,  0.8359772 ,\n",
      "        0.61251116,  1.5264411 ,  0.05118255,  1.2824992 , -0.54331964,\n",
      "       -0.73390615, -1.4494973 , -1.5376619 , -0.831521  , -0.78073007,\n",
      "        0.97282857,  0.7882098 ,  0.43895817,  0.20033608,  0.921371  ,\n",
      "        0.51020414, -0.6974107 , -0.6120575 ,  1.413757  ,  1.2140505 ,\n",
      "       -0.06406911,  1.6576918 , -0.8027723 , -0.7577184 ,  0.8480358 ,\n",
      "       -1.2867792 , -0.19168542, -0.9661839 , -1.493495  ,  0.4299757 ,\n",
      "        0.24134485,  1.3906598 , -1.5821952 ,  0.63119185,  0.91067874,\n",
      "       -0.8780765 ,  0.62199855, -0.28845787, -0.20104465,  1.1797854 ,\n",
      "       -0.8000313 , -0.5615992 ,  0.5425489 ,  0.02659539, -0.4557505 ,\n",
      "        0.06744718,  0.829401  ,  1.4971843 , -0.2764017 , -1.0580165 ,\n",
      "        0.36468774, -0.40835065, -1.9359424 , -0.94863504,  1.4071989 ,\n",
      "        1.1356066 ,  0.7908288 ,  0.76941746, -1.1532639 ,  0.41074932,\n",
      "        0.4655897 , -1.0917945 , -0.6198723 , -0.8529678 ,  1.4477803 ],\n",
      "      dtype=float32), array([-2.3438814e-01,  1.8141405e-01,  6.0239416e-01,  7.1284378e-01,\n",
      "       -1.1674441e+00, -2.8586400e-01,  1.6183271e+00, -1.3246396e-01,\n",
      "        6.0806412e-01, -2.8743264e-01,  5.1468068e-01, -5.2400374e-01,\n",
      "       -1.2519724e+00,  2.7049538e-01, -7.9308373e-01,  2.9543784e-01,\n",
      "       -8.3576721e-01, -1.0795915e+00, -1.6014028e-01,  1.1092297e+00,\n",
      "        1.3941231e+00, -1.8140677e-01,  1.0677608e+00,  1.8455497e+00,\n",
      "       -4.1414899e-01,  5.9269983e-01, -1.8278481e-03, -7.3705280e-01,\n",
      "       -5.8144201e-02, -1.2753785e-01, -4.0508938e-01,  6.5231072e-03,\n",
      "        1.3644602e+00, -7.1191990e-01,  8.4190613e-01,  3.6094600e-01,\n",
      "        4.1168952e-01,  1.2578610e-01,  2.3106927e-01, -1.2624230e+00,\n",
      "       -4.9034193e-01, -6.1860770e-01, -6.1142731e-01, -7.8599882e-01,\n",
      "       -6.9325256e-01, -2.3451720e-01, -2.4624699e-01,  5.3362346e-01,\n",
      "        8.2697749e-01,  4.1589582e-01, -5.1605541e-01, -2.8566650e-01,\n",
      "        3.5797465e-01, -1.8267423e-01,  7.4944609e-01, -2.3798001e-01,\n",
      "        4.3785253e-01, -6.1918753e-01, -4.6189640e-02,  5.3996432e-01,\n",
      "       -1.7532188e-01, -1.2512934e-01, -8.6384577e-01, -1.2869085e+00,\n",
      "       -8.0328181e-02, -1.1374605e+00, -6.4518249e-01,  2.3951596e-01,\n",
      "       -4.1584978e-01, -1.7652135e-01, -9.1562295e-01,  6.4479059e-01,\n",
      "       -9.2699692e-02,  2.9955593e-01,  1.6063823e-01, -1.8145502e-01,\n",
      "       -6.4590949e-01,  1.6201653e-01, -5.7541978e-01, -5.2231407e-01,\n",
      "        2.7909064e-01,  4.0915483e-01,  8.6602670e-01, -2.0804642e-01,\n",
      "       -1.2317446e+00,  2.0565856e-01,  2.1921261e-01, -8.8134551e-01,\n",
      "       -1.0682986e+00,  5.2983439e-01,  1.0745105e+00,  1.0634858e-01,\n",
      "       -4.4663957e-01, -3.7677345e-01,  4.3085235e-01, -2.7016267e-01,\n",
      "       -1.3343741e+00, -1.2352790e+00,  3.8813433e-01,  1.4289613e-01],\n",
      "      dtype=float32), array([ 0.05283678,  0.51967937,  1.1252372 ,  1.7282693 , -2.6844795 ,\n",
      "        0.2948592 ,  3.764343  , -1.7659485 ,  1.505444  , -0.33059952,\n",
      "        0.89786804, -0.8666035 , -2.5704424 ,  0.18161517, -1.6422607 ,\n",
      "        0.75307155, -2.4238558 , -2.350438  ,  0.23457345,  3.1529033 ,\n",
      "        2.6809633 , -0.54479814,  1.2460095 ,  3.630043  , -0.9832274 ,\n",
      "        1.3203262 , -0.48982126, -2.1698213 ,  0.0542153 , -0.17744482,\n",
      "       -1.3696957 ,  0.2854151 ,  3.0748808 , -1.1992484 ,  1.8466451 ,\n",
      "        0.33436513, -0.2868743 ,  0.7024776 ,  0.91962147, -2.9190407 ,\n",
      "       -0.7151575 , -1.5222996 , -0.8979013 , -1.4765637 , -1.8896372 ,\n",
      "       -1.1028448 , -0.29102802,  0.8685309 ,  1.9293413 ,  0.64934504,\n",
      "       -1.3202175 , -0.53787977,  1.4690703 , -0.59938955,  1.6429421 ,\n",
      "       -0.5922551 ,  0.54747283, -1.1773814 ,  0.42311874,  0.93554187,\n",
      "       -0.31830883, -0.46296582, -2.269003  , -2.8229795 , -0.04245714,\n",
      "       -2.8867004 , -2.1209383 ,  0.06438251, -0.7868273 , -0.7543379 ,\n",
      "       -2.8997035 ,  1.1707877 , -0.38250372,  0.738345  ,  0.1678181 ,\n",
      "       -0.26943734, -1.6823592 , -0.1379014 , -1.6017898 , -1.0409987 ,\n",
      "        1.051614  ,  0.8115879 ,  1.6983781 , -0.8179313 , -2.3461509 ,\n",
      "        0.8797687 , -0.35846668, -1.8408568 , -2.2905903 ,  0.9081824 ,\n",
      "        2.587554  , -0.20667183, -1.193568  , -0.78162074,  0.25828028,\n",
      "       -1.4431442 , -2.9686685 , -1.930675  ,  1.6225061 , -0.31614086],\n",
      "      dtype=float32), array([-0.53567415,  0.05334914,  0.764856  ,  0.7798097 , -0.9513629 ,\n",
      "       -0.81308043,  1.5738018 ,  0.63476515,  1.0593936 , -0.535351  ,\n",
      "        0.47093606, -1.3071144 , -2.65779   ,  1.3575199 , -1.4618558 ,\n",
      "        0.600847  , -1.0853924 , -0.85757136,  0.06420915,  1.5006934 ,\n",
      "        1.7545098 , -0.86656946,  1.2635676 ,  1.7244389 ,  0.84973073,\n",
      "        0.65285784, -0.45977128, -0.74104434,  0.02294587, -0.1488333 ,\n",
      "       -0.07308468, -0.55233324,  1.6779145 , -0.9041716 ,  1.3712887 ,\n",
      "        0.7494555 ,  1.0943764 ,  0.31744584,  1.4301261 , -1.4454007 ,\n",
      "       -0.87183654, -1.7874    , -1.6152092 , -1.3203696 , -1.4508003 ,\n",
      "        0.28126895,  0.68849564,  0.5590979 ,  0.79682785,  0.92230165,\n",
      "        0.11737999, -0.7873863 ,  0.07714203,  1.1378497 ,  1.5805967 ,\n",
      "       -0.22550565,  1.610996  , -1.096144  , -0.50223196,  0.8630979 ,\n",
      "       -1.276633  , -0.42641366, -1.565968  , -2.2213087 ,  0.25314608,\n",
      "       -0.82700014,  0.47464383, -1.5496988 ,  0.29664308,  0.61456984,\n",
      "       -1.8930014 ,  0.89905393, -0.40667745,  0.11450173,  1.0493689 ,\n",
      "       -0.7918179 , -1.0979624 ,  0.32727847, -0.44207823, -0.5684192 ,\n",
      "        0.3939361 ,  0.92098033,  1.8387117 , -0.6771709 , -1.6462591 ,\n",
      "        0.6191858 , -0.6731801 , -2.2216692 , -1.5235096 ,  1.4674815 ,\n",
      "        1.9359831 ,  0.56438005,  0.29815716, -1.2582603 ,  0.16684653,\n",
      "       -0.21065322, -1.8719666 , -0.9610059 , -0.16522503,  1.1452345 ],\n",
      "      dtype=float32), array([-0.31183496,  0.0765353 ,  0.8986191 ,  0.91680247, -1.3694806 ,\n",
      "       -0.25471613,  1.7762506 , -0.30337062,  0.25096244, -0.37752163,\n",
      "        0.5791778 , -0.70104223, -1.1571217 ,  0.03496189, -0.77027553,\n",
      "        0.32123718, -0.7900307 , -1.1878462 , -0.47404626,  0.8957219 ,\n",
      "        1.1008862 ,  0.07745436,  1.2035624 ,  1.4468681 , -0.6137506 ,\n",
      "        0.74955714, -0.12427359, -0.6136978 , -0.06040967,  0.06341119,\n",
      "       -0.5018283 , -0.1493389 ,  1.2309992 , -0.6711215 ,  0.59306693,\n",
      "        0.40340862,  0.38363764,  0.16117035,  0.13747558, -1.2953002 ,\n",
      "       -0.07894061, -0.52094465, -0.7297185 , -0.78005034, -0.5824204 ,\n",
      "       -0.45889208, -0.31295568,  0.62779343,  0.9114209 ,  0.33731574,\n",
      "       -0.67540675, -0.35199934,  0.6894338 , -0.29581556,  0.5267397 ,\n",
      "       -0.01763999,  0.42014056, -0.74112165,  0.05438676,  0.42661223,\n",
      "       -0.05645509, -0.28732783, -0.6688208 , -1.223296  , -0.04933686,\n",
      "       -1.0183369 , -0.6991026 ,  0.39200616, -0.6560944 , -0.3679539 ,\n",
      "       -0.925573  ,  0.7561484 ,  0.05516449,  0.35558966, -0.06218653,\n",
      "       -0.2521519 , -0.37455797, -0.10744649, -0.4953366 , -0.82303363,\n",
      "        0.17511018,  0.25274807,  0.8789099 , -0.2509523 , -1.0188558 ,\n",
      "        0.07670768,  0.06741946, -0.7311985 , -0.849968  ,  0.5961847 ,\n",
      "        1.0768508 ,  0.04871206, -0.6343589 , -0.261765  ,  0.61382097,\n",
      "       -0.12011512, -1.3544884 , -1.2314157 ,  0.75725704, -0.04510952],\n",
      "      dtype=float32)]\n"
     ]
    }
   ],
   "source": [
    "import numpy as np\n",
    "\n",
    "# Function to get the aggregated embedding for a URL\n",
    "def get_url_embedding(url_tokens, model):\n",
    "    embeddings = [model.wv[token] for token in url_tokens if token in model.wv]\n",
    "    if embeddings:\n",
    "        return np.mean(embeddings, axis=0)\n",
    "    else:\n",
    "        return np.zeros(model.vector_size)\n",
    "\n",
    "\n",
    "print(tokenized_urls[:10])\n",
    "\n",
    "# Generate embeddings for each URL\n",
    "url_embeddings = [get_url_embedding(url_token, model) for url_token in tokenized_urls]\n",
    "\n",
    "# Now, url_embeddings is a list of vectors representing each URL\n",
    "print(url_embeddings[:10])"
   ]
  },
  {
   "cell_type": "code",
   "execution_count": 99,
   "metadata": {},
   "outputs": [
    {
     "name": "stdout",
     "output_type": "stream",
     "text": [
      "            train   test  validation   total\n",
      "benign     342325  42748       43030  428103\n",
      "malicious  178627  22371       22090  223088\n"
     ]
    }
   ],
   "source": [
    "from sklearn.model_selection import train_test_split\n",
    "\n",
    "X_train, X_test, y_train, y_test = train_test_split(url_embeddings, df['target'].tolist(), test_size=0.2, random_state=42)\n",
    "X_test, X_val, y_test, y_val = train_test_split(X_test, y_test, test_size=0.5, random_state=42)\n",
    "\n",
    "# Print the basic statistics of the training set\n",
    "data_counts = {\n",
    "    \"train\": pd.Series(y_train).value_counts().to_list(),\n",
    "    \"test\": pd.Series(y_test).value_counts().to_list(),\n",
    "    \"validation\": pd.Series(y_val).value_counts().to_list(),\n",
    "    \"total\": pd.Series(df['target'].tolist()).value_counts().to_list(),\n",
    "}\n",
    "print(pd.DataFrame(data_counts, index=[\"benign\", \"malicious\"]))"
   ]
  },
  {
   "cell_type": "code",
   "execution_count": 100,
   "metadata": {},
   "outputs": [],
   "source": [
    "from sklearn.preprocessing import StandardScaler\n",
    "\n",
    "ss = StandardScaler(copy=True, with_mean=True, with_std=True)\n",
    "\n",
    "# Fit the scaler on the training data\n",
    "ss.fit(X_train)\n",
    "\n",
    "# Transform the training, validation, and testing data\n",
    "X_train = ss.transform(X_train)\n",
    "X_test = ss.transform(X_test)\n",
    "X_val = ss.transform(X_val)"
   ]
  },
  {
   "cell_type": "code",
   "execution_count": null,
   "metadata": {},
   "outputs": [],
   "source": [
    "from sklearn.ensemble import RandomForestClassifier\n",
    "\n",
    "rf_classifier = RandomForestClassifier(n_estimators=100, random_state=42)\n",
    "\n",
    "rf_classifier.fit(X_train, y_train)"
   ]
  }
 ],
 "metadata": {
  "kernelspec": {
   "display_name": "Python 3",
   "language": "python",
   "name": "python3"
  },
  "language_info": {
   "codemirror_mode": {
    "name": "ipython",
    "version": 3
   },
   "file_extension": ".py",
   "mimetype": "text/x-python",
   "name": "python",
   "nbconvert_exporter": "python",
   "pygments_lexer": "ipython3",
   "version": "3.9.13"
  }
 },
 "nbformat": 4,
 "nbformat_minor": 2
}
