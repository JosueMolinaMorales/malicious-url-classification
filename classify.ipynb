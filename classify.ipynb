{
 "cells": [
  {
   "cell_type": "markdown",
   "metadata": {},
   "source": [
    "# Malicious URL CLassification"
   ]
  },
  {
   "cell_type": "code",
   "execution_count": 1,
   "metadata": {},
   "outputs": [],
   "source": [
    "import pandas as pd\n",
    "import numpy as np\n",
    "import re\n",
    "\n",
    "from matplotlib.colors import hex2color\n",
    "import matplotlib.pyplot as plt\n",
    "\n",
    "from gensim.models import Word2Vec\n",
    "from nltk import ngrams\n",
    "\n",
    "from sklearn.ensemble import RandomForestClassifier\n",
    "from sklearn.metrics import classification_report\n",
    "from sklearn.model_selection import train_test_split\n",
    "from sklearn.preprocessing import StandardScaler\n",
    "from sklearn.naive_bayes import GaussianNB\n",
    "\n",
    "import joblib"
   ]
  },
  {
   "cell_type": "markdown",
   "metadata": {},
   "source": [
    "## Import the dataset"
   ]
  },
  {
   "cell_type": "code",
   "execution_count": 2,
   "metadata": {},
   "outputs": [
    {
     "data": {
      "text/plain": [
       "target\n",
       "benign       428103\n",
       "malicious    223088\n",
       "Name: count, dtype: int64"
      ]
     },
     "execution_count": 2,
     "metadata": {},
     "output_type": "execute_result"
    }
   ],
   "source": [
    "# DATASET_FILE = \"./datasets/malicious_phish.csv\" # Original dataset\n",
    "DATASET_FILE = \"./datasets/combined_urls.csv\" # Combined dataset (original + generated)\n",
    "\n",
    "df = pd.read_csv(DATASET_FILE)\n",
    "\n",
    "df.rename(columns={\"type\": \"target\"}, inplace=True)\n",
    "df['target'] = df['target'].map(lambda x: 'malicious' if x != 'benign' else 'benign')\n",
    "\n",
    "df[\"target\"].value_counts()\n"
   ]
  },
  {
   "cell_type": "code",
   "execution_count": 3,
   "metadata": {},
   "outputs": [
    {
     "data": {
      "image/png": "[encoded data removed]",
      "text/plain": [
       "<Figure size 640x480 with 1 Axes>"
      ]
     },
     "metadata": {},
     "output_type": "display_data"
    }
   ],
   "source": [
    "distribution = dict(df[\"target\"].value_counts())\n",
    "\n",
    "# Set up the figure with a white background\n",
    "fig, ax = plt.subplots(facecolor='white')\n",
    "\n",
    "dull_red = hex2color('#E34234')\n",
    "dull_green = hex2color('#32712C')\n",
    "\n",
    "# Plotting the pie chart\n",
    "ax.pie(distribution.values(), labels=distribution.keys(), colors=[dull_green, dull_red], autopct='%1.1f%%', startangle=90)\n",
    "ax.set_title('Class Distribution')\n",
    "ax.axis('equal')  # Equal aspect ratio ensures the pie chart is circular.\n",
    "\n",
    "# Show the pie chart\n",
    "plt.show()"
   ]
  },
  {
   "cell_type": "markdown",
   "metadata": {},
   "source": [
    "## URL Tokenization and Word Embedding with Word2Vec"
   ]
  },
  {
   "cell_type": "code",
   "execution_count": 4,
   "metadata": {},
   "outputs": [],
   "source": [
    "def preprocess_url(url):\n",
    "    # Remove sequential strings following '#' and '?'\n",
    "    url = re.sub(r\"#.*\", \"\", url)\n",
    "    url = re.sub(r\"\\?.*\", \"\", url)\n",
    "\n",
    "    # Split the URL into protocol and rest (domain, path and file)\n",
    "    protocol, rest = url.split(\"://\", 1) if \"://\" in url else (\"\", url)\n",
    "\n",
    "    # Split the rest into domain and rest (path and file)\n",
    "    domain, rest = rest.split(\"/\", 1) if \"/\" in rest else (rest, \"\")\n",
    "    \n",
    "    # Split the rest into path and file\n",
    "    path, file = rest.rsplit(\"/\", 1) if \"/\" in rest else (rest, \"\")\n",
    "\n",
    "    return [protocol, domain, path, file]\n",
    "\n",
    "# Token extraction\n",
    "tokenized_urls = [preprocess_url(url) for url in df['url'].tolist()]\n",
    "\n",
    "# Train Word2Vec model\n",
    "model = Word2Vec(sentences=tokenized_urls, vector_size=100, window=5, min_count=1, workers=4)\n",
    "model.save(\"models/word2vec_model.model\")"
   ]
  },
  {
   "cell_type": "code",
   "execution_count": 5,
   "metadata": {},
   "outputs": [],
   "source": [
    "model = Word2Vec.load(\"models/word2vec_model.model\")"
   ]
  },
  {
   "cell_type": "code",
   "execution_count": 6,
   "metadata": {},
   "outputs": [],
   "source": [
    "# Function to get the aggregated embedding for a URL\n",
    "def get_url_embedding(url_tokens, model):\n",
    "    embeddings = [model.wv[token] for token in url_tokens if token in model.wv]\n",
    "    if embeddings:\n",
    "        return np.mean(embeddings, axis=0)\n",
    "    else:\n",
    "        return np.zeros(model.vector_size)\n",
    "\n",
    "# Generate embeddings for each URL\n",
    "url_embeddings = [get_url_embedding(url_token, model) for url_token in tokenized_urls]"
   ]
  },
  {
   "cell_type": "code",
   "execution_count": 25,
   "metadata": {},
   "outputs": [
    {
     "data": {
      "text/html": [
       "<div>\n",
       "<style scoped>\n",
       "    .dataframe tbody tr th:only-of-type {\n",
       "        vertical-align: middle;\n",
       "    }\n",
       "\n",
       "    .dataframe tbody tr th {\n",
       "        vertical-align: top;\n",
       "    }\n",
       "\n",
       "    .dataframe thead th {\n",
       "        text-align: right;\n",
       "    }\n",
       "</style>\n",
       "<table border=\"1\" class=\"dataframe\">\n",
       "  <thead>\n",
       "    <tr style=\"text-align: right;\">\n",
       "      <th></th>\n",
       "      <th>train</th>\n",
       "      <th>test</th>\n",
       "      <th>validation</th>\n",
       "      <th>total</th>\n",
       "    </tr>\n",
       "  </thead>\n",
       "  <tbody>\n",
       "    <tr>\n",
       "      <th>benign</th>\n",
       "      <td>342325</td>\n",
       "      <td>42748</td>\n",
       "      <td>43030</td>\n",
       "      <td>428103</td>\n",
       "    </tr>\n",
       "    <tr>\n",
       "      <th>malicious</th>\n",
       "      <td>178627</td>\n",
       "      <td>22371</td>\n",
       "      <td>22090</td>\n",
       "      <td>223088</td>\n",
       "    </tr>\n",
       "  </tbody>\n",
       "</table>\n",
       "</div>"
      ],
      "text/plain": [
       "            train   test  validation   total\n",
       "benign     342325  42748       43030  428103\n",
       "malicious  178627  22371       22090  223088"
      ]
     },
     "execution_count": 25,
     "metadata": {},
     "output_type": "execute_result"
    }
   ],
   "source": [
    "X_train, X_test, y_train, y_test = train_test_split(url_embeddings, df['target'].tolist(), test_size=0.2, random_state=42)\n",
    "X_test, X_val, y_test, y_val = train_test_split(X_test, y_test, test_size=0.5, random_state=42)\n",
    "\n",
    "# Print the basic statistics of the training set\n",
    "data_counts = {\n",
    "    \"train\": pd.Series(y_train).value_counts().to_list(),\n",
    "    \"test\": pd.Series(y_test).value_counts().to_list(),\n",
    "    \"validation\": pd.Series(y_val).value_counts().to_list(),\n",
    "    \"total\": pd.Series(df['target'].tolist()).value_counts().to_list(),\n",
    "}\n",
    "pd.DataFrame(data_counts, index=[\"benign\", \"malicious\"])"
   ]
  },
  {
   "cell_type": "markdown",
   "metadata": {},
   "source": [
    "## Naive Bayes Classifier"
   ]
  },
  {
   "cell_type": "code",
   "execution_count": 20,
   "metadata": {},
   "outputs": [
    {
     "data": {
      "text/plain": [
       "['models/nb_classifier.joblib']"
      ]
     },
     "execution_count": 20,
     "metadata": {},
     "output_type": "execute_result"
    }
   ],
   "source": [
    "nb_classifier = GaussianNB()\n",
    "\n",
    "nb_classifier.fit(X_train, y_train)\n",
    "\n",
    "joblib.dump(nb_classifier, \"models/nb_classifier.joblib\")"
   ]
  },
  {
   "cell_type": "code",
   "execution_count": 21,
   "metadata": {},
   "outputs": [
    {
     "data": {
      "text/plain": [
       "0.825289086134615"
      ]
     },
     "execution_count": 21,
     "metadata": {},
     "output_type": "execute_result"
    }
   ],
   "source": [
    "nb_classifier = joblib.load(\"models/nb_classifier.joblib\")\n",
    "\n",
    "nb_classifier.score(X_test, y_test)"
   ]
  },
  {
   "cell_type": "code",
   "execution_count": 22,
   "metadata": {},
   "outputs": [
    {
     "name": "stdout",
     "output_type": "stream",
     "text": [
      "              precision    recall  f1-score   support\n",
      "\n",
      "      benign     0.8530    0.8866    0.8695     42748\n",
      "   malicious     0.7657    0.7081    0.7358     22371\n",
      "\n",
      "    accuracy                         0.8253     65119\n",
      "   macro avg     0.8094    0.7973    0.8026     65119\n",
      "weighted avg     0.8230    0.8253    0.8236     65119\n",
      "\n"
     ]
    }
   ],
   "source": [
    "y_pred = nb_classifier.predict(X_test)\n",
    "\n",
    "print(classification_report(y_test, y_pred, target_names=[\"benign\", \"malicious\"], zero_division=0, digits=4))"
   ]
  },
  {
   "cell_type": "markdown",
   "metadata": {},
   "source": [
    "## Random Forest Classifier"
   ]
  },
  {
   "cell_type": "code",
   "execution_count": 23,
   "metadata": {},
   "outputs": [
    {
     "data": {
      "text/plain": [
       "['models/rf_classifier.joblib']"
      ]
     },
     "execution_count": 23,
     "metadata": {},
     "output_type": "execute_result"
    }
   ],
   "source": [
    "rf_classifier = RandomForestClassifier(n_estimators=10, n_jobs=10)\n",
    "\n",
    "rf_classifier.fit(X_train, y_train)\n",
    "\n",
    "joblib.dump(rf_classifier, \"models/rf_classifier.joblib\")"
   ]
  },
  {
   "cell_type": "code",
   "execution_count": 26,
   "metadata": {},
   "outputs": [
    {
     "data": {
      "text/plain": [
       "0.9078470515970516"
      ]
     },
     "execution_count": 26,
     "metadata": {},
     "output_type": "execute_result"
    }
   ],
   "source": [
    "rf_classifier = joblib.load(\"models/rf_classifier.joblib\")\n",
    "\n",
    "# Tune hyperparameters using X_val and y_val\n",
    "rf_classifier.score(X_val, y_val)"
   ]
  },
  {
   "cell_type": "code",
   "execution_count": 18,
   "metadata": {},
   "outputs": [
    {
     "name": "stdout",
     "output_type": "stream",
     "text": [
      "              precision    recall  f1-score   support\n",
      "\n",
      "      benign     0.8890    0.9800    0.9323     42748\n",
      "   malicious     0.9525    0.7661    0.8492     22371\n",
      "\n",
      "    accuracy                         0.9065     65119\n",
      "   macro avg     0.9207    0.8731    0.8907     65119\n",
      "weighted avg     0.9108    0.9065    0.9037     65119\n",
      "\n"
     ]
    }
   ],
   "source": [
    "y_pred = rf_classifier.predict(X_test)\n",
    "\n",
    "print(classification_report(y_test, y_pred, target_names=[\"benign\", \"malicious\"], zero_division=0, digits=4))"
   ]
  }
 ],
 "metadata": {
  "kernelspec": {
   "display_name": "Python 3",
   "language": "python",
   "name": "python3"
  },
  "language_info": {
   "codemirror_mode": {
    "name": "ipython",
    "version": 3
   },
   "file_extension": ".py",
   "mimetype": "text/x-python",
   "name": "python",
   "nbconvert_exporter": "python",
   "pygments_lexer": "ipython3",
   "version": "3.9.13"
  }
 },
 "nbformat": 4,
 "nbformat_minor": 2
}
